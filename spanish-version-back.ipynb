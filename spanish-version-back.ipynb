{
 "cells": [
  {
   "cell_type": "code",
   "execution_count": 218,
   "metadata": {},
   "outputs": [
    {
     "name": "stdout",
     "output_type": "stream",
     "text": [
      "Once deleted, variables cannot be recovered. Proceed (y/[n])? y\n"
     ]
    }
   ],
   "source": [
    "%reset"
   ]
  },
  {
   "cell_type": "markdown",
   "metadata": {},
   "source": [
    "\n",
    "<font color=blue> _Objetivo del curso: Aprender las diferentes fases del Aprendizaje de Datos (ML) a traves de ejemplos reales. Esto con el fin de obtener una idea clara de lo que significa la ciencia de datos._\n",
    "</font>"
   ]
  },
  {
   "cell_type": "markdown",
   "metadata": {},
   "source": [
    "La mejor manera de entender los procesos involucrados en la ciencia de datos, es a traves de ejemplos realistas (concretos).\n",
    "\n",
    "\n",
    "Estaremos trabajando sobre un jupyter notebook: Usaremos Python en cada nivel de la tuberia \n",
    "\n",
    "La librerias principales de Python involucradas en este curso son \n",
    "\n",
    "* <b>Pandas</b> para la manipulacion e ingesta de los datos\n",
    "* <b>Matplotlib</b> and <b> seaborn</b> para la vizualización de los datos\n",
    "* <b>Numpy</b> para computo de arreglos multidimensionales\n",
    "* <b>sklearn</b> para el aprendizaje de maquinas y el modelado predectivo\n",
    "\n",
    "### Proceso de Instalación \n",
    "\n",
    "Una manera sencilla de installar esta paqueteria es descargar e instalar \n",
    "la distribucion <a href=\"http://conda.pydata.org/docs/install/quick.html#os-x-miniconda-install\">Conda</a> que encapsula a todas las librerias mencionadas. Esta distribución esta disponible en todas las plataformas (Windows, Linux and Mac OSX).\n",
    "\n",
    "### Nota \n",
    "\n",
    "..."
   ]
  },
  {
   "cell_type": "markdown",
   "metadata": {},
   "source": [
    "### El conjunto de datos (Wisconsin) del Cáncer de mama\n",
    "\n",
    "Las características se calculan a partir de una imagen digitalizada de un aspirado con aguja fina (FNA) de una masa mamaria. Describen las características de los núcleos celulares presentes en la imagen. El espacio tridimensional es el descrito en: [K. P. Bennett y O. L. Mangasarian: \"Discriminación robusta de la programación lineal de dos conjuntos linealmente inseparables\", Métodos de optimización y software 1, 1992, 23-34].\n",
    "\n",
    "Del artículo mencionado leemos:\n",
    "\n",
    "\"Cada registro representa información de seguimiento para un caso cáncer de mama. \n",
    "Estos  pacientes han sido atentidos por el Dr. Wolberg desde el año 1984,\n",
    "están incluídos sólo aquellos casos que exhiben cáncer de mama y donde no hay evidencia de metástasis \n",
    "a distancia en el tiempo de diagnóstico.\"\n",
    "\n",
    "\n",
    "![](images/fna-cell.png)\n",
    "\n",
    "<h5 align=\"center\">Imagen ampliada de un seno maligno obtenida con la biopsia FNA (Fine Needle Aspiration). Los núcleos de células visibles se han esbozado con la ayuda de un programa de ajuste de curvas. El sistema también calcula varias características para cada núcleo y diagnostica con precisión la muestra. El proceso de diagnóstico interactivo toma alrededor de 5 minutos por muestra.</h5> \n",
    "\n",
    "FUENTE: K. P. Bennett and O. L. Mangasarian: \"Robust Linear Programming Discrimination of Two Linearly Inseparable Sets\", Optimization Methods and Software 1, 1992, 23-34\n",
    "\n",
    "Los datos se encuentran en el repositorio de aprendizaje automático de UCI: https://archive.ics.uci.edu/ml/datasets/Breast+Cancer+Wisconsin+%28Diagnostic%29\n",
    "***"
   ]
  },
  {
   "cell_type": "markdown",
   "metadata": {},
   "source": [
    "<h2 align=\"center\">El flujo de trabajo en un proyecto de ciencia de datos </h2>\n",
    "\n",
    "El conjunto de  lineamientos espeficos ('ducto') en un proyecto de  ciencia de datos varia dependiendo de la naturaleza del mismo. Aqui presentamos un ducto estandar:\n",
    "\n",
    "\n",
    "### Analisis exploratorio de los datos\n",
    "\n",
    " - Extracción: Cargar el conjunto de datos y echarles una mirada\n",
    " - Limpieza: Encontrar los valores que faltan\n",
    " - Visualización: Crear algunas gráficas interesantes que nos permitan idendificar correlaciones y \n",
    " - Suposiciones: Formular hipótesis sobre los gráficos\n",
    " \n",
    "### Ingeniería de características\n",
    "\n",
    " - Cargar\n",
    " - Extraer\n",
    " - Procesar\n",
    " \n",
    "### Modelado de datos\n",
    " - Seleccion de Caracteristicas.  Reducir el numero de caracterisiticas trae los siguientes beneficios:\n",
    "     - Reduce el numero de redundancias en los datos\n",
    "     - Acelera los procesos de entrenamiento \n",
    "     - Reduce el 'overfitting'\n",
    "     - Muestreo de modelos base\n",
    " - Muestreo de los modelos base   \n",
    " ***"
   ]
  },
  {
   "cell_type": "markdown",
   "metadata": {},
   "source": [
    "_Ajustamos un poco el estilo de este libro trabajo para tener graficas centradas_ "
   ]
  },
  {
   "cell_type": "code",
   "execution_count": 219,
   "metadata": {},
   "outputs": [],
   "source": [
    "from IPython.core.display import HTML\n",
    "HTML(\"\"\"\n",
    "<style>\n",
    ".output_png {\n",
    "    display: table-cell;\n",
    "    text-align: center;\n",
    "    vertical-align: middle;\n",
    "}\n",
    "</style>\n",
    "\"\"\");"
   ]
  },
  {
   "cell_type": "markdown",
   "metadata": {},
   "source": [
    "\n",
    "## Análisis exploratorio de los datos\n",
    "\n",
    "  **Extracción** \n",
    "  \n",
    "  Obtenemos los datos directamente del URL oficial del repositorio de datos. Para ello importamos la librería _wget_"
   ]
  },
  {
   "cell_type": "code",
   "execution_count": 220,
   "metadata": {
    "scrolled": true
   },
   "outputs": [
    {
     "ename": "SyntaxError",
     "evalue": "invalid syntax (<ipython-input-220-881c5dc7925d>, line 1)",
     "output_type": "error",
     "traceback": [
      "\u001b[0;36m  File \u001b[0;32m\"<ipython-input-220-881c5dc7925d>\"\u001b[0;36m, line \u001b[0;32m1\u001b[0m\n\u001b[0;31m    _import wget\u001b[0m\n\u001b[0m               ^\u001b[0m\n\u001b[0;31mSyntaxError\u001b[0m\u001b[0;31m:\u001b[0m invalid syntax\n"
     ]
    }
   ],
   "source": [
    "_import wget\n",
    "\n",
    "url = 'https://archive.ics.uci.edu/ml/machine-learning-databases/breast-cancer-wisconsin/wdbc.data'  \n",
    "local_path = './data/wisconsin.csv'\n",
    "\n",
    "#descargamos la informacion de url y la guardamos en local_path\n",
    "wget.download(url, local_path) "
   ]
  },
  {
   "cell_type": "markdown",
   "metadata": {},
   "source": [
    "En el sitio del repositorio podemos encontrar un\n",
    "<a href=\"https://archive.ics.uci.edu/ml/machine-learning-databases/breast-cancer-wisconsin/wdbc.names\"> archivo </a> con las caracterisiticas de la  información\n",
    "\n",
    "Más espeficamente el punto siete nos describe los atributos de los datos. Los primeros dos atributos (o caracteristicas) son:\n",
    "\n",
    "    1) ID \n",
    "    2) Diagnosis (M = Maligno, B = Benigno)\n",
    "\n",
    "Se calculan diez características de valor real para cada núcleo celular:\n",
    "\n",
    "    a) radio (media de las distancias desde el centro a los puntos en el perímetro)\n",
    "    b) textura (desviación estándar de los valores de escala de grises)\n",
    "    c) perímetro\n",
    "    d) área\n",
    "    e) suavidad (variación local en longitudes de radio)\n",
    "    f) compacidad (perímetro ^ 2 / área - 1.0)\n",
    "    g) concavidad (severidad de las porciones cóncavas del contorno)\n",
    "    h) puntos cóncavos (número de porciones cóncavas del contorno)\n",
    "    i) simetria\n",
    "    j) dimensión fractal (\"aproximación de la línea de costa\" - 1)\n",
    "\n",
    "\n",
    "    La media, el error estándar y el \"peor\" o mayor (media de las tres\n",
    "    los valores más grandes) de estas características se calcularon para cada imagen,\n",
    "    dando como resultado 30 características. Por ejemplo, el campo 3 es Radio medio, campo\n",
    "    13 es el radio SE, el campo 23 es el peor radio.\n",
    "    \n",
    "    Todos los valores de las funciones se registran con cuatro dígitos significativos."
   ]
  },
  {
   "cell_type": "markdown",
   "metadata": {},
   "source": [
    "#### Caracteristicas de los datos \n",
    "***\n",
    "Los datos del archivo que descargamos, no poseen las correspondientes etiquetas (_a) radio, b) textura,..._).Tenemos 30  mediciones, el ID y el diagnostico. Entonces tenemos un número total de 32 atributos.  Las siguientes instrucciónes nos crea un arreglo de caracteristicas.  "
   ]
  },
  {
   "cell_type": "code",
   "execution_count": 221,
   "metadata": {},
   "outputs": [],
   "source": [
    "features =  ['a:radio','b:textura','c:perimetro', \\\n",
    "             'd:area', 'e:suavidad','f:compactes', \\\n",
    "             'g:concavidad', 'h:puntos concavos','i:simetria',\\\n",
    "             'j:dimension fractal']\n",
    "\n",
    "columns_all = ['ID', 'Diagnostico'] + \\\n",
    "              list(map(lambda x: x[2:]+'_promedio', features)) + \\\n",
    "              list(map(lambda x: x[2:]+'_error', features)) +  \\\n",
    "              list(map(lambda x: x[2:]+'_peor', features))"
   ]
  },
  {
   "cell_type": "markdown",
   "metadata": {},
   "source": [
    "El manejo de los datos estará a cargo de la libreria **Pandas** \n",
    "\n",
    "Cargamos el conjunto de datos:"
   ]
  },
  {
   "cell_type": "code",
   "execution_count": 222,
   "metadata": {},
   "outputs": [],
   "source": [
    "import pandas as pd\n",
    "\n",
    "data = pd.read_csv('./data/wisconsin.csv', names = columns_all);\n",
    "data = data.reset_index().drop(columns =['index'])"
   ]
  },
  {
   "cell_type": "markdown",
   "metadata": {},
   "source": [
    "Echamos un vistazo a los datos. Listamos un numero aleatorio de 5 registros:"
   ]
  },
  {
   "cell_type": "code",
   "execution_count": 223,
   "metadata": {
    "scrolled": true
   },
   "outputs": [
    {
     "data": {
      "text/html": [
       "<div>\n",
       "<style scoped>\n",
       "    .dataframe tbody tr th:only-of-type {\n",
       "        vertical-align: middle;\n",
       "    }\n",
       "\n",
       "    .dataframe tbody tr th {\n",
       "        vertical-align: top;\n",
       "    }\n",
       "\n",
       "    .dataframe thead th {\n",
       "        text-align: right;\n",
       "    }\n",
       "</style>\n",
       "<table border=\"1\" class=\"dataframe\">\n",
       "  <thead>\n",
       "    <tr style=\"text-align: right;\">\n",
       "      <th></th>\n",
       "      <th>ID</th>\n",
       "      <th>Diagnostico</th>\n",
       "      <th>radio_promedio</th>\n",
       "      <th>textura_promedio</th>\n",
       "      <th>perimetro_promedio</th>\n",
       "      <th>area_promedio</th>\n",
       "      <th>suavidad_promedio</th>\n",
       "      <th>compactes_promedio</th>\n",
       "      <th>concavidad_promedio</th>\n",
       "      <th>puntos concavos_promedio</th>\n",
       "      <th>...</th>\n",
       "      <th>radio_peor</th>\n",
       "      <th>textura_peor</th>\n",
       "      <th>perimetro_peor</th>\n",
       "      <th>area_peor</th>\n",
       "      <th>suavidad_peor</th>\n",
       "      <th>compactes_peor</th>\n",
       "      <th>concavidad_peor</th>\n",
       "      <th>puntos concavos_peor</th>\n",
       "      <th>simetria_peor</th>\n",
       "      <th>dimension fractal_peor</th>\n",
       "    </tr>\n",
       "  </thead>\n",
       "  <tbody>\n",
       "    <tr>\n",
       "      <th>3</th>\n",
       "      <td>84348301</td>\n",
       "      <td>M</td>\n",
       "      <td>11.420</td>\n",
       "      <td>20.38</td>\n",
       "      <td>77.58</td>\n",
       "      <td>386.1</td>\n",
       "      <td>0.14250</td>\n",
       "      <td>0.28390</td>\n",
       "      <td>0.24140</td>\n",
       "      <td>0.10520</td>\n",
       "      <td>...</td>\n",
       "      <td>14.91</td>\n",
       "      <td>26.50</td>\n",
       "      <td>98.87</td>\n",
       "      <td>567.7</td>\n",
       "      <td>0.2098</td>\n",
       "      <td>0.8663</td>\n",
       "      <td>0.68690</td>\n",
       "      <td>0.25750</td>\n",
       "      <td>0.6638</td>\n",
       "      <td>0.17300</td>\n",
       "    </tr>\n",
       "    <tr>\n",
       "      <th>68</th>\n",
       "      <td>859471</td>\n",
       "      <td>B</td>\n",
       "      <td>9.029</td>\n",
       "      <td>17.33</td>\n",
       "      <td>58.79</td>\n",
       "      <td>250.5</td>\n",
       "      <td>0.10660</td>\n",
       "      <td>0.14130</td>\n",
       "      <td>0.31300</td>\n",
       "      <td>0.04375</td>\n",
       "      <td>...</td>\n",
       "      <td>10.31</td>\n",
       "      <td>22.65</td>\n",
       "      <td>65.50</td>\n",
       "      <td>324.7</td>\n",
       "      <td>0.1482</td>\n",
       "      <td>0.4365</td>\n",
       "      <td>1.25200</td>\n",
       "      <td>0.17500</td>\n",
       "      <td>0.4228</td>\n",
       "      <td>0.11750</td>\n",
       "    </tr>\n",
       "    <tr>\n",
       "      <th>41</th>\n",
       "      <td>855563</td>\n",
       "      <td>M</td>\n",
       "      <td>10.950</td>\n",
       "      <td>21.35</td>\n",
       "      <td>71.90</td>\n",
       "      <td>371.1</td>\n",
       "      <td>0.12270</td>\n",
       "      <td>0.12180</td>\n",
       "      <td>0.10440</td>\n",
       "      <td>0.05669</td>\n",
       "      <td>...</td>\n",
       "      <td>12.84</td>\n",
       "      <td>35.34</td>\n",
       "      <td>87.22</td>\n",
       "      <td>514.0</td>\n",
       "      <td>0.1909</td>\n",
       "      <td>0.2698</td>\n",
       "      <td>0.40230</td>\n",
       "      <td>0.14240</td>\n",
       "      <td>0.2964</td>\n",
       "      <td>0.09606</td>\n",
       "    </tr>\n",
       "    <tr>\n",
       "      <th>303</th>\n",
       "      <td>892657</td>\n",
       "      <td>B</td>\n",
       "      <td>10.490</td>\n",
       "      <td>18.61</td>\n",
       "      <td>66.86</td>\n",
       "      <td>334.3</td>\n",
       "      <td>0.10680</td>\n",
       "      <td>0.06678</td>\n",
       "      <td>0.02297</td>\n",
       "      <td>0.01780</td>\n",
       "      <td>...</td>\n",
       "      <td>11.06</td>\n",
       "      <td>24.54</td>\n",
       "      <td>70.76</td>\n",
       "      <td>375.4</td>\n",
       "      <td>0.1413</td>\n",
       "      <td>0.1044</td>\n",
       "      <td>0.08423</td>\n",
       "      <td>0.06528</td>\n",
       "      <td>0.2213</td>\n",
       "      <td>0.07842</td>\n",
       "    </tr>\n",
       "    <tr>\n",
       "      <th>434</th>\n",
       "      <td>908469</td>\n",
       "      <td>B</td>\n",
       "      <td>14.860</td>\n",
       "      <td>16.94</td>\n",
       "      <td>94.89</td>\n",
       "      <td>673.7</td>\n",
       "      <td>0.08924</td>\n",
       "      <td>0.07074</td>\n",
       "      <td>0.03346</td>\n",
       "      <td>0.02877</td>\n",
       "      <td>...</td>\n",
       "      <td>16.31</td>\n",
       "      <td>20.54</td>\n",
       "      <td>102.30</td>\n",
       "      <td>777.5</td>\n",
       "      <td>0.1218</td>\n",
       "      <td>0.1550</td>\n",
       "      <td>0.12200</td>\n",
       "      <td>0.07971</td>\n",
       "      <td>0.2525</td>\n",
       "      <td>0.06827</td>\n",
       "    </tr>\n",
       "  </tbody>\n",
       "</table>\n",
       "<p>5 rows × 32 columns</p>\n",
       "</div>"
      ],
      "text/plain": [
       "           ID Diagnostico  radio_promedio  textura_promedio  \\\n",
       "3    84348301           M          11.420             20.38   \n",
       "68     859471           B           9.029             17.33   \n",
       "41     855563           M          10.950             21.35   \n",
       "303    892657           B          10.490             18.61   \n",
       "434    908469           B          14.860             16.94   \n",
       "\n",
       "     perimetro_promedio  area_promedio  suavidad_promedio  compactes_promedio  \\\n",
       "3                 77.58          386.1            0.14250             0.28390   \n",
       "68                58.79          250.5            0.10660             0.14130   \n",
       "41                71.90          371.1            0.12270             0.12180   \n",
       "303               66.86          334.3            0.10680             0.06678   \n",
       "434               94.89          673.7            0.08924             0.07074   \n",
       "\n",
       "     concavidad_promedio  puntos concavos_promedio           ...            \\\n",
       "3                0.24140                   0.10520           ...             \n",
       "68               0.31300                   0.04375           ...             \n",
       "41               0.10440                   0.05669           ...             \n",
       "303              0.02297                   0.01780           ...             \n",
       "434              0.03346                   0.02877           ...             \n",
       "\n",
       "     radio_peor  textura_peor  perimetro_peor  area_peor  suavidad_peor  \\\n",
       "3         14.91         26.50           98.87      567.7         0.2098   \n",
       "68        10.31         22.65           65.50      324.7         0.1482   \n",
       "41        12.84         35.34           87.22      514.0         0.1909   \n",
       "303       11.06         24.54           70.76      375.4         0.1413   \n",
       "434       16.31         20.54          102.30      777.5         0.1218   \n",
       "\n",
       "     compactes_peor  concavidad_peor  puntos concavos_peor  simetria_peor  \\\n",
       "3            0.8663          0.68690               0.25750         0.6638   \n",
       "68           0.4365          1.25200               0.17500         0.4228   \n",
       "41           0.2698          0.40230               0.14240         0.2964   \n",
       "303          0.1044          0.08423               0.06528         0.2213   \n",
       "434          0.1550          0.12200               0.07971         0.2525   \n",
       "\n",
       "     dimension fractal_peor  \n",
       "3                   0.17300  \n",
       "68                  0.11750  \n",
       "41                  0.09606  \n",
       "303                 0.07842  \n",
       "434                 0.06827  \n",
       "\n",
       "[5 rows x 32 columns]"
      ]
     },
     "execution_count": 223,
     "metadata": {},
     "output_type": "execute_result"
    }
   ],
   "source": [
    "data.sample(5)"
   ]
  },
  {
   "cell_type": "markdown",
   "metadata": {},
   "source": [
    "\n",
    "### Analisis exploratorio de los datos\n",
    "\n",
    "  **Limpieza** \n",
    "  \n",
    "  El analisis de datos en el aprendizaje de las maquinas supone uniformadidad de los datos para un mismo atributo.\n",
    "  Cuando extraemos los datos pueden que no esten presentados  de manera unfirme (por ejemlo alguna medicion pudo no haberse efectuado y en ese casa el atributo para ese registro presenta un valor nulo) y un proceso de limpieza se vuelve mandatorio.\n",
    "  En nuestro caso, el <a href=\"https://archive.ics.uci.edu/ml/machine-learning-databases/breast-cancer-wisconsin/wdbc.names\"> archivo de atributos </a> especifica que:\n",
    "  \n",
    "      8. Valores de atributo faltantes: ninguno\n",
    "      \n",
    "Por lo que no hay datos faltantes. \n",
    "\n",
    "***\n",
    "La limpieza de datos es tan importante para el analisis de datos, que **Pandas** tiene cargados metodos de deteccion de valores nulos:"
   ]
  },
  {
   "cell_type": "code",
   "execution_count": 255,
   "metadata": {
    "scrolled": true
   },
   "outputs": [
    {
     "data": {
      "text/plain": [
       "Diagnostico                   0\n",
       "radio_promedio                0\n",
       "textura_promedio              0\n",
       "perimetro_promedio            0\n",
       "area_promedio                 0\n",
       "suavidad_promedio             0\n",
       "compactes_promedio            0\n",
       "concavidad_promedio           0\n",
       "puntos concavos_promedio      0\n",
       "simetria_promedio             0\n",
       "dimension fractal_promedio    0\n",
       "radio_error                   0\n",
       "textura_error                 0\n",
       "perimetro_error               0\n",
       "area_error                    0\n",
       "suavidad_error                0\n",
       "compactes_error               0\n",
       "concavidad_error              0\n",
       "puntos concavos_error         0\n",
       "simetria_error                0\n",
       "dimension fractal_error       0\n",
       "radio_peor                    0\n",
       "textura_peor                  0\n",
       "perimetro_peor                0\n",
       "area_peor                     0\n",
       "suavidad_peor                 0\n",
       "compactes_peor                0\n",
       "concavidad_peor               0\n",
       "puntos concavos_peor          0\n",
       "simetria_peor                 0\n",
       "dimension fractal_peor        0\n",
       "Benigno                       0\n",
       "Maligno                       0\n",
       "dtype: int64"
      ]
     },
     "execution_count": 255,
     "metadata": {},
     "output_type": "execute_result"
    }
   ],
   "source": [
    "data.isnull().sum()"
   ]
  },
  {
   "cell_type": "markdown",
   "metadata": {},
   "source": [
    "Vemos que efectivamente todos los registros estan llenos"
   ]
  },
  {
   "cell_type": "code",
   "execution_count": 224,
   "metadata": {
    "scrolled": true
   },
   "outputs": [
    {
     "name": "stdout",
     "output_type": "stream",
     "text": [
      "El numero total de valores nulos es:\n",
      "0\n"
     ]
    }
   ],
   "source": [
    "nan_arreglo = data.isna()\n",
    "nulos = 0\n",
    "\n",
    "for column in data:\n",
    "    \n",
    "    #Contamos el numero de valores nulos de cada column     \n",
    "    nulos = nulos + data[nan_arreglo[column]==True].shape[0]\n",
    "        \n",
    "    \n",
    "print('El numero total de valores nulos es:')\n",
    "print(nulos)\n",
    " "
   ]
  },
  {
   "cell_type": "markdown",
   "metadata": {},
   "source": [
    "\n",
    "  **Limpieza** \n",
    "  \n",
    "  ***\n",
    "  \n",
    "  NO ocuparemos el 'ID' del paciente. Por lo que lo eleminamos de nuestros datos.\n",
    "    _Aqui nos quedamos_"
   ]
  },
  {
   "cell_type": "code",
   "execution_count": 225,
   "metadata": {},
   "outputs": [
    {
     "data": {
      "text/html": [
       "<div>\n",
       "<style scoped>\n",
       "    .dataframe tbody tr th:only-of-type {\n",
       "        vertical-align: middle;\n",
       "    }\n",
       "\n",
       "    .dataframe tbody tr th {\n",
       "        vertical-align: top;\n",
       "    }\n",
       "\n",
       "    .dataframe thead th {\n",
       "        text-align: right;\n",
       "    }\n",
       "</style>\n",
       "<table border=\"1\" class=\"dataframe\">\n",
       "  <thead>\n",
       "    <tr style=\"text-align: right;\">\n",
       "      <th></th>\n",
       "      <th>Diagnostico</th>\n",
       "      <th>radio_promedio</th>\n",
       "      <th>textura_promedio</th>\n",
       "      <th>perimetro_promedio</th>\n",
       "      <th>area_promedio</th>\n",
       "      <th>suavidad_promedio</th>\n",
       "      <th>compactes_promedio</th>\n",
       "      <th>concavidad_promedio</th>\n",
       "      <th>puntos concavos_promedio</th>\n",
       "      <th>simetria_promedio</th>\n",
       "      <th>...</th>\n",
       "      <th>radio_peor</th>\n",
       "      <th>textura_peor</th>\n",
       "      <th>perimetro_peor</th>\n",
       "      <th>area_peor</th>\n",
       "      <th>suavidad_peor</th>\n",
       "      <th>compactes_peor</th>\n",
       "      <th>concavidad_peor</th>\n",
       "      <th>puntos concavos_peor</th>\n",
       "      <th>simetria_peor</th>\n",
       "      <th>dimension fractal_peor</th>\n",
       "    </tr>\n",
       "  </thead>\n",
       "  <tbody>\n",
       "    <tr>\n",
       "      <th>472</th>\n",
       "      <td>B</td>\n",
       "      <td>14.92</td>\n",
       "      <td>14.93</td>\n",
       "      <td>96.45</td>\n",
       "      <td>686.9</td>\n",
       "      <td>0.08098</td>\n",
       "      <td>0.08549</td>\n",
       "      <td>0.05539</td>\n",
       "      <td>0.03221</td>\n",
       "      <td>0.1687</td>\n",
       "      <td>...</td>\n",
       "      <td>17.18</td>\n",
       "      <td>18.22</td>\n",
       "      <td>112.0</td>\n",
       "      <td>906.6</td>\n",
       "      <td>0.1065</td>\n",
       "      <td>0.2791</td>\n",
       "      <td>0.3151</td>\n",
       "      <td>0.1147</td>\n",
       "      <td>0.2688</td>\n",
       "      <td>0.08273</td>\n",
       "    </tr>\n",
       "    <tr>\n",
       "      <th>535</th>\n",
       "      <td>M</td>\n",
       "      <td>20.55</td>\n",
       "      <td>20.86</td>\n",
       "      <td>137.80</td>\n",
       "      <td>1308.0</td>\n",
       "      <td>0.10460</td>\n",
       "      <td>0.17390</td>\n",
       "      <td>0.20850</td>\n",
       "      <td>0.13220</td>\n",
       "      <td>0.2127</td>\n",
       "      <td>...</td>\n",
       "      <td>24.30</td>\n",
       "      <td>25.48</td>\n",
       "      <td>160.2</td>\n",
       "      <td>1809.0</td>\n",
       "      <td>0.1268</td>\n",
       "      <td>0.3135</td>\n",
       "      <td>0.4433</td>\n",
       "      <td>0.2148</td>\n",
       "      <td>0.3077</td>\n",
       "      <td>0.07569</td>\n",
       "    </tr>\n",
       "  </tbody>\n",
       "</table>\n",
       "<p>2 rows × 31 columns</p>\n",
       "</div>"
      ],
      "text/plain": [
       "    Diagnostico  radio_promedio  textura_promedio  perimetro_promedio  \\\n",
       "472           B           14.92             14.93               96.45   \n",
       "535           M           20.55             20.86              137.80   \n",
       "\n",
       "     area_promedio  suavidad_promedio  compactes_promedio  \\\n",
       "472          686.9            0.08098             0.08549   \n",
       "535         1308.0            0.10460             0.17390   \n",
       "\n",
       "     concavidad_promedio  puntos concavos_promedio  simetria_promedio  \\\n",
       "472              0.05539                   0.03221             0.1687   \n",
       "535              0.20850                   0.13220             0.2127   \n",
       "\n",
       "              ...            radio_peor  textura_peor  perimetro_peor  \\\n",
       "472           ...                 17.18         18.22           112.0   \n",
       "535           ...                 24.30         25.48           160.2   \n",
       "\n",
       "     area_peor  suavidad_peor  compactes_peor  concavidad_peor  \\\n",
       "472      906.6         0.1065          0.2791           0.3151   \n",
       "535     1809.0         0.1268          0.3135           0.4433   \n",
       "\n",
       "     puntos concavos_peor  simetria_peor  dimension fractal_peor  \n",
       "472                0.1147         0.2688                 0.08273  \n",
       "535                0.2148         0.3077                 0.07569  \n",
       "\n",
       "[2 rows x 31 columns]"
      ]
     },
     "execution_count": 225,
     "metadata": {},
     "output_type": "execute_result"
    }
   ],
   "source": [
    "data = data.drop(columns='ID')\n",
    "data.sample(2)"
   ]
  },
  {
   "cell_type": "markdown",
   "metadata": {},
   "source": [
    "\n",
    "### Analisis exploratorio de los datos\n",
    "\n",
    "  **Visualización: Tablas** \n",
    "  \n",
    "Pandas te permite tener una descripción estadística simple de alto nivel de las características numéricas. Esto se puede hacer usando el método de descripción.\n",
    "   "
   ]
  },
  {
   "cell_type": "code",
   "execution_count": 226,
   "metadata": {
    "scrolled": true
   },
   "outputs": [
    {
     "data": {
      "text/html": [
       "<div>\n",
       "<style scoped>\n",
       "    .dataframe tbody tr th:only-of-type {\n",
       "        vertical-align: middle;\n",
       "    }\n",
       "\n",
       "    .dataframe tbody tr th {\n",
       "        vertical-align: top;\n",
       "    }\n",
       "\n",
       "    .dataframe thead th {\n",
       "        text-align: right;\n",
       "    }\n",
       "</style>\n",
       "<table border=\"1\" class=\"dataframe\">\n",
       "  <thead>\n",
       "    <tr style=\"text-align: right;\">\n",
       "      <th></th>\n",
       "      <th>radio_promedio</th>\n",
       "      <th>textura_promedio</th>\n",
       "      <th>perimetro_promedio</th>\n",
       "      <th>area_promedio</th>\n",
       "      <th>suavidad_promedio</th>\n",
       "      <th>compactes_promedio</th>\n",
       "      <th>concavidad_promedio</th>\n",
       "      <th>puntos concavos_promedio</th>\n",
       "      <th>simetria_promedio</th>\n",
       "      <th>dimension fractal_promedio</th>\n",
       "      <th>...</th>\n",
       "      <th>radio_peor</th>\n",
       "      <th>textura_peor</th>\n",
       "      <th>perimetro_peor</th>\n",
       "      <th>area_peor</th>\n",
       "      <th>suavidad_peor</th>\n",
       "      <th>compactes_peor</th>\n",
       "      <th>concavidad_peor</th>\n",
       "      <th>puntos concavos_peor</th>\n",
       "      <th>simetria_peor</th>\n",
       "      <th>dimension fractal_peor</th>\n",
       "    </tr>\n",
       "  </thead>\n",
       "  <tbody>\n",
       "    <tr>\n",
       "      <th>count</th>\n",
       "      <td>569.000000</td>\n",
       "      <td>569.000000</td>\n",
       "      <td>569.000000</td>\n",
       "      <td>569.000000</td>\n",
       "      <td>569.000000</td>\n",
       "      <td>569.000000</td>\n",
       "      <td>569.000000</td>\n",
       "      <td>569.000000</td>\n",
       "      <td>569.000000</td>\n",
       "      <td>569.000000</td>\n",
       "      <td>...</td>\n",
       "      <td>569.000000</td>\n",
       "      <td>569.000000</td>\n",
       "      <td>569.000000</td>\n",
       "      <td>569.000000</td>\n",
       "      <td>569.000000</td>\n",
       "      <td>569.000000</td>\n",
       "      <td>569.000000</td>\n",
       "      <td>569.000000</td>\n",
       "      <td>569.000000</td>\n",
       "      <td>569.000000</td>\n",
       "    </tr>\n",
       "    <tr>\n",
       "      <th>mean</th>\n",
       "      <td>14.127292</td>\n",
       "      <td>19.289649</td>\n",
       "      <td>91.969033</td>\n",
       "      <td>654.889104</td>\n",
       "      <td>0.096360</td>\n",
       "      <td>0.104341</td>\n",
       "      <td>0.088799</td>\n",
       "      <td>0.048919</td>\n",
       "      <td>0.181162</td>\n",
       "      <td>0.062798</td>\n",
       "      <td>...</td>\n",
       "      <td>16.269190</td>\n",
       "      <td>25.677223</td>\n",
       "      <td>107.261213</td>\n",
       "      <td>880.583128</td>\n",
       "      <td>0.132369</td>\n",
       "      <td>0.254265</td>\n",
       "      <td>0.272188</td>\n",
       "      <td>0.114606</td>\n",
       "      <td>0.290076</td>\n",
       "      <td>0.083946</td>\n",
       "    </tr>\n",
       "    <tr>\n",
       "      <th>std</th>\n",
       "      <td>3.524049</td>\n",
       "      <td>4.301036</td>\n",
       "      <td>24.298981</td>\n",
       "      <td>351.914129</td>\n",
       "      <td>0.014064</td>\n",
       "      <td>0.052813</td>\n",
       "      <td>0.079720</td>\n",
       "      <td>0.038803</td>\n",
       "      <td>0.027414</td>\n",
       "      <td>0.007060</td>\n",
       "      <td>...</td>\n",
       "      <td>4.833242</td>\n",
       "      <td>6.146258</td>\n",
       "      <td>33.602542</td>\n",
       "      <td>569.356993</td>\n",
       "      <td>0.022832</td>\n",
       "      <td>0.157336</td>\n",
       "      <td>0.208624</td>\n",
       "      <td>0.065732</td>\n",
       "      <td>0.061867</td>\n",
       "      <td>0.018061</td>\n",
       "    </tr>\n",
       "    <tr>\n",
       "      <th>min</th>\n",
       "      <td>6.981000</td>\n",
       "      <td>9.710000</td>\n",
       "      <td>43.790000</td>\n",
       "      <td>143.500000</td>\n",
       "      <td>0.052630</td>\n",
       "      <td>0.019380</td>\n",
       "      <td>0.000000</td>\n",
       "      <td>0.000000</td>\n",
       "      <td>0.106000</td>\n",
       "      <td>0.049960</td>\n",
       "      <td>...</td>\n",
       "      <td>7.930000</td>\n",
       "      <td>12.020000</td>\n",
       "      <td>50.410000</td>\n",
       "      <td>185.200000</td>\n",
       "      <td>0.071170</td>\n",
       "      <td>0.027290</td>\n",
       "      <td>0.000000</td>\n",
       "      <td>0.000000</td>\n",
       "      <td>0.156500</td>\n",
       "      <td>0.055040</td>\n",
       "    </tr>\n",
       "    <tr>\n",
       "      <th>25%</th>\n",
       "      <td>11.700000</td>\n",
       "      <td>16.170000</td>\n",
       "      <td>75.170000</td>\n",
       "      <td>420.300000</td>\n",
       "      <td>0.086370</td>\n",
       "      <td>0.064920</td>\n",
       "      <td>0.029560</td>\n",
       "      <td>0.020310</td>\n",
       "      <td>0.161900</td>\n",
       "      <td>0.057700</td>\n",
       "      <td>...</td>\n",
       "      <td>13.010000</td>\n",
       "      <td>21.080000</td>\n",
       "      <td>84.110000</td>\n",
       "      <td>515.300000</td>\n",
       "      <td>0.116600</td>\n",
       "      <td>0.147200</td>\n",
       "      <td>0.114500</td>\n",
       "      <td>0.064930</td>\n",
       "      <td>0.250400</td>\n",
       "      <td>0.071460</td>\n",
       "    </tr>\n",
       "    <tr>\n",
       "      <th>50%</th>\n",
       "      <td>13.370000</td>\n",
       "      <td>18.840000</td>\n",
       "      <td>86.240000</td>\n",
       "      <td>551.100000</td>\n",
       "      <td>0.095870</td>\n",
       "      <td>0.092630</td>\n",
       "      <td>0.061540</td>\n",
       "      <td>0.033500</td>\n",
       "      <td>0.179200</td>\n",
       "      <td>0.061540</td>\n",
       "      <td>...</td>\n",
       "      <td>14.970000</td>\n",
       "      <td>25.410000</td>\n",
       "      <td>97.660000</td>\n",
       "      <td>686.500000</td>\n",
       "      <td>0.131300</td>\n",
       "      <td>0.211900</td>\n",
       "      <td>0.226700</td>\n",
       "      <td>0.099930</td>\n",
       "      <td>0.282200</td>\n",
       "      <td>0.080040</td>\n",
       "    </tr>\n",
       "    <tr>\n",
       "      <th>75%</th>\n",
       "      <td>15.780000</td>\n",
       "      <td>21.800000</td>\n",
       "      <td>104.100000</td>\n",
       "      <td>782.700000</td>\n",
       "      <td>0.105300</td>\n",
       "      <td>0.130400</td>\n",
       "      <td>0.130700</td>\n",
       "      <td>0.074000</td>\n",
       "      <td>0.195700</td>\n",
       "      <td>0.066120</td>\n",
       "      <td>...</td>\n",
       "      <td>18.790000</td>\n",
       "      <td>29.720000</td>\n",
       "      <td>125.400000</td>\n",
       "      <td>1084.000000</td>\n",
       "      <td>0.146000</td>\n",
       "      <td>0.339100</td>\n",
       "      <td>0.382900</td>\n",
       "      <td>0.161400</td>\n",
       "      <td>0.317900</td>\n",
       "      <td>0.092080</td>\n",
       "    </tr>\n",
       "    <tr>\n",
       "      <th>max</th>\n",
       "      <td>28.110000</td>\n",
       "      <td>39.280000</td>\n",
       "      <td>188.500000</td>\n",
       "      <td>2501.000000</td>\n",
       "      <td>0.163400</td>\n",
       "      <td>0.345400</td>\n",
       "      <td>0.426800</td>\n",
       "      <td>0.201200</td>\n",
       "      <td>0.304000</td>\n",
       "      <td>0.097440</td>\n",
       "      <td>...</td>\n",
       "      <td>36.040000</td>\n",
       "      <td>49.540000</td>\n",
       "      <td>251.200000</td>\n",
       "      <td>4254.000000</td>\n",
       "      <td>0.222600</td>\n",
       "      <td>1.058000</td>\n",
       "      <td>1.252000</td>\n",
       "      <td>0.291000</td>\n",
       "      <td>0.663800</td>\n",
       "      <td>0.207500</td>\n",
       "    </tr>\n",
       "  </tbody>\n",
       "</table>\n",
       "<p>8 rows × 30 columns</p>\n",
       "</div>"
      ],
      "text/plain": [
       "       radio_promedio  textura_promedio  perimetro_promedio  area_promedio  \\\n",
       "count      569.000000        569.000000          569.000000     569.000000   \n",
       "mean        14.127292         19.289649           91.969033     654.889104   \n",
       "std          3.524049          4.301036           24.298981     351.914129   \n",
       "min          6.981000          9.710000           43.790000     143.500000   \n",
       "25%         11.700000         16.170000           75.170000     420.300000   \n",
       "50%         13.370000         18.840000           86.240000     551.100000   \n",
       "75%         15.780000         21.800000          104.100000     782.700000   \n",
       "max         28.110000         39.280000          188.500000    2501.000000   \n",
       "\n",
       "       suavidad_promedio  compactes_promedio  concavidad_promedio  \\\n",
       "count         569.000000          569.000000           569.000000   \n",
       "mean            0.096360            0.104341             0.088799   \n",
       "std             0.014064            0.052813             0.079720   \n",
       "min             0.052630            0.019380             0.000000   \n",
       "25%             0.086370            0.064920             0.029560   \n",
       "50%             0.095870            0.092630             0.061540   \n",
       "75%             0.105300            0.130400             0.130700   \n",
       "max             0.163400            0.345400             0.426800   \n",
       "\n",
       "       puntos concavos_promedio  simetria_promedio  \\\n",
       "count                569.000000         569.000000   \n",
       "mean                   0.048919           0.181162   \n",
       "std                    0.038803           0.027414   \n",
       "min                    0.000000           0.106000   \n",
       "25%                    0.020310           0.161900   \n",
       "50%                    0.033500           0.179200   \n",
       "75%                    0.074000           0.195700   \n",
       "max                    0.201200           0.304000   \n",
       "\n",
       "       dimension fractal_promedio           ...            radio_peor  \\\n",
       "count                  569.000000           ...            569.000000   \n",
       "mean                     0.062798           ...             16.269190   \n",
       "std                      0.007060           ...              4.833242   \n",
       "min                      0.049960           ...              7.930000   \n",
       "25%                      0.057700           ...             13.010000   \n",
       "50%                      0.061540           ...             14.970000   \n",
       "75%                      0.066120           ...             18.790000   \n",
       "max                      0.097440           ...             36.040000   \n",
       "\n",
       "       textura_peor  perimetro_peor    area_peor  suavidad_peor  \\\n",
       "count    569.000000      569.000000   569.000000     569.000000   \n",
       "mean      25.677223      107.261213   880.583128       0.132369   \n",
       "std        6.146258       33.602542   569.356993       0.022832   \n",
       "min       12.020000       50.410000   185.200000       0.071170   \n",
       "25%       21.080000       84.110000   515.300000       0.116600   \n",
       "50%       25.410000       97.660000   686.500000       0.131300   \n",
       "75%       29.720000      125.400000  1084.000000       0.146000   \n",
       "max       49.540000      251.200000  4254.000000       0.222600   \n",
       "\n",
       "       compactes_peor  concavidad_peor  puntos concavos_peor  simetria_peor  \\\n",
       "count      569.000000       569.000000            569.000000     569.000000   \n",
       "mean         0.254265         0.272188              0.114606       0.290076   \n",
       "std          0.157336         0.208624              0.065732       0.061867   \n",
       "min          0.027290         0.000000              0.000000       0.156500   \n",
       "25%          0.147200         0.114500              0.064930       0.250400   \n",
       "50%          0.211900         0.226700              0.099930       0.282200   \n",
       "75%          0.339100         0.382900              0.161400       0.317900   \n",
       "max          1.058000         1.252000              0.291000       0.663800   \n",
       "\n",
       "       dimension fractal_peor  \n",
       "count              569.000000  \n",
       "mean                 0.083946  \n",
       "std                  0.018061  \n",
       "min                  0.055040  \n",
       "25%                  0.071460  \n",
       "50%                  0.080040  \n",
       "75%                  0.092080  \n",
       "max                  0.207500  \n",
       "\n",
       "[8 rows x 30 columns]"
      ]
     },
     "execution_count": 226,
     "metadata": {},
     "output_type": "execute_result"
    }
   ],
   "source": [
    "data.describe()"
   ]
  },
  {
   "cell_type": "markdown",
   "metadata": {},
   "source": [
    "En _estadística_, la desviación estándar (representada por el índice **std** en la anterior tabla) es una medida que se utiliza para cuantificar la cantidad de variación o dispersión de un conjunto de valores de datos.  Una baja desviación estándar indica que los puntos de datos tienden a estar cerca de la media (también llamado el valor esperado) del conjunto, mientras que una alta desviación estándar indica que los puntos de datos se extienden en un rango más amplio de valores"
   ]
  },
  {
   "cell_type": "markdown",
   "metadata": {},
   "source": [
    "**Visualización: Gráficas** \n",
    "\n",
    "La visualización de los datos a través gráficas facilita la comprensión de la información que se quiere analizar. \n",
    "\n",
    "Los datos de nuestros atributos son valores númericos. Para darnos una idea de como se encuentran distribuídos los agrupamos en intervalos especificos. Después generamos gráficas para estás distribuiciones\n",
    "***"
   ]
  },
  {
   "cell_type": "markdown",
   "metadata": {},
   "source": [
    "El manejo de números con decimales se realiza usando la librería **numpy**\n",
    "\n",
    "La siguiente funcion agrupa los datos de una columna en intevarlos iguales:"
   ]
  },
  {
   "cell_type": "code",
   "execution_count": 227,
   "metadata": {},
   "outputs": [],
   "source": [
    "import numpy as np\n",
    "\n",
    "def divide_en_intervalos(columna,tajada):\n",
    "    \n",
    "    minimo = data[columna].min()\n",
    "    maximo = data[columna].max()\n",
    "    \n",
    "    intervalos = np.linspace(minimo, maximo,tajada)\n",
    "        \n",
    "    return pd.cut(np.float64(data[columna]), intervalos,precision=4,right=True,include_lowest=True)\n",
    "   "
   ]
  },
  {
   "cell_type": "markdown",
   "metadata": {},
   "source": [
    "Con esta funcion, construimos otra funcion que itera sobre todas las columnas de nuestros datos numericos (quitamos la columna 'Diagnostico'):"
   ]
  },
  {
   "cell_type": "code",
   "execution_count": 228,
   "metadata": {},
   "outputs": [],
   "source": [
    "def intervalos(tajada):\n",
    "    \n",
    "    data_numerical = data.drop(columns=['Diagnostico'])\n",
    "    intervalos = {}\n",
    "    \n",
    "    for column in data_numerical:\n",
    "        \n",
    "        intervalos[column] = divide_en_intervalos(column,tajada + 1)      \n",
    "    \n",
    "    return intervalos\n"
   ]
  },
  {
   "cell_type": "markdown",
   "metadata": {},
   "source": [
    "_EJEMPLO._ El caso de 5 intervalos para el _radio promedio_:"
   ]
  },
  {
   "cell_type": "code",
   "execution_count": 229,
   "metadata": {
    "scrolled": true
   },
   "outputs": [
    {
     "name": "stdout",
     "output_type": "stream",
     "text": [
      "                    counts     freqs\n",
      "categories                          \n",
      "(6.9809, 11.2068]       98  0.172232\n",
      "(11.2068, 15.4326]     314  0.551845\n",
      "(15.4326, 19.6584]     105  0.184534\n",
      "(19.6584, 23.8842]      45  0.079086\n",
      "(23.8842, 28.11]         7  0.012302\n"
     ]
    }
   ],
   "source": [
    "print(intervalos(5)['radio_promedio'].describe())        "
   ]
  },
  {
   "cell_type": "markdown",
   "metadata": {},
   "source": [
    "**Visualización: Gráficas** \n",
    "\n",
    "La visualización de los datos a través gráficas facilita la comprensión de la información que se quiere analizar. \n",
    "\n",
    "Los datos de nuestros atributos son valores númericos. Para darnos una idea de como se encuentran distribuídos los agrupamos en intervalos especificos. Después generamos gráficas para estás distribuiciones\n",
    "***"
   ]
  },
  {
   "cell_type": "markdown",
   "metadata": {},
   "source": [
    "Creamos la columnas booleanas _Benigno_ y _Maligno_\n",
    "\n",
    "La columna _Benigno_ es igual a 1 si el diagnostico es 'Benigno' y 0 si es 'Maligno'\n",
    "\n",
    "La columna _Maligno_ es igual a 0 si el diagnostico es 'Benigno' y 1 si es 'Maligno'"
   ]
  },
  {
   "cell_type": "code",
   "execution_count": 230,
   "metadata": {},
   "outputs": [],
   "source": [
    "data['Benigno'] = (data['Diagnostico']=='B')*1\n",
    "data['Maligno'] = 1 - data['Benigno']"
   ]
  },
  {
   "cell_type": "markdown",
   "metadata": {},
   "source": [
    "¿Qué relación guardan la forma del núcleo de la célula con la incidencia en el cancer?\n",
    "\n",
    "Para darnos una idea, hacemos un histograma de los casos positivos y negativos agrupados en los grupos de tamaño que escogemimos anteriormente\n",
    "\n",
    "**pandas** trae incorporada rutinas de graficos que importa de la librería **matplotlib** (especificamente la sublibrería **pyplot**) y la librería **seaborn**"
   ]
  },
  {
   "cell_type": "code",
   "execution_count": 246,
   "metadata": {},
   "outputs": [],
   "source": [
    "from matplotlib import pyplot as plt\n",
    "import seaborn as sns"
   ]
  },
  {
   "cell_type": "markdown",
   "metadata": {},
   "source": [
    "Definimos una función que genera un histograma que compara casos benignos y malignos en cada conjunto de intervalos númericos de un atributo en específico:"
   ]
  },
  {
   "cell_type": "code",
   "execution_count": 247,
   "metadata": {},
   "outputs": [],
   "source": [
    "def histograma_benigno_maligno(intervalo,atributo):\n",
    "    \n",
    "    agrupado = data.groupby(intervalo[atributo])[['Benigno','Maligno']].sum();\n",
    "    ax = agrupado.plot.bar(\n",
    "                          rot=0, \\\n",
    "                          figsize=(5, 5),\\\n",
    "                          width = 0.9, \\\n",
    "                          stacked=True, \n",
    "                          title = atributo,   \n",
    "                          color=['blue', 'r']\n",
    "                        );\n",
    "    \n",
    "    xlabels = [str(np.around(c.left,decimals=2)) + ' a ' + str(np.around(c.right,decimals=2)) \\\n",
    "               for c in  agrupado.index.values];\n",
    "\n",
    "    ax.set_xticklabels(xlabels,fontsize=8);\n",
    "    \n",
    "    return ax"
   ]
  },
  {
   "cell_type": "markdown",
   "metadata": {},
   "source": [
    "Por ejemplo, el histograma para el radio promedio divido en 4 tajadas es:"
   ]
  },
  {
   "cell_type": "code",
   "execution_count": 242,
   "metadata": {},
   "outputs": [
    {
     "data": {
      "image/png": "[encoded data removed]",
      "text/plain": [
       "<matplotlib.figure.Figure at 0x7f55fbfff400>"
      ]
     },
     "metadata": {},
     "output_type": "display_data"
    }
   ],
   "source": [
    "ax = histograma_benigno_maligno(intervalos(4),'radio_promedio')\n",
    "plt.show()"
   ]
  },
  {
   "cell_type": "markdown",
   "metadata": {},
   "source": [
    "Vemos que los radios mas pequeños representan mayores casosde cancer. Mientras que los radios mas grandes son casi todos casos malignos. Veamos si esta tendencia se mantiene al nivel de areas y perimetros: "
   ]
  },
  {
   "cell_type": "code",
   "execution_count": 243,
   "metadata": {
    "scrolled": true
   },
   "outputs": [
    {
     "data": {
      "image/png": "[encoded data removed]",
      "text/plain": [
       "<matplotlib.figure.Figure at 0x7f55fbf59438>"
      ]
     },
     "metadata": {},
     "output_type": "display_data"
    }
   ],
   "source": [
    "ax = histograma_benigno_maligno(intervalos(4),'perimetro_promedio' )"
   ]
  },
  {
   "cell_type": "code",
   "execution_count": 244,
   "metadata": {},
   "outputs": [
    {
     "data": {
      "image/png": "[encoded data removed]",
      "text/plain": [
       "<matplotlib.figure.Figure at 0x7f55fbe73908>"
      ]
     },
     "metadata": {},
     "output_type": "display_data"
    }
   ],
   "source": [
    "ax = histograma_benigno_maligno(intervalos(4),'area_promedio' )"
   ]
  },
  {
   "cell_type": "markdown",
   "metadata": {},
   "source": [
    "Vemos que en caso del área se agudiza más la tendencia discutida en el caso del radio:\n",
    "\n",
    "1) La mayoría de los casos de cancer aparecen en areas pequeñas.\n",
    "\n",
    "2) Las areas pequeñas representan en su mayoría casos benignos, mientras que las areas grandes representan en su mayoría casos malignos"
   ]
  },
  {
   "cell_type": "code",
   "execution_count": 254,
   "metadata": {},
   "outputs": [
    {
     "data": {
      "text/html": [
       "<div>\n",
       "<style scoped>\n",
       "    .dataframe tbody tr th:only-of-type {\n",
       "        vertical-align: middle;\n",
       "    }\n",
       "\n",
       "    .dataframe tbody tr th {\n",
       "        vertical-align: top;\n",
       "    }\n",
       "\n",
       "    .dataframe thead th {\n",
       "        text-align: right;\n",
       "    }\n",
       "</style>\n",
       "<table border=\"1\" class=\"dataframe\">\n",
       "  <thead>\n",
       "    <tr style=\"text-align: right;\">\n",
       "      <th></th>\n",
       "      <th>Benigno</th>\n",
       "      <th>Maligno</th>\n",
       "    </tr>\n",
       "  </thead>\n",
       "  <tbody>\n",
       "  </tbody>\n",
       "</table>\n",
       "</div>"
      ],
      "text/plain": [
       "Empty DataFrame\n",
       "Columns: [Benigno, Maligno]\n",
       "Index: []"
      ]
     },
     "execution_count": 254,
     "metadata": {},
     "output_type": "execute_result"
    }
   ],
   "source": [
    "agrupado = data.groupby(intervalos(4))[['Benigno','Maligno']].sum()\n",
    "agrupado.head()"
   ]
  },
  {
   "cell_type": "code",
   "execution_count": 251,
   "metadata": {},
   "outputs": [
    {
     "ename": "NameError",
     "evalue": "name 'intervalo' is not defined",
     "output_type": "error",
     "traceback": [
      "\u001b[0;31m---------------------------------------------------------------------------\u001b[0m",
      "\u001b[0;31mNameError\u001b[0m                                 Traceback (most recent call last)",
      "\u001b[0;32m<ipython-input-251-fe6ce6619b3d>\u001b[0m in \u001b[0;36m<module>\u001b[0;34m()\u001b[0m\n\u001b[0;32m----> 1\u001b[0;31m \u001b[0magrupado\u001b[0m \u001b[0;34m=\u001b[0m \u001b[0mdata\u001b[0m\u001b[0;34m.\u001b[0m\u001b[0mgroupby\u001b[0m\u001b[0;34m(\u001b[0m\u001b[0mintervalo\u001b[0m\u001b[0;34m(\u001b[0m\u001b[0;36m4\u001b[0m\u001b[0;34m)\u001b[0m\u001b[0;34m)\u001b[0m\u001b[0;34m[\u001b[0m\u001b[0;34m[\u001b[0m\u001b[0;34m'Benigno'\u001b[0m\u001b[0;34m,\u001b[0m\u001b[0;34m'Maligno'\u001b[0m\u001b[0;34m]\u001b[0m\u001b[0;34m]\u001b[0m\u001b[0;34m.\u001b[0m\u001b[0msum\u001b[0m\u001b[0;34m(\u001b[0m\u001b[0;34m)\u001b[0m\u001b[0;34m\u001b[0m\u001b[0m\n\u001b[0m\u001b[1;32m      2\u001b[0m \u001b[0;34m\u001b[0m\u001b[0m\n\u001b[1;32m      3\u001b[0m \u001b[0mfig\u001b[0m \u001b[0;34m=\u001b[0m \u001b[0mplt\u001b[0m\u001b[0;34m.\u001b[0m\u001b[0mfigure\u001b[0m\u001b[0;34m(\u001b[0m\u001b[0mfigsize\u001b[0m\u001b[0;34m=\u001b[0m\u001b[0;34m(\u001b[0m\u001b[0;36m25\u001b[0m\u001b[0;34m,\u001b[0m \u001b[0;36m7\u001b[0m\u001b[0;34m)\u001b[0m\u001b[0;34m)\u001b[0m\u001b[0;34m\u001b[0m\u001b[0m\n\u001b[1;32m      4\u001b[0m sns.violinplot(x='area_promedio', y='radio_promedio', \n\u001b[1;32m      5\u001b[0m                \u001b[0mhue\u001b[0m\u001b[0;34m=\u001b[0m\u001b[0;34m'Benigno'\u001b[0m\u001b[0;34m,\u001b[0m \u001b[0mdata\u001b[0m\u001b[0;34m=\u001b[0m\u001b[0magrupado\u001b[0m\u001b[0;34m,\u001b[0m\u001b[0;34m\u001b[0m\u001b[0m\n",
      "\u001b[0;31mNameError\u001b[0m: name 'intervalo' is not defined"
     ]
    }
   ],
   "source": [
    "agrupado = data.groupby(intervalo(4))[['Benigno','Maligno']].sum()\n",
    "\n",
    "fig = plt.figure(figsize=(25, 7))\n",
    "sns.violinplot(x='area_promedio', y='radio_promedio', \n",
    "               hue='Benigno', data=agrupado, \n",
    "               split=True,\n",
    "               palette={0: \"r\", 1: \"g\"}\n",
    "              );"
   ]
  },
  {
   "cell_type": "markdown",
   "metadata": {},
   "source": [
    "Obtenemos el sorpresivo resultado que no\n",
    "\n",
    "**Visualización: Gráficas** \n",
    "\n",
    "La visualización de los datos a través gráficas facilita la comprensión de la información que se quiere analizar. \n",
    "\n",
    "Los datos de nuestros atributos son valores númericos. Para darnos una idea de como se encuentran distribuídos los agrupamos en intervalos especificos. Después generamos gráficas para estás distribuiciones\n",
    "***"
   ]
  },
  {
   "cell_type": "code",
   "execution_count": 39,
   "metadata": {},
   "outputs": [
    {
     "data": {
      "image/png": "[encoded data removed]",
      "text/plain": [
       "<matplotlib.figure.Figure at 0x7fb4b1c83860>"
      ]
     },
     "metadata": {},
     "output_type": "display_data"
    },
    {
     "data": {
      "image/png": "[encoded data removed]",
      "text/plain": [
       "<matplotlib.figure.Figure at 0x7fb4b1c804e0>"
      ]
     },
     "metadata": {},
     "output_type": "display_data"
    },
    {
     "data": {
      "image/png": "[encoded data removed]",
      "text/plain": [
       "<matplotlib.figure.Figure at 0x7fb4b1c952b0>"
      ]
     },
     "metadata": {},
     "output_type": "display_data"
    },
    {
     "data": {
      "image/png": "[encoded data removed]",
      "text/plain": [
       "<matplotlib.figure.Figure at 0x7fb4b1ce7358>"
      ]
     },
     "metadata": {},
     "output_type": "display_data"
    },
    {
     "data": {
      "image/png": "[encoded data removed]",
      "text/plain": [
       "<matplotlib.figure.Figure at 0x7fb4ba4b4518>"
      ]
     },
     "metadata": {},
     "output_type": "display_data"
    },
    {
     "data": {
      "image/png": "[encoded data removed]",
      "text/plain": [
       "<matplotlib.figure.Figure at 0x7fb4b854e860>"
      ]
     },
     "metadata": {},
     "output_type": "display_data"
    },
    {
     "data": {
      "image/png": "[encoded data removed]",
      "text/plain": [
       "<matplotlib.figure.Figure at 0x7fb4b854eb00>"
      ]
     },
     "metadata": {},
     "output_type": "display_data"
    },
    {
     "data": {
      "image/png": "[encoded data removed]",
      "text/plain": [
       "<matplotlib.figure.Figure at 0x7fb4b1d486a0>"
      ]
     },
     "metadata": {},
     "output_type": "display_data"
    },
    {
     "data": {
      "image/png": "[encoded data removed]",
      "text/plain": [
       "<matplotlib.figure.Figure at 0x7fb4e08da7f0>"
      ]
     },
     "metadata": {},
     "output_type": "display_data"
    },
    {
     "data": {
      "image/png": "[encoded data removed]",
      "text/plain": [
       "<matplotlib.figure.Figure at 0x7fb4d097a4e0>"
      ]
     },
     "metadata": {},
     "output_type": "display_data"
    },
    {
     "data": {
      "image/png": "[encoded data removed]",
      "text/plain": [
       "<matplotlib.figure.Figure at 0x7fb4b1b3b4e0>"
      ]
     },
     "metadata": {},
     "output_type": "display_data"
    },
    {
     "data": {
      "image/png": "[encoded data removed]",
      "text/plain": [
       "<matplotlib.figure.Figure at 0x7fb4d09d65c0>"
      ]
     },
     "metadata": {},
     "output_type": "display_data"
    },
    {
     "data": {
      "image/png": "[encoded data removed]",
      "text/plain": [
       "<matplotlib.figure.Figure at 0x7fb4b1afa518>"
      ]
     },
     "metadata": {},
     "output_type": "display_data"
    },
    {
     "data": {
      "image/png": "[encoded data removed]",
      "text/plain": [
       "<matplotlib.figure.Figure at 0x7fb4b1af54a8>"
      ]
     },
     "metadata": {},
     "output_type": "display_data"
    },
    {
     "data": {
      "image/png": "[encoded data removed]",
      "text/plain": [
       "<matplotlib.figure.Figure at 0x7fb4d0a57cf8>"
      ]
     },
     "metadata": {},
     "output_type": "display_data"
    },
    {
     "data": {
      "image/png": "[encoded data removed]",
      "text/plain": [
       "<matplotlib.figure.Figure at 0x7fb4b8550320>"
      ]
     },
     "metadata": {},
     "output_type": "display_data"
    },
    {
     "data": {
      "image/png": "[encoded data removed]",
      "text/plain": [
       "<matplotlib.figure.Figure at 0x7fb4b1d2c080>"
      ]
     },
     "metadata": {},
     "output_type": "display_data"
    },
    {
     "data": {
      "image/png": "[encoded data removed]",
      "text/plain": [
       "<matplotlib.figure.Figure at 0x7fb4b8549470>"
      ]
     },
     "metadata": {},
     "output_type": "display_data"
    },
    {
     "data": {
      "image/png": "[encoded data removed]",
      "text/plain": [
       "<matplotlib.figure.Figure at 0x7fb4e084b390>"
      ]
     },
     "metadata": {},
     "output_type": "display_data"
    },
    {
     "data": {
      "image/png": "[encoded data removed]",
      "text/plain": [
       "<matplotlib.figure.Figure at 0x7fb4b1cce400>"
      ]
     },
     "metadata": {},
     "output_type": "display_data"
    },
    {
     "data": {
      "image/png": "[encoded data removed]",
      "text/plain": [
       "<matplotlib.figure.Figure at 0x7fb4b1c36ba8>"
      ]
     },
     "metadata": {},
     "output_type": "display_data"
    },
    {
     "data": {
      "image/png": "[encoded data removed]",
      "text/plain": [
       "<matplotlib.figure.Figure at 0x7fb4b1d62b00>"
      ]
     },
     "metadata": {},
     "output_type": "display_data"
    },
    {
     "data": {
      "image/png": "[encoded data removed]",
      "text/plain": [
       "<matplotlib.figure.Figure at 0x7fb4d0a1c6a0>"
      ]
     },
     "metadata": {},
     "output_type": "display_data"
    },
    {
     "data": {
      "image/png": "[encoded data removed]",
      "text/plain": [
       "<matplotlib.figure.Figure at 0x7fb4d0a3d3c8>"
      ]
     },
     "metadata": {},
     "output_type": "display_data"
    },
    {
     "data": {
      "image/png": "[encoded data removed]",
      "text/plain": [
       "<matplotlib.figure.Figure at 0x7fb4b1cc32e8>"
      ]
     },
     "metadata": {},
     "output_type": "display_data"
    },
    {
     "data": {
      "image/png": "[encoded data removed]",
      "text/plain": [
       "<matplotlib.figure.Figure at 0x7fb4b1ca9a58>"
      ]
     },
     "metadata": {},
     "output_type": "display_data"
    },
    {
     "data": {
      "image/png": "[encoded data removed]",
      "text/plain": [
       "<matplotlib.figure.Figure at 0x7fb4d09c40b8>"
      ]
     },
     "metadata": {},
     "output_type": "display_data"
    },
    {
     "data": {
      "image/png": "[encoded data removed]",
      "text/plain": [
       "<matplotlib.figure.Figure at 0x7fb4b1c2f7b8>"
      ]
     },
     "metadata": {},
     "output_type": "display_data"
    },
    {
     "data": {
      "image/png": "[encoded data removed]",
      "text/plain": [
       "<matplotlib.figure.Figure at 0x7fb4b1d14da0>"
      ]
     },
     "metadata": {},
     "output_type": "display_data"
    },
    {
     "data": {
      "image/png": "[encoded data removed]",
      "text/plain": [
       "<matplotlib.figure.Figure at 0x7fb4b84f5048>"
      ]
     },
     "metadata": {},
     "output_type": "display_data"
    }
   ],
   "source": [
    "from matplotlib import pyplot as plt\n",
    "\n",
    "for column in intervalos:\n",
    "    frequency = intervalos[column].value_counts()\n",
    "    frequency =  frequency[frequency != 0]\n",
    "    ax = frequency.plot.bar(rot=0, color=\"gray\", figsize=(6,4),stacked=True, width =0.9)\n",
    "    xlabels = [str(np.around(c.left,decimals=2)) + ' to ' + str(np.around(c.right,decimals=1)) \\\n",
    "               for c in frequency.index.values]\n",
    "    ax.set_xticklabels(xlabels,fontsize=6)\n",
    "    plt.show()"
   ]
  },
  {
   "cell_type": "markdown",
   "metadata": {},
   "source": [
    "**Radio Promedio** \n",
    "\n",
    "La visualización de los datos a través gráficas facilita la comprensión de la información que se quiere analizar. \n",
    "\n",
    "Los datos de nuestros atributos son valores númericos. Para darnos una idea de como se encuentran distribuídos los agrupamos en intervalos especificos. Después generamos gráficas para estás distribuiciones\n",
    "***"
   ]
  },
  {
   "cell_type": "code",
   "execution_count": 41,
   "metadata": {
    "scrolled": false
   },
   "outputs": [
    {
     "data": {
      "text/html": [
       "<div>\n",
       "<style scoped>\n",
       "    .dataframe tbody tr th:only-of-type {\n",
       "        vertical-align: middle;\n",
       "    }\n",
       "\n",
       "    .dataframe tbody tr th {\n",
       "        vertical-align: top;\n",
       "    }\n",
       "\n",
       "    .dataframe thead th {\n",
       "        text-align: right;\n",
       "    }\n",
       "</style>\n",
       "<table border=\"1\" class=\"dataframe\">\n",
       "  <thead>\n",
       "    <tr style=\"text-align: right;\">\n",
       "      <th></th>\n",
       "      <th>ID</th>\n",
       "      <th>radio_promedio</th>\n",
       "      <th>textura_promedio</th>\n",
       "      <th>perimetro_promedio</th>\n",
       "      <th>area_promedio</th>\n",
       "      <th>suavidad_promedio</th>\n",
       "      <th>compactes_promedio</th>\n",
       "      <th>concavidad_promedio</th>\n",
       "      <th>puntos concavos_promedio</th>\n",
       "      <th>simetria_promedio</th>\n",
       "      <th>...</th>\n",
       "      <th>radio_peor</th>\n",
       "      <th>textura_peor</th>\n",
       "      <th>perimetro_peor</th>\n",
       "      <th>area_peor</th>\n",
       "      <th>suavidad_peor</th>\n",
       "      <th>compactes_peor</th>\n",
       "      <th>concavidad_peor</th>\n",
       "      <th>puntos concavos_peor</th>\n",
       "      <th>simetria_peor</th>\n",
       "      <th>dimension fractal_peor</th>\n",
       "    </tr>\n",
       "    <tr>\n",
       "      <th>Diagnostico</th>\n",
       "      <th></th>\n",
       "      <th></th>\n",
       "      <th></th>\n",
       "      <th></th>\n",
       "      <th></th>\n",
       "      <th></th>\n",
       "      <th></th>\n",
       "      <th></th>\n",
       "      <th></th>\n",
       "      <th></th>\n",
       "      <th></th>\n",
       "      <th></th>\n",
       "      <th></th>\n",
       "      <th></th>\n",
       "      <th></th>\n",
       "      <th></th>\n",
       "      <th></th>\n",
       "      <th></th>\n",
       "      <th></th>\n",
       "      <th></th>\n",
       "      <th></th>\n",
       "    </tr>\n",
       "  </thead>\n",
       "  <tbody>\n",
       "    <tr>\n",
       "      <th>B</th>\n",
       "      <td>2.654382e+07</td>\n",
       "      <td>12.146524</td>\n",
       "      <td>17.914762</td>\n",
       "      <td>78.075406</td>\n",
       "      <td>462.790196</td>\n",
       "      <td>0.092478</td>\n",
       "      <td>0.080085</td>\n",
       "      <td>0.046058</td>\n",
       "      <td>0.025717</td>\n",
       "      <td>0.174186</td>\n",
       "      <td>...</td>\n",
       "      <td>13.379801</td>\n",
       "      <td>23.515070</td>\n",
       "      <td>87.005938</td>\n",
       "      <td>558.899440</td>\n",
       "      <td>0.124959</td>\n",
       "      <td>0.182673</td>\n",
       "      <td>0.166238</td>\n",
       "      <td>0.074444</td>\n",
       "      <td>0.270246</td>\n",
       "      <td>0.079442</td>\n",
       "    </tr>\n",
       "    <tr>\n",
       "      <th>M</th>\n",
       "      <td>3.681805e+07</td>\n",
       "      <td>17.462830</td>\n",
       "      <td>21.604906</td>\n",
       "      <td>115.365377</td>\n",
       "      <td>978.376415</td>\n",
       "      <td>0.102898</td>\n",
       "      <td>0.145188</td>\n",
       "      <td>0.160775</td>\n",
       "      <td>0.087990</td>\n",
       "      <td>0.192909</td>\n",
       "      <td>...</td>\n",
       "      <td>21.134811</td>\n",
       "      <td>29.318208</td>\n",
       "      <td>141.370330</td>\n",
       "      <td>1422.286321</td>\n",
       "      <td>0.144845</td>\n",
       "      <td>0.374824</td>\n",
       "      <td>0.450606</td>\n",
       "      <td>0.182237</td>\n",
       "      <td>0.323468</td>\n",
       "      <td>0.091530</td>\n",
       "    </tr>\n",
       "  </tbody>\n",
       "</table>\n",
       "<p>2 rows × 31 columns</p>\n",
       "</div>"
      ],
      "text/plain": [
       "                       ID  radio_promedio  textura_promedio  \\\n",
       "Diagnostico                                                   \n",
       "B            2.654382e+07       12.146524         17.914762   \n",
       "M            3.681805e+07       17.462830         21.604906   \n",
       "\n",
       "             perimetro_promedio  area_promedio  suavidad_promedio  \\\n",
       "Diagnostico                                                         \n",
       "B                     78.075406     462.790196           0.092478   \n",
       "M                    115.365377     978.376415           0.102898   \n",
       "\n",
       "             compactes_promedio  concavidad_promedio  \\\n",
       "Diagnostico                                            \n",
       "B                      0.080085             0.046058   \n",
       "M                      0.145188             0.160775   \n",
       "\n",
       "             puntos concavos_promedio  simetria_promedio  \\\n",
       "Diagnostico                                                \n",
       "B                            0.025717           0.174186   \n",
       "M                            0.087990           0.192909   \n",
       "\n",
       "                      ...            radio_peor  textura_peor  perimetro_peor  \\\n",
       "Diagnostico           ...                                                       \n",
       "B                     ...             13.379801     23.515070       87.005938   \n",
       "M                     ...             21.134811     29.318208      141.370330   \n",
       "\n",
       "               area_peor  suavidad_peor  compactes_peor  concavidad_peor  \\\n",
       "Diagnostico                                                                \n",
       "B             558.899440       0.124959        0.182673         0.166238   \n",
       "M            1422.286321       0.144845        0.374824         0.450606   \n",
       "\n",
       "             puntos concavos_peor  simetria_peor  dimension fractal_peor  \n",
       "Diagnostico                                                               \n",
       "B                        0.074444       0.270246                0.079442  \n",
       "M                        0.182237       0.323468                0.091530  \n",
       "\n",
       "[2 rows x 31 columns]"
      ]
     },
     "execution_count": 41,
     "metadata": {},
     "output_type": "execute_result"
    }
   ],
   "source": [
    "data.groupby('Diagnostico').abgg('mean')"
   ]
  },
  {
   "cell_type": "code",
   "execution_count": null,
   "metadata": {},
   "outputs": [],
   "source": [
    "data['Maligno'] ="
   ]
  },
  {
   "cell_type": "code",
   "execution_count": 149,
   "metadata": {
    "scrolled": true
   },
   "outputs": [
    {
     "ename": "ValueError",
     "evalue": "too many values to unpack (expected 2)",
     "output_type": "error",
     "traceback": [
      "\u001b[0;31m---------------------------------------------------------------------------\u001b[0m",
      "\u001b[0;31mValueError\u001b[0m                                Traceback (most recent call last)",
      "\u001b[0;32m<ipython-input-149-33ef516fc3b1>\u001b[0m in \u001b[0;36m<module>\u001b[0;34m()\u001b[0m\n\u001b[0;32m----> 1\u001b[0;31m \u001b[0;32mfor\u001b[0m \u001b[0mcolumn\u001b[0m\u001b[0;34m,\u001b[0m\u001b[0minterval\u001b[0m \u001b[0;32min\u001b[0m \u001b[0mintervalos\u001b[0m\u001b[0;34m:\u001b[0m\u001b[0;34m\u001b[0m\u001b[0m\n\u001b[0m\u001b[1;32m      2\u001b[0m     \u001b[0mprint\u001b[0m\u001b[0;34m(\u001b[0m\u001b[0mcolumn\u001b[0m\u001b[0;34m)\u001b[0m\u001b[0;34m\u001b[0m\u001b[0m\n\u001b[1;32m      3\u001b[0m \u001b[0;34m\u001b[0m\u001b[0m\n",
      "\u001b[0;31mValueError\u001b[0m: too many values to unpack (expected 2)"
     ]
    }
   ],
   "source": [
    "\n",
    "data.groupby('Diagnostico').agg('mean')[['Survived', 'Died']].plot(kind='bar', figsize=(25, 7), \n",
    "                                                           stacked=True, colors=['g', 'r']);"
   ]
  },
  {
   "cell_type": "markdown",
   "metadata": {},
   "source": [
    "data.groupby('Diagnostico')"
   ]
  },
  {
   "cell_type": "markdown",
   "metadata": {},
   "source": [
    "\n",
    "## Analisis exploratorio de los datos\n",
    "\n",
    " - Extracción: Cargar el conjunto de datos y echarles una mirada\n",
    " - Limpieza: Encontrar los valores que faltan\n",
    " - Visualización: Crear algunas gráficas interesantes que nos permitan idendificar correlaciones y \n",
    " - Suposiciones: Formular hipótesis sobre los gráficos"
   ]
  },
  {
   "cell_type": "markdown",
   "metadata": {},
   "source": [
    "![](images/info-atributos-cropped.png)\n"
   ]
  },
  {
   "cell_type": "code",
   "execution_count": null,
   "metadata": {},
   "outputs": [],
   "source": []
  }
 ],
 "metadata": {
  "kernelspec": {
   "display_name": "Python 3",
   "language": "python",
   "name": "python3"
  },
  "language_info": {
   "codemirror_mode": {
    "name": "ipython",
    "version": 3
   },
   "file_extension": ".py",
   "mimetype": "text/x-python",
   "name": "python",
   "nbconvert_exporter": "python",
   "pygments_lexer": "ipython3",
   "version": "3.6.4"
  }
 },
 "nbformat": 4,
 "nbformat_minor": 2
}
