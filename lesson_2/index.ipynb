{
 "cells": [
  {
   "cell_type": "markdown",
   "metadata": {
    "slideshow": {
     "slide_type": "slide"
    }
   },
   "source": [
    "\n",
    "<font color=blue>\n",
    "    _Objetivo del curso_: Aprender las diferentes fases del Aprendizaje de Datos (ML) a traves de  ejemplos reales. Esto con el fin de obtener una idea clara de lo que significa la ciencia de datos.\n",
    "</font>"
   ]
  },
  {
   "cell_type": "markdown",
   "metadata": {
    "slideshow": {
     "slide_type": "slide"
    }
   },
   "source": [
    "La mejor manera de entender los procesos involucrados en la ciencia de datos, es a traves de ejemplos realistas (concretos).\n",
    "\n",
    "\n",
    "Estaremos trabajando sobre _notebook_ de __jupyter__: Usaremos **Python** en cada nivel de la tubería \n",
    "\n",
    "La librerias principales de Python involucradas en este curso son \n",
    "\n",
    "* <b>Pandas</b> para la manipulación e ingesta de los datos\n",
    "* <b>Matplotlib</b> and <b> seaborn</b> para la vizualización de los datos\n",
    "* <b>Numpy</b> para computo de arreglos multidimensionales\n",
    "* <b>sklearn</b> para el aprendizaje de máquinas y el modelado predectivo\n",
    "\n",
    "### Proceso de Instalación \n",
    "\n",
    "Una manera sencilla de installar esta paqueteria es descargar e instalar \n",
    "la distribucion <a href=\"http://conda.pydata.org/docs/install/quick.html#os-x-miniconda-install\">Conda</a> que encapsula a todas las librerias mencionadas. Esta distribución esta disponible en todas las plataformas (Windows, Linux and Mac OSX).\n",
    "\n",
    "### Nota \n",
    "\n",
    "..."
   ]
  },
  {
   "cell_type": "markdown",
   "metadata": {
    "slideshow": {
     "slide_type": "slide"
    }
   },
   "source": [
    "### El conjunto de datos (Wisconsin) del Cáncer de mama\n",
    "\n",
    "Las características se calculan a partir de una imagen digitalizada de un aspirado con aguja fina (FNA) de una masa mamaria. Describen las características de los núcleos celulares presentes en la imagen. El espacio tridimensional es el descrito en: [K. P. Bennett y O. L. Mangasarian: \"Discriminación robusta de la programación lineal de dos conjuntos linealmente inseparables\", Métodos de optimización y software 1, 1992, 23-34].\n",
    "\n",
    "Del artículo mencionado, leemos que:\n",
    "\n",
    "\"Cada registro representa información de seguimiento para un caso cáncer de mama. \n",
    "Estos  pacientes han sido atentidos por el Dr. Wolberg desde el año 1984,\n",
    "están incluídos sólo aquellos casos que exhiben cáncer de mama y donde no hay evidencia de metástasis \n",
    "a distancia en el tiempo de diagnóstico.\"\n"
   ]
  },
  {
   "cell_type": "markdown",
   "metadata": {
    "slideshow": {
     "slide_type": "slide"
    }
   },
   "source": [
    "### Imagen típica\n",
    "\n",
    "![](images/fna-cell.png)\n",
    "\n",
    "<h5 align=\"center\">Imagen ampliada de un seno maligno obtenida con la biopsia FNA (Fine Needle Aspiration). Los núcleos de células visibles se han esbozado con la ayuda de un programa de ajuste de curvas. El sistema también calcula varias características para cada núcleo y diagnostica con precisión la muestra. El proceso de diagnóstico interactivo toma alrededor de 5 minutos por muestra.</h5> \n",
    "\n",
    "FUENTE: K. P. Bennett and O. L. Mangasarian: \"Robust Linear Programming Discrimination of Two Linearly Inseparable Sets\", Optimization Methods and Software 1, 1992, 23-34\n",
    "\n",
    "Los datos se encuentran en el repositorio de aprendizaje automático de UCI: https://archive.ics.uci.edu/ml/datasets/Breast+Cancer+Wisconsin+%28Diagnostic%29\n",
    "***"
   ]
  },
  {
   "cell_type": "markdown",
   "metadata": {
    "slideshow": {
     "slide_type": "slide"
    }
   },
   "source": [
    "<h2 align=\"center\">El flujo de trabajo en un proyecto de ciencia de datos </h2>\n",
    "\n",
    "El conjunto de  lineamientos específicos ('ducto') en un proyecto de  ciencia de datos varía dependiendo de la naturaleza del mismo. Aquí presentamos un ducto estandar:\n",
    "\n",
    "\n",
    "### Analisis exploratorio de los datos\n",
    "\n",
    " - Extracción: Cargar el conjunto de datos y echarles una mirada\n",
    " - Limpieza: Encontrar los valores que faltan\n",
    " - Visualización: Crear algunas gráficas interesantes que nos permitan idendificar correlaciones y \n",
    " - Suposiciones: Formular hipótesis sobre los gráficos\n",
    " "
   ]
  },
  {
   "cell_type": "markdown",
   "metadata": {
    "slideshow": {
     "slide_type": "slide"
    }
   },
   "source": [
    "### Ingeniería de Características\n",
    "\n",
    " - Datos Categóricos\n",
    " - Extraer\n",
    " - Procesar\n",
    " \n",
    "### Modelado de datos\n",
    " - Selección de Características.  Reducir el número de caracterísiticas trae los siguientes beneficios:\n",
    "     - Reduce el número de redundancias en los datos\n",
    "     - Acelera los procesos de entrenamiento \n",
    "     - Reduce el 'overfitting'\n",
    "     - Muestreo de modelos base\n",
    " - Muestreo de los modelos base   \n",
    " ***"
   ]
  },
  {
   "cell_type": "markdown",
   "metadata": {
    "slideshow": {
     "slide_type": "slide"
    }
   },
   "source": [
    "_Ajustamos un poco el estilo de este libro trabajo para tener graficas centradas_ "
   ]
  },
  {
   "cell_type": "code",
   "execution_count": 2,
   "metadata": {
    "slideshow": {
     "slide_type": "fragment"
    }
   },
   "outputs": [],
   "source": [
    "from IPython.core.display import HTML\n",
    "HTML(\"\"\"\n",
    "<style>\n",
    ".output_png {\n",
    "    display: table-cell;\n",
    "    text-align: center;\n",
    "    vertical-align: middle;\n",
    "}\n",
    "</style>\n",
    "\"\"\");"
   ]
  },
  {
   "cell_type": "markdown",
   "metadata": {
    "slideshow": {
     "slide_type": "slide"
    }
   },
   "source": [
    "\n",
    "## Análisis exploratorio de los datos\n",
    "\n",
    "  **Extracción** \n",
    "  \n",
    "  Obtenemos los datos directamente del URL oficial del repositorio de datos. Para ello importamos la librería _wget_"
   ]
  },
  {
   "cell_type": "code",
   "execution_count": 3,
   "metadata": {
    "scrolled": true,
    "slideshow": {
     "slide_type": "fragment"
    }
   },
   "outputs": [
    {
     "data": {
      "text/plain": [
       "'./data/wisconsin.csv'"
      ]
     },
     "execution_count": 3,
     "metadata": {},
     "output_type": "execute_result"
    }
   ],
   "source": [
    "import wget\n",
    "\n",
    "url = 'https://archive.ics.uci.edu/ml/machine-learning-databases/breast-cancer-wisconsin/wdbc.data'  \n",
    "local_path = './data/wisconsin.csv'\n",
    "\n",
    "#descargamos la informacion de url y la guardamos en local_path\n",
    "wget.download(url, local_path) "
   ]
  },
  {
   "cell_type": "markdown",
   "metadata": {
    "slideshow": {
     "slide_type": "slide"
    }
   },
   "source": [
    "En el sitio del repositorio podemos encontrar un\n",
    "<a href=\"https://archive.ics.uci.edu/ml/machine-learning-databases/breast-cancer-wisconsin/wdbc.names\"> archivo </a> con las caracterisiticas de la  información\n",
    "\n",
    "Más espeficamente el punto siete nos describe los atributos de los datos. Los primeros dos atributos (o caracteristicas) son:\n",
    "\n",
    "    1) ID \n",
    "    2) Diagnosis (M = Maligno, B = Benigno)\n",
    "\n",
    "Se calculan diez características de valor real para cada núcleo celular:\n",
    "\n",
    "    a) radio (media de las distancias desde el centro a los puntos en el perímetro)\n",
    "    b) textura (desviación estándar de los valores de escala de grises)\n",
    "    c) perímetro\n",
    "    d) área\n",
    "    e) suavidad (variación local en longitudes de radio)\n",
    "    f) compacidad (perímetro ^ 2 / área - 1.0)\n",
    "    g) concavidad (severidad de las porciones cóncavas del contorno)\n",
    "    h) puntos cóncavos (número de porciones cóncavas del contorno)\n",
    "    i) simetria\n",
    "    j) dimensión fractal (\"aproximación de la línea de costa\" - 1)"
   ]
  },
  {
   "cell_type": "markdown",
   "metadata": {
    "slideshow": {
     "slide_type": "slide"
    }
   },
   "source": [
    "    La media, el error estándar y el \"peor\" o mayor (media de las tres\n",
    "    los valores más grandes) de estas características se calcularon para cada imagen,\n",
    "    dando como resultado 30 características. Por ejemplo, el campo 3 es Radio medio, campo\n",
    "    13 es el radio SE, el campo 23 es el peor radio.\n",
    "    \n",
    "    Todos los valores de las funciones se registran con cuatro dígitos significativos."
   ]
  },
  {
   "cell_type": "markdown",
   "metadata": {
    "slideshow": {
     "slide_type": "slide"
    }
   },
   "source": [
    "### Características de los datos \n",
    "***\n",
    "Los datos del archivo que descargamos, no poseen las correspondientes etiquetas (_a) radio, b) textura,..._). Tenemos 30  mediciones, el ID y el diagnostico. Entonces tenemos un número total de 32 atributos.  Las siguientes instrucciónes nos crea un arreglo de caracteristicas.  "
   ]
  },
  {
   "cell_type": "code",
   "execution_count": 4,
   "metadata": {
    "slideshow": {
     "slide_type": "fragment"
    }
   },
   "outputs": [],
   "source": [
    "features =  ['a:radio','b:textura','c:perimetro', \\\n",
    "             'd:area', 'e:suavidad','f:compactes', \\\n",
    "             'g:concavidad', 'h:puntos_concavos','i:simetria',\\\n",
    "             'j:dimension_fractal']\n",
    "\n",
    "columns_all = ['ID', 'Diagnostico'] + \\\n",
    "              list(map(lambda x: x[2:] + '_promedio', features)) + \\\n",
    "              list(map(lambda x: x[2:] + '_error', features)) +  \\\n",
    "              list(map(lambda x: x[2:] + '_peor', features))"
   ]
  },
  {
   "cell_type": "markdown",
   "metadata": {
    "slideshow": {
     "slide_type": "slide"
    }
   },
   "source": [
    "El manejo de los datos estará a cargo de la libreria **Pandas** \n",
    "\n",
    "Cargamos el conjunto de datos:"
   ]
  },
  {
   "cell_type": "code",
   "execution_count": 5,
   "metadata": {
    "slideshow": {
     "slide_type": "fragment"
    }
   },
   "outputs": [],
   "source": [
    "import pandas as pd\n",
    "\n",
    "data = pd.read_csv('./data/wisconsin.csv', names = columns_all);\n",
    "data = data.reset_index().drop(columns =['index'])"
   ]
  },
  {
   "cell_type": "markdown",
   "metadata": {
    "slideshow": {
     "slide_type": "slide"
    }
   },
   "source": [
    "Echamos un vistazo a los datos. Listamos un numero aleatorio de 5 registros:"
   ]
  },
  {
   "cell_type": "code",
   "execution_count": 6,
   "metadata": {
    "scrolled": true,
    "slideshow": {
     "slide_type": "slide"
    }
   },
   "outputs": [
    {
     "data": {
      "text/html": [
       "<div>\n",
       "<style scoped>\n",
       "    .dataframe tbody tr th:only-of-type {\n",
       "        vertical-align: middle;\n",
       "    }\n",
       "\n",
       "    .dataframe tbody tr th {\n",
       "        vertical-align: top;\n",
       "    }\n",
       "\n",
       "    .dataframe thead th {\n",
       "        text-align: right;\n",
       "    }\n",
       "</style>\n",
       "<table border=\"1\" class=\"dataframe\">\n",
       "  <thead>\n",
       "    <tr style=\"text-align: right;\">\n",
       "      <th></th>\n",
       "      <th>ID</th>\n",
       "      <th>Diagnostico</th>\n",
       "      <th>radio_promedio</th>\n",
       "      <th>textura_promedio</th>\n",
       "      <th>perimetro_promedio</th>\n",
       "      <th>area_promedio</th>\n",
       "      <th>suavidad_promedio</th>\n",
       "      <th>compactes_promedio</th>\n",
       "      <th>concavidad_promedio</th>\n",
       "      <th>puntos_concavos_promedio</th>\n",
       "      <th>...</th>\n",
       "      <th>radio_peor</th>\n",
       "      <th>textura_peor</th>\n",
       "      <th>perimetro_peor</th>\n",
       "      <th>area_peor</th>\n",
       "      <th>suavidad_peor</th>\n",
       "      <th>compactes_peor</th>\n",
       "      <th>concavidad_peor</th>\n",
       "      <th>puntos_concavos_peor</th>\n",
       "      <th>simetria_peor</th>\n",
       "      <th>dimension_fractal_peor</th>\n",
       "    </tr>\n",
       "  </thead>\n",
       "  <tbody>\n",
       "    <tr>\n",
       "      <th>336</th>\n",
       "      <td>897604</td>\n",
       "      <td>B</td>\n",
       "      <td>12.99</td>\n",
       "      <td>14.23</td>\n",
       "      <td>84.08</td>\n",
       "      <td>514.3</td>\n",
       "      <td>0.09462</td>\n",
       "      <td>0.09965</td>\n",
       "      <td>0.037380</td>\n",
       "      <td>0.020980</td>\n",
       "      <td>...</td>\n",
       "      <td>13.72</td>\n",
       "      <td>16.91</td>\n",
       "      <td>87.38</td>\n",
       "      <td>576.0</td>\n",
       "      <td>0.1142</td>\n",
       "      <td>0.19750</td>\n",
       "      <td>0.145000</td>\n",
       "      <td>0.05850</td>\n",
       "      <td>0.2432</td>\n",
       "      <td>0.10090</td>\n",
       "    </tr>\n",
       "    <tr>\n",
       "      <th>230</th>\n",
       "      <td>881972</td>\n",
       "      <td>M</td>\n",
       "      <td>17.05</td>\n",
       "      <td>19.08</td>\n",
       "      <td>113.40</td>\n",
       "      <td>895.0</td>\n",
       "      <td>0.11410</td>\n",
       "      <td>0.15720</td>\n",
       "      <td>0.191000</td>\n",
       "      <td>0.109000</td>\n",
       "      <td>...</td>\n",
       "      <td>19.59</td>\n",
       "      <td>24.89</td>\n",
       "      <td>133.50</td>\n",
       "      <td>1189.0</td>\n",
       "      <td>0.1703</td>\n",
       "      <td>0.39340</td>\n",
       "      <td>0.501800</td>\n",
       "      <td>0.25430</td>\n",
       "      <td>0.3109</td>\n",
       "      <td>0.09061</td>\n",
       "    </tr>\n",
       "    <tr>\n",
       "      <th>414</th>\n",
       "      <td>905680</td>\n",
       "      <td>M</td>\n",
       "      <td>15.13</td>\n",
       "      <td>29.81</td>\n",
       "      <td>96.71</td>\n",
       "      <td>719.5</td>\n",
       "      <td>0.08320</td>\n",
       "      <td>0.04605</td>\n",
       "      <td>0.046860</td>\n",
       "      <td>0.027390</td>\n",
       "      <td>...</td>\n",
       "      <td>17.26</td>\n",
       "      <td>36.91</td>\n",
       "      <td>110.10</td>\n",
       "      <td>931.4</td>\n",
       "      <td>0.1148</td>\n",
       "      <td>0.09866</td>\n",
       "      <td>0.154700</td>\n",
       "      <td>0.06575</td>\n",
       "      <td>0.3233</td>\n",
       "      <td>0.06165</td>\n",
       "    </tr>\n",
       "    <tr>\n",
       "      <th>55</th>\n",
       "      <td>85759902</td>\n",
       "      <td>B</td>\n",
       "      <td>11.52</td>\n",
       "      <td>18.75</td>\n",
       "      <td>73.34</td>\n",
       "      <td>409.0</td>\n",
       "      <td>0.09524</td>\n",
       "      <td>0.05473</td>\n",
       "      <td>0.030360</td>\n",
       "      <td>0.022780</td>\n",
       "      <td>...</td>\n",
       "      <td>12.84</td>\n",
       "      <td>22.47</td>\n",
       "      <td>81.81</td>\n",
       "      <td>506.2</td>\n",
       "      <td>0.1249</td>\n",
       "      <td>0.08720</td>\n",
       "      <td>0.090760</td>\n",
       "      <td>0.06316</td>\n",
       "      <td>0.3306</td>\n",
       "      <td>0.07036</td>\n",
       "    </tr>\n",
       "    <tr>\n",
       "      <th>58</th>\n",
       "      <td>857810</td>\n",
       "      <td>B</td>\n",
       "      <td>13.05</td>\n",
       "      <td>19.31</td>\n",
       "      <td>82.61</td>\n",
       "      <td>527.2</td>\n",
       "      <td>0.08060</td>\n",
       "      <td>0.03789</td>\n",
       "      <td>0.000692</td>\n",
       "      <td>0.004167</td>\n",
       "      <td>...</td>\n",
       "      <td>14.23</td>\n",
       "      <td>22.25</td>\n",
       "      <td>90.24</td>\n",
       "      <td>624.1</td>\n",
       "      <td>0.1021</td>\n",
       "      <td>0.06191</td>\n",
       "      <td>0.001845</td>\n",
       "      <td>0.01111</td>\n",
       "      <td>0.2439</td>\n",
       "      <td>0.06289</td>\n",
       "    </tr>\n",
       "  </tbody>\n",
       "</table>\n",
       "<p>5 rows × 32 columns</p>\n",
       "</div>"
      ],
      "text/plain": [
       "           ID Diagnostico  radio_promedio  textura_promedio  \\\n",
       "336    897604           B           12.99             14.23   \n",
       "230    881972           M           17.05             19.08   \n",
       "414    905680           M           15.13             29.81   \n",
       "55   85759902           B           11.52             18.75   \n",
       "58     857810           B           13.05             19.31   \n",
       "\n",
       "     perimetro_promedio  area_promedio  suavidad_promedio  compactes_promedio  \\\n",
       "336               84.08          514.3            0.09462             0.09965   \n",
       "230              113.40          895.0            0.11410             0.15720   \n",
       "414               96.71          719.5            0.08320             0.04605   \n",
       "55                73.34          409.0            0.09524             0.05473   \n",
       "58                82.61          527.2            0.08060             0.03789   \n",
       "\n",
       "     concavidad_promedio  puntos_concavos_promedio           ...            \\\n",
       "336             0.037380                  0.020980           ...             \n",
       "230             0.191000                  0.109000           ...             \n",
       "414             0.046860                  0.027390           ...             \n",
       "55              0.030360                  0.022780           ...             \n",
       "58              0.000692                  0.004167           ...             \n",
       "\n",
       "     radio_peor  textura_peor  perimetro_peor  area_peor  suavidad_peor  \\\n",
       "336       13.72         16.91           87.38      576.0         0.1142   \n",
       "230       19.59         24.89          133.50     1189.0         0.1703   \n",
       "414       17.26         36.91          110.10      931.4         0.1148   \n",
       "55        12.84         22.47           81.81      506.2         0.1249   \n",
       "58        14.23         22.25           90.24      624.1         0.1021   \n",
       "\n",
       "     compactes_peor  concavidad_peor  puntos_concavos_peor  simetria_peor  \\\n",
       "336         0.19750         0.145000               0.05850         0.2432   \n",
       "230         0.39340         0.501800               0.25430         0.3109   \n",
       "414         0.09866         0.154700               0.06575         0.3233   \n",
       "55          0.08720         0.090760               0.06316         0.3306   \n",
       "58          0.06191         0.001845               0.01111         0.2439   \n",
       "\n",
       "     dimension_fractal_peor  \n",
       "336                 0.10090  \n",
       "230                 0.09061  \n",
       "414                 0.06165  \n",
       "55                  0.07036  \n",
       "58                  0.06289  \n",
       "\n",
       "[5 rows x 32 columns]"
      ]
     },
     "execution_count": 6,
     "metadata": {},
     "output_type": "execute_result"
    }
   ],
   "source": [
    "data.sample(5)"
   ]
  },
  {
   "cell_type": "markdown",
   "metadata": {
    "slideshow": {
     "slide_type": "slide"
    }
   },
   "source": [
    "\n",
    "### Analisis exploratorio de los datos\n",
    "\n",
    "  **Limpieza** \n",
    "  \n",
    "  El analisis de datos en el aprendizaje de las maquinas supone uniformadidad de los datos para un mismo atributo.\n",
    "  Cuando extraemos los datos pueden que no esten presentados  de manera unfirme (por ejemlo alguna medicion pudo no haberse efectuado y en ese casa el atributo para ese registro presenta un valor nulo) y un proceso de limpieza se vuelve mandatorio.\n",
    "  En nuestro caso, el <a href=\"https://archive.ics.uci.edu/ml/machine-learning-databases/breast-cancer-wisconsin/wdbc.names\"> archivo de atributos </a> especifica que:\n",
    "  \n",
    "      8. Valores de atributo faltantes: ninguno\n",
    "      \n",
    "Por lo que no hay datos faltantes. \n",
    "\n",
    "***\n",
    "La limpieza de datos es tan importante para el analisis de datos, que **Pandas** tiene cargados metodos de deteccion de valores nulos:"
   ]
  },
  {
   "cell_type": "code",
   "execution_count": 7,
   "metadata": {
    "scrolled": true,
    "slideshow": {
     "slide_type": "slide"
    }
   },
   "outputs": [
    {
     "data": {
      "text/plain": [
       "ID                            0\n",
       "Diagnostico                   0\n",
       "radio_promedio                0\n",
       "textura_promedio              0\n",
       "perimetro_promedio            0\n",
       "area_promedio                 0\n",
       "suavidad_promedio             0\n",
       "compactes_promedio            0\n",
       "concavidad_promedio           0\n",
       "puntos_concavos_promedio      0\n",
       "simetria_promedio             0\n",
       "dimension_fractal_promedio    0\n",
       "radio_error                   0\n",
       "textura_error                 0\n",
       "perimetro_error               0\n",
       "area_error                    0\n",
       "suavidad_error                0\n",
       "compactes_error               0\n",
       "concavidad_error              0\n",
       "puntos_concavos_error         0\n",
       "simetria_error                0\n",
       "dimension_fractal_error       0\n",
       "radio_peor                    0\n",
       "textura_peor                  0\n",
       "perimetro_peor                0\n",
       "area_peor                     0\n",
       "suavidad_peor                 0\n",
       "compactes_peor                0\n",
       "concavidad_peor               0\n",
       "puntos_concavos_peor          0\n",
       "simetria_peor                 0\n",
       "dimension_fractal_peor        0\n",
       "dtype: int64"
      ]
     },
     "execution_count": 7,
     "metadata": {},
     "output_type": "execute_result"
    }
   ],
   "source": [
    "data.isnull().sum()"
   ]
  },
  {
   "cell_type": "markdown",
   "metadata": {
    "slideshow": {
     "slide_type": "slide"
    }
   },
   "source": [
    "Vemos que efectivamente todos los registros estan llenos\n",
    "  ***\n",
    "  NO utlizaremos el 'ID' del paciente. Por lo que lo eliminamos de nuestros datos."
   ]
  },
  {
   "cell_type": "code",
   "execution_count": 8,
   "metadata": {
    "scrolled": true,
    "slideshow": {
     "slide_type": "slide"
    }
   },
   "outputs": [
    {
     "data": {
      "text/html": [
       "<div>\n",
       "<style scoped>\n",
       "    .dataframe tbody tr th:only-of-type {\n",
       "        vertical-align: middle;\n",
       "    }\n",
       "\n",
       "    .dataframe tbody tr th {\n",
       "        vertical-align: top;\n",
       "    }\n",
       "\n",
       "    .dataframe thead th {\n",
       "        text-align: right;\n",
       "    }\n",
       "</style>\n",
       "<table border=\"1\" class=\"dataframe\">\n",
       "  <thead>\n",
       "    <tr style=\"text-align: right;\">\n",
       "      <th></th>\n",
       "      <th>Diagnostico</th>\n",
       "      <th>radio_promedio</th>\n",
       "      <th>textura_promedio</th>\n",
       "      <th>perimetro_promedio</th>\n",
       "      <th>area_promedio</th>\n",
       "      <th>suavidad_promedio</th>\n",
       "      <th>compactes_promedio</th>\n",
       "      <th>concavidad_promedio</th>\n",
       "      <th>puntos_concavos_promedio</th>\n",
       "      <th>simetria_promedio</th>\n",
       "      <th>...</th>\n",
       "      <th>radio_peor</th>\n",
       "      <th>textura_peor</th>\n",
       "      <th>perimetro_peor</th>\n",
       "      <th>area_peor</th>\n",
       "      <th>suavidad_peor</th>\n",
       "      <th>compactes_peor</th>\n",
       "      <th>concavidad_peor</th>\n",
       "      <th>puntos_concavos_peor</th>\n",
       "      <th>simetria_peor</th>\n",
       "      <th>dimension_fractal_peor</th>\n",
       "    </tr>\n",
       "  </thead>\n",
       "  <tbody>\n",
       "    <tr>\n",
       "      <th>91</th>\n",
       "      <td>M</td>\n",
       "      <td>15.37</td>\n",
       "      <td>22.76</td>\n",
       "      <td>100.20</td>\n",
       "      <td>728.2</td>\n",
       "      <td>0.09200</td>\n",
       "      <td>0.10360</td>\n",
       "      <td>0.1122</td>\n",
       "      <td>0.07483</td>\n",
       "      <td>0.1717</td>\n",
       "      <td>...</td>\n",
       "      <td>16.43</td>\n",
       "      <td>25.84</td>\n",
       "      <td>107.50</td>\n",
       "      <td>830.9</td>\n",
       "      <td>0.1257</td>\n",
       "      <td>0.1997</td>\n",
       "      <td>0.2846</td>\n",
       "      <td>0.1476</td>\n",
       "      <td>0.2556</td>\n",
       "      <td>0.06828</td>\n",
       "    </tr>\n",
       "    <tr>\n",
       "      <th>268</th>\n",
       "      <td>B</td>\n",
       "      <td>12.87</td>\n",
       "      <td>16.21</td>\n",
       "      <td>82.38</td>\n",
       "      <td>512.2</td>\n",
       "      <td>0.09425</td>\n",
       "      <td>0.06219</td>\n",
       "      <td>0.0390</td>\n",
       "      <td>0.01615</td>\n",
       "      <td>0.2010</td>\n",
       "      <td>...</td>\n",
       "      <td>13.90</td>\n",
       "      <td>23.64</td>\n",
       "      <td>89.27</td>\n",
       "      <td>597.5</td>\n",
       "      <td>0.1256</td>\n",
       "      <td>0.1808</td>\n",
       "      <td>0.1992</td>\n",
       "      <td>0.0578</td>\n",
       "      <td>0.3604</td>\n",
       "      <td>0.07062</td>\n",
       "    </tr>\n",
       "  </tbody>\n",
       "</table>\n",
       "<p>2 rows × 31 columns</p>\n",
       "</div>"
      ],
      "text/plain": [
       "    Diagnostico  radio_promedio  textura_promedio  perimetro_promedio  \\\n",
       "91            M           15.37             22.76              100.20   \n",
       "268           B           12.87             16.21               82.38   \n",
       "\n",
       "     area_promedio  suavidad_promedio  compactes_promedio  \\\n",
       "91           728.2            0.09200             0.10360   \n",
       "268          512.2            0.09425             0.06219   \n",
       "\n",
       "     concavidad_promedio  puntos_concavos_promedio  simetria_promedio  \\\n",
       "91                0.1122                   0.07483             0.1717   \n",
       "268               0.0390                   0.01615             0.2010   \n",
       "\n",
       "              ...            radio_peor  textura_peor  perimetro_peor  \\\n",
       "91            ...                 16.43         25.84          107.50   \n",
       "268           ...                 13.90         23.64           89.27   \n",
       "\n",
       "     area_peor  suavidad_peor  compactes_peor  concavidad_peor  \\\n",
       "91       830.9         0.1257          0.1997           0.2846   \n",
       "268      597.5         0.1256          0.1808           0.1992   \n",
       "\n",
       "     puntos_concavos_peor  simetria_peor  dimension_fractal_peor  \n",
       "91                 0.1476         0.2556                 0.06828  \n",
       "268                0.0578         0.3604                 0.07062  \n",
       "\n",
       "[2 rows x 31 columns]"
      ]
     },
     "execution_count": 8,
     "metadata": {},
     "output_type": "execute_result"
    }
   ],
   "source": [
    "data = data.drop(columns='ID')\n",
    "data.sample(2)"
   ]
  },
  {
   "cell_type": "markdown",
   "metadata": {
    "slideshow": {
     "slide_type": "slide"
    }
   },
   "source": [
    "\n",
    "### Analisis exploratorio de los datos\n",
    "\n",
    "  **Visualización: Tablas** \n",
    "  \n",
    "Pandas te permite tener una descripción estadística simple de alto nivel de las características numéricas. Esto se puede hacer usando el método de descripción.\n",
    "   "
   ]
  },
  {
   "cell_type": "code",
   "execution_count": 9,
   "metadata": {
    "scrolled": true,
    "slideshow": {
     "slide_type": "slide"
    }
   },
   "outputs": [
    {
     "data": {
      "text/html": [
       "<div>\n",
       "<style scoped>\n",
       "    .dataframe tbody tr th:only-of-type {\n",
       "        vertical-align: middle;\n",
       "    }\n",
       "\n",
       "    .dataframe tbody tr th {\n",
       "        vertical-align: top;\n",
       "    }\n",
       "\n",
       "    .dataframe thead th {\n",
       "        text-align: right;\n",
       "    }\n",
       "</style>\n",
       "<table border=\"1\" class=\"dataframe\">\n",
       "  <thead>\n",
       "    <tr style=\"text-align: right;\">\n",
       "      <th></th>\n",
       "      <th>radio_promedio</th>\n",
       "      <th>textura_promedio</th>\n",
       "      <th>perimetro_promedio</th>\n",
       "      <th>area_promedio</th>\n",
       "      <th>suavidad_promedio</th>\n",
       "      <th>compactes_promedio</th>\n",
       "      <th>concavidad_promedio</th>\n",
       "      <th>puntos_concavos_promedio</th>\n",
       "      <th>simetria_promedio</th>\n",
       "      <th>dimension_fractal_promedio</th>\n",
       "      <th>...</th>\n",
       "      <th>radio_peor</th>\n",
       "      <th>textura_peor</th>\n",
       "      <th>perimetro_peor</th>\n",
       "      <th>area_peor</th>\n",
       "      <th>suavidad_peor</th>\n",
       "      <th>compactes_peor</th>\n",
       "      <th>concavidad_peor</th>\n",
       "      <th>puntos_concavos_peor</th>\n",
       "      <th>simetria_peor</th>\n",
       "      <th>dimension_fractal_peor</th>\n",
       "    </tr>\n",
       "  </thead>\n",
       "  <tbody>\n",
       "    <tr>\n",
       "      <th>count</th>\n",
       "      <td>569.000000</td>\n",
       "      <td>569.000000</td>\n",
       "      <td>569.000000</td>\n",
       "      <td>569.000000</td>\n",
       "      <td>569.000000</td>\n",
       "      <td>569.000000</td>\n",
       "      <td>569.000000</td>\n",
       "      <td>569.000000</td>\n",
       "      <td>569.000000</td>\n",
       "      <td>569.000000</td>\n",
       "      <td>...</td>\n",
       "      <td>569.000000</td>\n",
       "      <td>569.000000</td>\n",
       "      <td>569.000000</td>\n",
       "      <td>569.000000</td>\n",
       "      <td>569.000000</td>\n",
       "      <td>569.000000</td>\n",
       "      <td>569.000000</td>\n",
       "      <td>569.000000</td>\n",
       "      <td>569.000000</td>\n",
       "      <td>569.000000</td>\n",
       "    </tr>\n",
       "    <tr>\n",
       "      <th>mean</th>\n",
       "      <td>14.127292</td>\n",
       "      <td>19.289649</td>\n",
       "      <td>91.969033</td>\n",
       "      <td>654.889104</td>\n",
       "      <td>0.096360</td>\n",
       "      <td>0.104341</td>\n",
       "      <td>0.088799</td>\n",
       "      <td>0.048919</td>\n",
       "      <td>0.181162</td>\n",
       "      <td>0.062798</td>\n",
       "      <td>...</td>\n",
       "      <td>16.269190</td>\n",
       "      <td>25.677223</td>\n",
       "      <td>107.261213</td>\n",
       "      <td>880.583128</td>\n",
       "      <td>0.132369</td>\n",
       "      <td>0.254265</td>\n",
       "      <td>0.272188</td>\n",
       "      <td>0.114606</td>\n",
       "      <td>0.290076</td>\n",
       "      <td>0.083946</td>\n",
       "    </tr>\n",
       "    <tr>\n",
       "      <th>std</th>\n",
       "      <td>3.524049</td>\n",
       "      <td>4.301036</td>\n",
       "      <td>24.298981</td>\n",
       "      <td>351.914129</td>\n",
       "      <td>0.014064</td>\n",
       "      <td>0.052813</td>\n",
       "      <td>0.079720</td>\n",
       "      <td>0.038803</td>\n",
       "      <td>0.027414</td>\n",
       "      <td>0.007060</td>\n",
       "      <td>...</td>\n",
       "      <td>4.833242</td>\n",
       "      <td>6.146258</td>\n",
       "      <td>33.602542</td>\n",
       "      <td>569.356993</td>\n",
       "      <td>0.022832</td>\n",
       "      <td>0.157336</td>\n",
       "      <td>0.208624</td>\n",
       "      <td>0.065732</td>\n",
       "      <td>0.061867</td>\n",
       "      <td>0.018061</td>\n",
       "    </tr>\n",
       "    <tr>\n",
       "      <th>min</th>\n",
       "      <td>6.981000</td>\n",
       "      <td>9.710000</td>\n",
       "      <td>43.790000</td>\n",
       "      <td>143.500000</td>\n",
       "      <td>0.052630</td>\n",
       "      <td>0.019380</td>\n",
       "      <td>0.000000</td>\n",
       "      <td>0.000000</td>\n",
       "      <td>0.106000</td>\n",
       "      <td>0.049960</td>\n",
       "      <td>...</td>\n",
       "      <td>7.930000</td>\n",
       "      <td>12.020000</td>\n",
       "      <td>50.410000</td>\n",
       "      <td>185.200000</td>\n",
       "      <td>0.071170</td>\n",
       "      <td>0.027290</td>\n",
       "      <td>0.000000</td>\n",
       "      <td>0.000000</td>\n",
       "      <td>0.156500</td>\n",
       "      <td>0.055040</td>\n",
       "    </tr>\n",
       "    <tr>\n",
       "      <th>25%</th>\n",
       "      <td>11.700000</td>\n",
       "      <td>16.170000</td>\n",
       "      <td>75.170000</td>\n",
       "      <td>420.300000</td>\n",
       "      <td>0.086370</td>\n",
       "      <td>0.064920</td>\n",
       "      <td>0.029560</td>\n",
       "      <td>0.020310</td>\n",
       "      <td>0.161900</td>\n",
       "      <td>0.057700</td>\n",
       "      <td>...</td>\n",
       "      <td>13.010000</td>\n",
       "      <td>21.080000</td>\n",
       "      <td>84.110000</td>\n",
       "      <td>515.300000</td>\n",
       "      <td>0.116600</td>\n",
       "      <td>0.147200</td>\n",
       "      <td>0.114500</td>\n",
       "      <td>0.064930</td>\n",
       "      <td>0.250400</td>\n",
       "      <td>0.071460</td>\n",
       "    </tr>\n",
       "    <tr>\n",
       "      <th>50%</th>\n",
       "      <td>13.370000</td>\n",
       "      <td>18.840000</td>\n",
       "      <td>86.240000</td>\n",
       "      <td>551.100000</td>\n",
       "      <td>0.095870</td>\n",
       "      <td>0.092630</td>\n",
       "      <td>0.061540</td>\n",
       "      <td>0.033500</td>\n",
       "      <td>0.179200</td>\n",
       "      <td>0.061540</td>\n",
       "      <td>...</td>\n",
       "      <td>14.970000</td>\n",
       "      <td>25.410000</td>\n",
       "      <td>97.660000</td>\n",
       "      <td>686.500000</td>\n",
       "      <td>0.131300</td>\n",
       "      <td>0.211900</td>\n",
       "      <td>0.226700</td>\n",
       "      <td>0.099930</td>\n",
       "      <td>0.282200</td>\n",
       "      <td>0.080040</td>\n",
       "    </tr>\n",
       "    <tr>\n",
       "      <th>75%</th>\n",
       "      <td>15.780000</td>\n",
       "      <td>21.800000</td>\n",
       "      <td>104.100000</td>\n",
       "      <td>782.700000</td>\n",
       "      <td>0.105300</td>\n",
       "      <td>0.130400</td>\n",
       "      <td>0.130700</td>\n",
       "      <td>0.074000</td>\n",
       "      <td>0.195700</td>\n",
       "      <td>0.066120</td>\n",
       "      <td>...</td>\n",
       "      <td>18.790000</td>\n",
       "      <td>29.720000</td>\n",
       "      <td>125.400000</td>\n",
       "      <td>1084.000000</td>\n",
       "      <td>0.146000</td>\n",
       "      <td>0.339100</td>\n",
       "      <td>0.382900</td>\n",
       "      <td>0.161400</td>\n",
       "      <td>0.317900</td>\n",
       "      <td>0.092080</td>\n",
       "    </tr>\n",
       "    <tr>\n",
       "      <th>max</th>\n",
       "      <td>28.110000</td>\n",
       "      <td>39.280000</td>\n",
       "      <td>188.500000</td>\n",
       "      <td>2501.000000</td>\n",
       "      <td>0.163400</td>\n",
       "      <td>0.345400</td>\n",
       "      <td>0.426800</td>\n",
       "      <td>0.201200</td>\n",
       "      <td>0.304000</td>\n",
       "      <td>0.097440</td>\n",
       "      <td>...</td>\n",
       "      <td>36.040000</td>\n",
       "      <td>49.540000</td>\n",
       "      <td>251.200000</td>\n",
       "      <td>4254.000000</td>\n",
       "      <td>0.222600</td>\n",
       "      <td>1.058000</td>\n",
       "      <td>1.252000</td>\n",
       "      <td>0.291000</td>\n",
       "      <td>0.663800</td>\n",
       "      <td>0.207500</td>\n",
       "    </tr>\n",
       "  </tbody>\n",
       "</table>\n",
       "<p>8 rows × 30 columns</p>\n",
       "</div>"
      ],
      "text/plain": [
       "       radio_promedio  textura_promedio  perimetro_promedio  area_promedio  \\\n",
       "count      569.000000        569.000000          569.000000     569.000000   \n",
       "mean        14.127292         19.289649           91.969033     654.889104   \n",
       "std          3.524049          4.301036           24.298981     351.914129   \n",
       "min          6.981000          9.710000           43.790000     143.500000   \n",
       "25%         11.700000         16.170000           75.170000     420.300000   \n",
       "50%         13.370000         18.840000           86.240000     551.100000   \n",
       "75%         15.780000         21.800000          104.100000     782.700000   \n",
       "max         28.110000         39.280000          188.500000    2501.000000   \n",
       "\n",
       "       suavidad_promedio  compactes_promedio  concavidad_promedio  \\\n",
       "count         569.000000          569.000000           569.000000   \n",
       "mean            0.096360            0.104341             0.088799   \n",
       "std             0.014064            0.052813             0.079720   \n",
       "min             0.052630            0.019380             0.000000   \n",
       "25%             0.086370            0.064920             0.029560   \n",
       "50%             0.095870            0.092630             0.061540   \n",
       "75%             0.105300            0.130400             0.130700   \n",
       "max             0.163400            0.345400             0.426800   \n",
       "\n",
       "       puntos_concavos_promedio  simetria_promedio  \\\n",
       "count                569.000000         569.000000   \n",
       "mean                   0.048919           0.181162   \n",
       "std                    0.038803           0.027414   \n",
       "min                    0.000000           0.106000   \n",
       "25%                    0.020310           0.161900   \n",
       "50%                    0.033500           0.179200   \n",
       "75%                    0.074000           0.195700   \n",
       "max                    0.201200           0.304000   \n",
       "\n",
       "       dimension_fractal_promedio           ...            radio_peor  \\\n",
       "count                  569.000000           ...            569.000000   \n",
       "mean                     0.062798           ...             16.269190   \n",
       "std                      0.007060           ...              4.833242   \n",
       "min                      0.049960           ...              7.930000   \n",
       "25%                      0.057700           ...             13.010000   \n",
       "50%                      0.061540           ...             14.970000   \n",
       "75%                      0.066120           ...             18.790000   \n",
       "max                      0.097440           ...             36.040000   \n",
       "\n",
       "       textura_peor  perimetro_peor    area_peor  suavidad_peor  \\\n",
       "count    569.000000      569.000000   569.000000     569.000000   \n",
       "mean      25.677223      107.261213   880.583128       0.132369   \n",
       "std        6.146258       33.602542   569.356993       0.022832   \n",
       "min       12.020000       50.410000   185.200000       0.071170   \n",
       "25%       21.080000       84.110000   515.300000       0.116600   \n",
       "50%       25.410000       97.660000   686.500000       0.131300   \n",
       "75%       29.720000      125.400000  1084.000000       0.146000   \n",
       "max       49.540000      251.200000  4254.000000       0.222600   \n",
       "\n",
       "       compactes_peor  concavidad_peor  puntos_concavos_peor  simetria_peor  \\\n",
       "count      569.000000       569.000000            569.000000     569.000000   \n",
       "mean         0.254265         0.272188              0.114606       0.290076   \n",
       "std          0.157336         0.208624              0.065732       0.061867   \n",
       "min          0.027290         0.000000              0.000000       0.156500   \n",
       "25%          0.147200         0.114500              0.064930       0.250400   \n",
       "50%          0.211900         0.226700              0.099930       0.282200   \n",
       "75%          0.339100         0.382900              0.161400       0.317900   \n",
       "max          1.058000         1.252000              0.291000       0.663800   \n",
       "\n",
       "       dimension_fractal_peor  \n",
       "count              569.000000  \n",
       "mean                 0.083946  \n",
       "std                  0.018061  \n",
       "min                  0.055040  \n",
       "25%                  0.071460  \n",
       "50%                  0.080040  \n",
       "75%                  0.092080  \n",
       "max                  0.207500  \n",
       "\n",
       "[8 rows x 30 columns]"
      ]
     },
     "execution_count": 9,
     "metadata": {},
     "output_type": "execute_result"
    }
   ],
   "source": [
    "data.describe()"
   ]
  },
  {
   "cell_type": "markdown",
   "metadata": {
    "slideshow": {
     "slide_type": "slide"
    }
   },
   "source": [
    "En _estadística_, la desviación estándar (representada por el índice **std** en la anterior tabla) es una medida que se utiliza para cuantificar la cantidad de variación o dispersión de un conjunto de valores de datos.  Una baja desviación estándar indica que los puntos de datos tienden a estar cerca de la media (también llamado el valor esperado) del conjunto, mientras que una alta desviación estándar indica que los puntos de datos se extienden en un rango más amplio de valores"
   ]
  },
  {
   "cell_type": "markdown",
   "metadata": {
    "slideshow": {
     "slide_type": "slide"
    }
   },
   "source": [
    "**Visualización: Gráficas** \n",
    "\n",
    "La visualización de los datos a través gráficas facilita la comprensión de la información que se quiere analizar. También ayuda a explicar los datos a otra persona.\n",
    "\n",
    "Python tiene varias bibliotecas de visualización interesantes, como Matplotlib, Seaborn, etc. Los datos de nuestros atributos son valores númericos. Para darnos una idea de como se encuentran distribuídos los agrupamos en intervalos especificos. Después generamos gráficas para estás distribuiciones\n",
    "***\n",
    "\n",
    "Usaremos en parte la visualización de pandas que se construye sobre matplotlib, para encontrar la distribución de datos de los atributos: "
   ]
  },
  {
   "cell_type": "code",
   "execution_count": 10,
   "metadata": {
    "scrolled": false,
    "slideshow": {
     "slide_type": "slide"
    }
   },
   "outputs": [
    {
     "data": {
      "text/plain": [
       "Diagnostico\n",
       "B    [[AxesSubplot(0.125,0.777333;0.125x0.102667), ...\n",
       "M    [[AxesSubplot(0.125,0.777333;0.125x0.102667), ...\n",
       "dtype: object"
      ]
     },
     "execution_count": 10,
     "metadata": {},
     "output_type": "execute_result"
    }
   ],
   "source": [
    "#Visualization of data\n",
    "data.groupby('Diagnostico').hist(figsize=(14, 18))"
   ]
  },
  {
   "cell_type": "markdown",
   "metadata": {
    "slideshow": {
     "slide_type": "slide"
    }
   },
   "source": [
    "Como vemos, **pandas** nos genera histrogramas haciendo divisiones automaticos sobre en los intervalos de los datos. A veces necesitamos ser más específicos en como dividermos las información y es necesario generar rutinas de codigo adicionales.\n",
    "\n",
    "El manejo de números con decimales se realiza usando la librería **numpy**\n",
    "\n",
    "La siguiente funcion agrupa los datos de una columna en intevarlos iguales:"
   ]
  },
  {
   "cell_type": "code",
   "execution_count": 11,
   "metadata": {
    "slideshow": {
     "slide_type": "subslide"
    }
   },
   "outputs": [],
   "source": [
    "import numpy as np\n",
    "\n",
    "def divide_en_intervalos(columna,tajada):\n",
    "    \n",
    "    minimo = data[columna].min()\n",
    "    maximo = data[columna].max()\n",
    "    \n",
    "    intervalos = np.linspace(minimo, maximo,tajada)\n",
    "        \n",
    "    return pd.cut(np.float64(data[columna]), intervalos,precision=4,right=True,include_lowest=True)\n",
    "   "
   ]
  },
  {
   "cell_type": "markdown",
   "metadata": {
    "slideshow": {
     "slide_type": "slide"
    }
   },
   "source": [
    "Con esta funcion, construimos otra funcion que itera sobre todas las columnas de nuestros datos numericos (quitamos la columna 'Diagnostico'):"
   ]
  },
  {
   "cell_type": "code",
   "execution_count": 12,
   "metadata": {
    "slideshow": {
     "slide_type": "subslide"
    }
   },
   "outputs": [],
   "source": [
    "def intervalos(tajada):\n",
    "    \n",
    "    data_numerical = data.drop(columns=['Diagnostico'])\n",
    "    intervalos = {}\n",
    "    \n",
    "    for column in data_numerical:\n",
    "        \n",
    "        intervalos[column] = divide_en_intervalos(column,tajada + 1)      \n",
    "    \n",
    "    return intervalos\n"
   ]
  },
  {
   "cell_type": "markdown",
   "metadata": {
    "slideshow": {
     "slide_type": "slide"
    }
   },
   "source": [
    "_EJEMPLO._ El caso de 5 intervalos para el _radio promedio_:"
   ]
  },
  {
   "cell_type": "code",
   "execution_count": 13,
   "metadata": {
    "scrolled": true,
    "slideshow": {
     "slide_type": "subslide"
    }
   },
   "outputs": [
    {
     "name": "stdout",
     "output_type": "stream",
     "text": [
      "                    counts     freqs\n",
      "categories                          \n",
      "(6.9809, 11.2068]       98  0.172232\n",
      "(11.2068, 15.4326]     314  0.551845\n",
      "(15.4326, 19.6584]     105  0.184534\n",
      "(19.6584, 23.8842]      45  0.079086\n",
      "(23.8842, 28.11]         7  0.012302\n"
     ]
    }
   ],
   "source": [
    "print(intervalos(5)['radio_promedio'].describe())        "
   ]
  },
  {
   "cell_type": "markdown",
   "metadata": {
    "slideshow": {
     "slide_type": "slide"
    }
   },
   "source": [
    "\n",
    "Los datos de nuestros atributos son valores númericos. Para darnos una idea de como se encuentran distribuídos los agrupamos en intervalos especificos. Después generamos gráficas para estás distribuiciones\n",
    "***"
   ]
  },
  {
   "cell_type": "markdown",
   "metadata": {
    "slideshow": {
     "slide_type": "subslide"
    }
   },
   "source": [
    "Creamos la columnas booleanas _Benigno_ y _Maligno_\n",
    "\n",
    "La columna _Benigno_ es igual a 1 si el diagnostico es 'Benigno' y 0 si es 'Maligno'\n",
    "\n",
    "La columna _Maligno_ es igual a 0 si el diagnostico es 'Benigno' y 1 si es 'Maligno'"
   ]
  },
  {
   "cell_type": "code",
   "execution_count": 14,
   "metadata": {
    "slideshow": {
     "slide_type": "subslide"
    }
   },
   "outputs": [],
   "source": [
    "data['Benigno'] = (data['Diagnostico']=='B')*1\n",
    "data['Maligno'] = 1 - data['Benigno']"
   ]
  },
  {
   "cell_type": "markdown",
   "metadata": {
    "slideshow": {
     "slide_type": "slide"
    }
   },
   "source": [
    "¿Qué relación guardan la forma del núcleo de la célula con la incidencia en el cáncer?\n",
    "\n",
    "Para darnos una idea, hacemos un histograma de los casos positivos y negativos agrupados en los grupos de tamaño que escogimos anteriormente\n",
    "\n",
    "**pandas** trae incorporada rutinas de gráficos que importa de la librería **matplotlib** (especificamente la sublibrería **pyplot**) y la librería **seaborn**"
   ]
  },
  {
   "cell_type": "code",
   "execution_count": 15,
   "metadata": {
    "slideshow": {
     "slide_type": "subslide"
    }
   },
   "outputs": [],
   "source": [
    "from matplotlib import pyplot as plt\n",
    "import seaborn as sns"
   ]
  },
  {
   "cell_type": "markdown",
   "metadata": {
    "slideshow": {
     "slide_type": "slide"
    }
   },
   "source": [
    "Definimos una función que genera un histograma que compara casos benignos y malignos en cada conjunto de intervalos númericos para un atributo en específico:"
   ]
  },
  {
   "cell_type": "code",
   "execution_count": 16,
   "metadata": {
    "slideshow": {
     "slide_type": "subslide"
    }
   },
   "outputs": [],
   "source": [
    "def histograma_benigno_maligno(intervalo,atributo,xdecimales):\n",
    "    \n",
    "    agrupado = data.groupby(intervalo[atributo])[['Benigno','Maligno']].sum();\n",
    "    ax = agrupado.plot.bar(\n",
    "                          rot=0, \\\n",
    "                          figsize=(5, 5),\\\n",
    "                          width = 0.9, \\\n",
    "                          stacked=True, \n",
    "                          title = atributo,   \n",
    "                          color=['blue', 'r']\n",
    "                        );\n",
    "    \n",
    "    xlabels = [str(np.around(c.left,decimals=xdecimales)) + ' a ' + str(np.around(c.right,decimals=xdecimales)) \\\n",
    "               for c in  agrupado.index.values];\n",
    "\n",
    "    ax.set_xticklabels(xlabels,fontsize=8);\n",
    "    \n",
    "    return ax"
   ]
  },
  {
   "cell_type": "markdown",
   "metadata": {
    "slideshow": {
     "slide_type": "slide"
    }
   },
   "source": [
    "Por ejemplo, el histograma para el radio promedio divido en tres tajadas es:"
   ]
  },
  {
   "cell_type": "code",
   "execution_count": 17,
   "metadata": {
    "slideshow": {
     "slide_type": "subslide"
    }
   },
   "outputs": [
    {
     "data": {
      "image/png": "[encoded data removed]",
      "text/plain": [
       "<matplotlib.figure.Figure at 0x7f192b54b1d0>"
      ]
     },
     "metadata": {},
     "output_type": "display_data"
    }
   ],
   "source": [
    "ax = histograma_benigno_maligno(intervalos(3),'radio_promedio',1)\n",
    "plt.show()"
   ]
  },
  {
   "cell_type": "markdown",
   "metadata": {
    "slideshow": {
     "slide_type": "slide"
    }
   },
   "source": [
    "Vemos que los radios mas pequeños representan mayores casos de cáncer. Mientras que los radios más grandes son casi todos casos malignos. Veamos si esta tendencia se mantiene al nivel de áreas y perímetros: "
   ]
  },
  {
   "cell_type": "code",
   "execution_count": 18,
   "metadata": {
    "scrolled": true,
    "slideshow": {
     "slide_type": "subslide"
    }
   },
   "outputs": [
    {
     "data": {
      "image/png": "[encoded data removed]",
      "text/plain": [
       "<matplotlib.figure.Figure at 0x7f192b54b9e8>"
      ]
     },
     "metadata": {},
     "output_type": "display_data"
    }
   ],
   "source": [
    "ax = histograma_benigno_maligno(intervalos(3),'perimetro_promedio' ,1)"
   ]
  },
  {
   "cell_type": "code",
   "execution_count": 19,
   "metadata": {
    "scrolled": true,
    "slideshow": {
     "slide_type": "slide"
    }
   },
   "outputs": [
    {
     "data": {
      "image/png": "[encoded data removed]",
      "text/plain": [
       "<matplotlib.figure.Figure at 0x7f1927c94b00>"
      ]
     },
     "metadata": {},
     "output_type": "display_data"
    }
   ],
   "source": [
    "ax = histograma_benigno_maligno(intervalos(3),'area_promedio',1 )"
   ]
  },
  {
   "cell_type": "markdown",
   "metadata": {
    "slideshow": {
     "slide_type": "slide"
    }
   },
   "source": [
    "Vemos que en caso del área, se agudiza más la tendencia discutida en el caso del radio:\n",
    "\n",
    "1) La mayoría de los casos de cancer aparecen en áreas pequeñas.\n",
    "\n",
    "2) Las áreas pequeñas representan en su mayoría casos benignos, mientras que las áreas grandes representan en su mayoría casos malignos\n",
    "***"
   ]
  },
  {
   "cell_type": "markdown",
   "metadata": {
    "slideshow": {
     "slide_type": "slide"
    }
   },
   "source": [
    "\n",
    "Veamos ahora que sucede con los atributos que están relacionados no con la _extension_ de  los núcleos sino con lo _características_ de la figura. Uno de estos atributos son  la dimensión fractal y la simetría:\n",
    "\n",
    "![](images/symmetry.png)\n",
    "\n",
    "<div style=\"text-align: center\"> Para medir la simetría, se encuentra el eje mayor, o el acorde más largo a través del centro. Luego, medimos la diferencia de longitud entre las líneas perpendiculares al eje mayor del límite de la celda en ambas direccione. </div>"
   ]
  },
  {
   "cell_type": "markdown",
   "metadata": {
    "slideshow": {
     "slide_type": "slide"
    }
   },
   "source": [
    "Otro atributo  es la _simetría_:\n",
    "\n",
    "![](images/fractals.png)\n",
    "\n",
    "<div style=\"text-align: center\"> La dimensión fractal de una celda se aproxima utilizando la aproximación de \"línea de costa\" descrita por Mandelbrot. El perímetro del núcleo se mide utilizando 'reglas' cada vez más grandes. A medida que aumenta el tamaño de la regla, disminuye la precisión de la medición y disminuye el perímetro observado. Al trazar estos valores en una escala logarítmica y medir la pendiente descendente se obtiene (el negativo de) una aproximación a la dimensión fractal. Al igual que con todas las características de la forma, un valor más alto corresponde a un contorno menos regular y, por lo tanto, a una mayor probabilidad de malignidad. </div>\n",
    "\n",
    "[_REFERENCIA_: Nuclear feature extraction for breast tumor diagnosis\n",
    "W. Nick Street, W. H. Wolberg, O. L. Mangasarian, Proceedings Volume 1905, Biomedical Image Processing and Biomedical Visualization; (1993) ]\n",
    "\n"
   ]
  },
  {
   "cell_type": "markdown",
   "metadata": {
    "slideshow": {
     "slide_type": "slide"
    }
   },
   "source": [
    "***\n",
    "Hacemos histogramas para estos dos atributos:"
   ]
  },
  {
   "cell_type": "code",
   "execution_count": 20,
   "metadata": {
    "scrolled": true,
    "slideshow": {
     "slide_type": "subslide"
    }
   },
   "outputs": [
    {
     "data": {
      "image/png": "[encoded data removed]",
      "text/plain": [
       "<matplotlib.figure.Figure at 0x7f1927bb0080>"
      ]
     },
     "metadata": {},
     "output_type": "display_data"
    }
   ],
   "source": [
    "ax = histograma_benigno_maligno(intervalos(4),'dimension_fractal_promedio',3 )"
   ]
  },
  {
   "cell_type": "code",
   "execution_count": 21,
   "metadata": {
    "slideshow": {
     "slide_type": "slide"
    }
   },
   "outputs": [
    {
     "data": {
      "image/png": "[encoded data removed]",
      "text/plain": [
       "<matplotlib.figure.Figure at 0x7f1927bb7ac8>"
      ]
     },
     "metadata": {},
     "output_type": "display_data"
    }
   ],
   "source": [
    "ax = histograma_benigno_maligno(intervalos(4),'simetria_promedio',3 )"
   ]
  },
  {
   "cell_type": "markdown",
   "metadata": {
    "slideshow": {
     "slide_type": "slide"
    }
   },
   "source": [
    "La distribución de tamaños en intervalos iguales no influye de manera tan decisiva en el tipo de cáncer (Maligno vs Benigno) como en el caso de áreas, radios y perímetros."
   ]
  },
  {
   "cell_type": "markdown",
   "metadata": {
    "slideshow": {
     "slide_type": "slide"
    }
   },
   "source": [
    "### Ingeniería de Características\n",
    "\n",
    "**Datos Categóricos** \n",
    "\n",
    "Los datos categóricos son variables que contienen valores de etiqueta en lugar de valores numéricos. El número de valores posibles a menudo se limita a un conjunto fijo.\n",
    "\n",
    "Por ejemplo, los usuarios normalmente se describen por país, género, grupo de edad, etc.\n",
    "\n",
    "De hecho ya hemos  convertido los atributos del _Diagnóstico_ a valores numéricos:\n",
    "***"
   ]
  },
  {
   "cell_type": "code",
   "execution_count": 22,
   "metadata": {
    "scrolled": true,
    "slideshow": {
     "slide_type": "fragment"
    }
   },
   "outputs": [
    {
     "data": {
      "text/html": [
       "<div>\n",
       "<style scoped>\n",
       "    .dataframe tbody tr th:only-of-type {\n",
       "        vertical-align: middle;\n",
       "    }\n",
       "\n",
       "    .dataframe tbody tr th {\n",
       "        vertical-align: top;\n",
       "    }\n",
       "\n",
       "    .dataframe thead th {\n",
       "        text-align: right;\n",
       "    }\n",
       "</style>\n",
       "<table border=\"1\" class=\"dataframe\">\n",
       "  <thead>\n",
       "    <tr style=\"text-align: right;\">\n",
       "      <th></th>\n",
       "      <th>Maligno</th>\n",
       "      <th>Benigno</th>\n",
       "    </tr>\n",
       "  </thead>\n",
       "  <tbody>\n",
       "    <tr>\n",
       "      <th>402</th>\n",
       "      <td>0</td>\n",
       "      <td>1</td>\n",
       "    </tr>\n",
       "    <tr>\n",
       "      <th>357</th>\n",
       "      <td>0</td>\n",
       "      <td>1</td>\n",
       "    </tr>\n",
       "  </tbody>\n",
       "</table>\n",
       "</div>"
      ],
      "text/plain": [
       "     Maligno  Benigno\n",
       "402        0        1\n",
       "357        0        1"
      ]
     },
     "execution_count": 22,
     "metadata": {},
     "output_type": "execute_result"
    }
   ],
   "source": [
    "data[['Maligno','Benigno']].sample(2)"
   ]
  },
  {
   "cell_type": "markdown",
   "metadata": {
    "slideshow": {
     "slide_type": "slide"
    }
   },
   "source": [
    "Las columnas _Maligno_ y _Benigno_ son redundates. El conocimiento de una, automaticamente nos define la otra. Eliminamos una:"
   ]
  },
  {
   "cell_type": "code",
   "execution_count": 23,
   "metadata": {
    "slideshow": {
     "slide_type": "fragment"
    }
   },
   "outputs": [],
   "source": [
    "data = data.drop(columns = 'Maligno')"
   ]
  },
  {
   "cell_type": "markdown",
   "metadata": {
    "slideshow": {
     "slide_type": "slide"
    }
   },
   "source": [
    "En este punto la columna _Diagnostico_ tambien se vuelve redundante, por lo que también la eliminamos:"
   ]
  },
  {
   "cell_type": "code",
   "execution_count": 24,
   "metadata": {
    "slideshow": {
     "slide_type": "fragment"
    }
   },
   "outputs": [],
   "source": [
    "data = data.drop(columns = 'Diagnostico')"
   ]
  },
  {
   "cell_type": "markdown",
   "metadata": {},
   "source": [
    "### Ingeniería de Características\n",
    "\n",
    "**División el conjunto de datos** \n",
    "\n",
    "Los datos que utilizamos generalmente se dividen en datos de entrenamiento y datos de prueba. \n",
    "El conjunto de entrenamiento contiene _un_ resultado conocido y \n",
    "el modelo aprende sobre estos datos para generalizarse a otros datos más adelante. \n",
    "Tenemos el conjunto de datos de prueba (o subconjunto) para probar la predicción de nuestro modelo \n",
    "en este subconjunto.\n",
    "***\n",
    "Primero, separamos el conjunto total de diagnósticos (presentado por la letra _Y_) del resto de los atributos (representados por la letra _X_)\n"
   ]
  },
  {
   "cell_type": "code",
   "execution_count": 25,
   "metadata": {},
   "outputs": [],
   "source": [
    "X = data.iloc[:, 0:29].values\n",
    "Y = data.iloc[:, 30].values"
   ]
  },
  {
   "cell_type": "markdown",
   "metadata": {},
   "source": [
    "Separamos el conjunto de entrenamiento y el conjunto prueba usando la biblioteca **SciKit-Learn**. Más en especifico, el método 'train_test_split':"
   ]
  },
  {
   "cell_type": "code",
   "execution_count": 26,
   "metadata": {},
   "outputs": [],
   "source": [
    "from sklearn import datasets, linear_model\n",
    "from sklearn.model_selection import train_test_split\n",
    "from matplotlib import pyplot as plt\n",
    "\n",
    "X_train, X_test, Y_train, Y_test = train_test_split(X, Y, test_size = 0.25, random_state = 0)"
   ]
  },
  {
   "cell_type": "code",
   "execution_count": 27,
   "metadata": {},
   "outputs": [],
   "source": [
    "from sklearn.model_selection import train_test_split\n",
    "X_train, X_test, Y_train, Y_test = train_test_split(X, Y, test_size = 0.25, random_state = 0)"
   ]
  },
  {
   "cell_type": "markdown",
   "metadata": {},
   "source": [
    "El parametro test_\\__size_ representa el porcentaje de los datos _(X,Y)_  que serán usados como datos de prueba. En nuestro caso hemos usado el veinticinco porciento. El parámetro _random_\\__state_ sirve para establecer la semilla del algoritmo aleatorio que selecciona los conjuntos de datos \n",
    "***\n",
    "### Escalamiento de los atributos \n",
    "\n",
    "La mayoría de las veces, un conjunto de datos contendrá características altamente variables en su magnitudes, unidades y rango. Por ejemplo notemos la gran disparidad que existe entre las columnas 'dimension_fractal' y 'radio_promedio':"
   ]
  },
  {
   "cell_type": "code",
   "execution_count": 28,
   "metadata": {
    "scrolled": true
   },
   "outputs": [
    {
     "data": {
      "text/html": [
       "<div>\n",
       "<style scoped>\n",
       "    .dataframe tbody tr th:only-of-type {\n",
       "        vertical-align: middle;\n",
       "    }\n",
       "\n",
       "    .dataframe tbody tr th {\n",
       "        vertical-align: top;\n",
       "    }\n",
       "\n",
       "    .dataframe thead th {\n",
       "        text-align: right;\n",
       "    }\n",
       "</style>\n",
       "<table border=\"1\" class=\"dataframe\">\n",
       "  <thead>\n",
       "    <tr style=\"text-align: right;\">\n",
       "      <th></th>\n",
       "      <th>area_promedio</th>\n",
       "      <th>dimension_fractal_promedio</th>\n",
       "    </tr>\n",
       "  </thead>\n",
       "  <tbody>\n",
       "    <tr>\n",
       "      <th>count</th>\n",
       "      <td>569.000000</td>\n",
       "      <td>569.000000</td>\n",
       "    </tr>\n",
       "    <tr>\n",
       "      <th>mean</th>\n",
       "      <td>654.889104</td>\n",
       "      <td>0.062798</td>\n",
       "    </tr>\n",
       "    <tr>\n",
       "      <th>std</th>\n",
       "      <td>351.914129</td>\n",
       "      <td>0.007060</td>\n",
       "    </tr>\n",
       "    <tr>\n",
       "      <th>min</th>\n",
       "      <td>143.500000</td>\n",
       "      <td>0.049960</td>\n",
       "    </tr>\n",
       "    <tr>\n",
       "      <th>25%</th>\n",
       "      <td>420.300000</td>\n",
       "      <td>0.057700</td>\n",
       "    </tr>\n",
       "    <tr>\n",
       "      <th>50%</th>\n",
       "      <td>551.100000</td>\n",
       "      <td>0.061540</td>\n",
       "    </tr>\n",
       "    <tr>\n",
       "      <th>75%</th>\n",
       "      <td>782.700000</td>\n",
       "      <td>0.066120</td>\n",
       "    </tr>\n",
       "    <tr>\n",
       "      <th>max</th>\n",
       "      <td>2501.000000</td>\n",
       "      <td>0.097440</td>\n",
       "    </tr>\n",
       "  </tbody>\n",
       "</table>\n",
       "</div>"
      ],
      "text/plain": [
       "       area_promedio  dimension_fractal_promedio\n",
       "count     569.000000                  569.000000\n",
       "mean      654.889104                    0.062798\n",
       "std       351.914129                    0.007060\n",
       "min       143.500000                    0.049960\n",
       "25%       420.300000                    0.057700\n",
       "50%       551.100000                    0.061540\n",
       "75%       782.700000                    0.066120\n",
       "max      2501.000000                    0.097440"
      ]
     },
     "execution_count": 28,
     "metadata": {},
     "output_type": "execute_result"
    }
   ],
   "source": [
    "data[['area_promedio','dimension_fractal_promedio']].describe() "
   ]
  },
  {
   "cell_type": "markdown",
   "metadata": {},
   "source": [
    " Asi como la cercania o lejania entre dos ciudades distintas se establece con la distancia que los separa, en estadística también tenemos el concepto de distancia entre los datos _medidos_ con los datos del _modelo teórico_. De hecho, la noción de distancia en estadística es la misma que la que hay para dos ciudades: la medida Euclideana.\n",
    " Con ella, podemos decir si nuestras predicciones del modelo están cerca o lejos de las predicciones de los datos medidos. Es un poco descabellado comparar distancias de ciudades con las distancias entre dos hormigas en un mismo hormiguero, pero los ejemplos del 'area_promedio' y 'dimension_fractal_promedio' arriba expuestos  nos  están demostrando que semejantemente nos encontramos en esta situacion.\n",
    " ***\n",
    " <div style=\"text-align: center\">  _Es deseable llevar todas las características al mismo nivel de magnitudes. Esto se puede lograr mediante la escala. Esto significa transformar todos los datos a una misma  escala específica, \n",
    "como  de 0 a 100 o de  0 a 1._  </div>\n",
    " ***\n"
   ]
  },
  {
   "cell_type": "markdown",
   "metadata": {},
   "source": [
    "Para ello, usamos el metodo _StandardScaler_ de la bilbioteca **sklearn**"
   ]
  },
  {
   "cell_type": "code",
   "execution_count": 29,
   "metadata": {},
   "outputs": [],
   "source": [
    "from sklearn.preprocessing import StandardScaler\n",
    "sc = StandardScaler()\n",
    "X_train = sc.fit_transform(X_train)\n",
    "X_test = sc.transform(X_test)"
   ]
  },
  {
   "cell_type": "markdown",
   "metadata": {},
   "source": [
    "\n",
    "### Modelado de datos\n",
    " - Seleccion de Caracteristicas.  Reducir el numero de caracterisiticas trae los siguientes beneficios:\n",
    "     - Reduce el numero de redundancias en los datos\n",
    "     - Acelera los procesos de entrenamiento \n",
    "     - Reduce el 'overfitting'\n",
    "     - Muestreo de modelos base\n",
    " - Muestreo de los modelos base   \n",
    " ***"
   ]
  },
  {
   "cell_type": "markdown",
   "metadata": {},
   "source": [
    "En el area del aprendizaje de maquinas se diferencian las predicciones en dos tipos. Por un lado, las predicciones que toman valores en el  continuo (en la recta real), se les llama _Regresiones_. Por ejemplo, el tiempo que tarda un avion en cruzar el continente. Mientras que las predicciones que invulcran solo un numero finito de predicciones (discreto o categórico), se les conoce como _clasificaciones_. Por ejemplo un conjunto de tres colores, el día o la noche, etc.\n",
    "***\n",
    "En nuestro caso queremos predicir si el cancer es maligno o benigno, entonces usaremos _algoritmos de clasificacion para el aprendizaje supervisado_ \n",
    "***\n",
    "La palabra supervisado, aqui significa que sabemos que etiqueta final queremos predecir: _Benigno_ o _Maligno_. Las etiquetas _Benigno_  y _Maligno_ que usamos para entrenar a la maquina, no deben ser llamadas  _predicciones_ sino _datos de salida_: toda prediccion es un dato de salida pero no al reves.\n"
   ]
  },
  {
   "cell_type": "markdown",
   "metadata": {},
   "source": [
    "Los siguientes nombres de algoritmos de clasificación en Aprendizaje Automático, son de los más populares en el mundo de la ciencia de datos:\n",
    "\n",
    "1. Regresión logística\n",
    "\n",
    "2. Vecino más cercano\n",
    "\n",
    "3. Soporte de máquinas de vectores\n",
    "\n",
    "4. Kernel SVM\n",
    "\n",
    "5. Naïve Bayes\n",
    "\n",
    "6. Árbol de decisión\n",
    "\n",
    "7. Bosques al azar\n",
    "\n",
    "La biblioteca **sklearn** tiene en incluído todos estos casos. A continuación describimos cada uno de los métodos e importamos las correspondendientes sub-librerias ."
   ]
  },
  {
   "cell_type": "markdown",
   "metadata": {},
   "source": [
    "##### REGRESIÓN LOGÍSTICA.\n",
    "\n",
    "En su forma mas sencilla (la cual es la que necesitamos aqui), la regresion logistica modela las variables de salida 'Benigno y 'Maligno, en este caso hablamos de una _regresión logística binaria_.\n",
    "\n",
    "##### Ensayo de Bernoulli\n",
    "\n",
    "Ensayos repetidos independientes de un experimento con exactamente dos resultados posibles se llaman _ensayos de Bernoulli_ (el resultado de un paciente no influyen en los demás)\n",
    "\n",
    "\n",
    "La regresión logística difiere de la regresión ordinaria en que la segunda regresa valores continuos. En la regresión logísitica, la simplicidad de la regresión lineal es usada, pero tiene que ser adicionada con  una forma de convertir una variable binaria en una continua que pueda tomar cualquier valor real (negativo o positivo). \n",
    "\n",
    "Necesitamos definir la _frontera de decisión_ (_boundary decision_). \n",
    "\n",
    "Esta predicción categórica se puede basar en las probabilidades calculadas de éxito, y las probabilidades pronosticadas por encima de un valor de corte elegido se traducen en una predicción de éxito. \n"
   ]
  },
  {
   "cell_type": "markdown",
   "metadata": {},
   "source": [
    "#### Funciones de Activación\n",
    "\n",
    "Computacionalmente a veces es mejor aproximar probabilidades de valores categóricos con funciones continuas conocidas como funciones de activación.\n",
    "\n",
    "Por ejemplo las funciones _sigmoid_ y _tanh_:"
   ]
  },
  {
   "cell_type": "code",
   "execution_count": 41,
   "metadata": {},
   "outputs": [
    {
     "data": {
      "image/png": "[encoded data removed]",
      "text/plain": [
       "<matplotlib.figure.Figure at 0x7fc9bea8d198>"
      ]
     },
     "metadata": {},
     "output_type": "display_data"
    }
   ],
   "source": [
    "def sigmoid(x):  \n",
    "    return  np.array([1 / (1 + np.exp(-y)) for y in x])\n",
    "\n",
    "def tanh(x):\n",
    "    return np.array([math.tanh(y) for y in x])\n",
    "\n",
    "t = np.linspace(-4,4,400)\n",
    "\n",
    "a = 4*sigmoid(t) - 2\n",
    "b = 1*tanh(t) + 0\n",
    "\n",
    "plt.plot(t,a,t,b)\n",
    "\n",
    "plt.show()"
   ]
  },
  {
   "cell_type": "markdown",
   "metadata": {},
   "source": [
    "A continuación cargamos el método de regresión logística de **skit-learn**, para despues hacer el ajuste:"
   ]
  },
  {
   "cell_type": "code",
   "execution_count": 42,
   "metadata": {},
   "outputs": [
    {
     "data": {
      "text/plain": [
       "LogisticRegression(C=1.0, class_weight=None, dual=False, fit_intercept=True,\n",
       "          intercept_scaling=1, max_iter=100, multi_class='ovr', n_jobs=1,\n",
       "          penalty='l2', random_state=0, solver='liblinear', tol=0.0001,\n",
       "          verbose=0, warm_start=False)"
      ]
     },
     "execution_count": 42,
     "metadata": {},
     "output_type": "execute_result"
    }
   ],
   "source": [
    "#Using Logistic Regression Algorithm to the Training Set\n",
    "from sklearn.linear_model import LogisticRegression\n",
    "\n",
    "classifier = LogisticRegression(random_state = 0)\n",
    "\n",
    "#Una vez cargado el clasificador, hacemos \n",
    "classifier.fit(X_train, Y_train)"
   ]
  },
  {
   "cell_type": "code",
   "execution_count": null,
   "metadata": {},
   "outputs": [],
   "source": []
  },
  {
   "cell_type": "markdown",
   "metadata": {},
   "source": [
    "REGRESION LOGÍSTICA "
   ]
  },
  {
   "cell_type": "code",
   "execution_count": null,
   "metadata": {},
   "outputs": [],
   "source": [
    "\n",
    "#Using KNeighborsClassifier Method of neighbors class to use Nearest Neighbor algorithm\n",
    "from sklearn.neighbors import KNeighborsClassifier\n",
    "classifier = KNeighborsClassifier(n_neighbors = 5, metric = 'minkowski', p = 2)\n",
    "classifier.fit(X_train, Y_train)\n",
    "\n",
    "#Using SVC method of svm class to use Support Vector Machine Algorithm\n",
    "\n",
    "from sklearn.svm import SVC\n",
    "classifier = SVC(kernel = 'linear', random_state = 0)\n",
    "classifier.fit(X_train, Y_train)\n",
    "\n",
    "#Using SVC method of svm class to use Kernel SVM Algorithm\n",
    "\n",
    "from sklearn.svm import SVC\n",
    "classifier = SVC(kernel = 'rbf', random_state = 0)\n",
    "classifier.fit(X_train, Y_train)\n",
    "\n",
    "#Using GaussianNB method of naïve_bayes class to use Naïve Bayes Algorithm\n",
    "\n",
    "from sklearn.naive_bayes import GaussianNB\n",
    "classifier = GaussianNB()\n",
    "classifier.fit(X_train, Y_train)\n",
    "\n",
    "#Using DecisionTreeClassifier of tree class to use Decision Tree Algorithm\n",
    "\n",
    "from sklearn.tree import DecisionTreeClassifier\n",
    "classifier = DecisionTreeClassifier(criterion = 'entropy', random_state = 0)\n",
    "classifier.fit(X_train, Y_train)\n",
    "\n",
    "#Using RandomForestClassifier method of ensemble class to use Random Forest Classification algorithm\n",
    "\n",
    "from sklearn.ensemble import RandomForestClassifier\n",
    "classifier = RandomForestClassifier(n_estimators = 10, criterion = 'entropy', random_state = 0)\n",
    "classifier.fit(X_train, Y_train)"
   ]
  },
  {
   "cell_type": "markdown",
   "metadata": {},
   "source": [
    "### Validación cruzada\n",
    "\n",
    "Mucha veces en vez de dividir inicialmente el conjunto de datos en dos subconjuntos, lo hacemos en tres subconjuntos: _entrenamiento_, _validación_ y _prueba_\n",
    "\n",
    "dejan de lado el conjunto de pruebas y eligen aleatoriamente el X% \n",
    "de su conjunto de datos de tren para que sea el conjunto de trenes real y el restante (100-X)% \n",
    "para ser el conjunto de validación, donde X es un número fijo (por ejemplo, 80%). ), \n",
    "el modelo se entrena y valida iterativamente en estos diferentes conjuntos.\n",
    "Hay varias formas de hacer esto, y se conoce comúnmente como validación cruzada. \n",
    "Básicamente, utiliza su conjunto de entrenamiento para generar múltiples divisiones \n",
    "de los conjuntos de Entrenamiento y Validación. La validación cruzada evita el ajuste \n",
    "excesivo y se está volviendo cada vez más popular, siendo la Validación Cruzada K-fold \n",
    "el método más popular de validación cruzada.\n",
    "Mira esto para más.\n",
    "\n",
    "En el enfoque que estamos siguiendo (también muy común entre los practicantes del aprendizaje de datos) \n",
    "\n",
    "\n",
    "Nosotros estamos usando una forma especifica de _validacio"
   ]
  },
  {
   "cell_type": "markdown",
   "metadata": {},
   "source": [
    "Nota sobre la validación cruzada: muchas veces,\n",
    "las personas primero dividen su conjunto de datos en 2 - Train and Test.\n",
    "Después de esto, dejan de lado el conjunto de pruebas y eligen aleatoriamente el X% \n",
    "de su conjunto de datos de tren para que sea el conjunto de trenes real y el restante (100-X)% \n",
    "para ser el conjunto de validación, donde X es un número fijo (por ejemplo, 80%). ), \n",
    "el modelo se entrena y valida iterativamente en estos diferentes conjuntos.\n",
    "Hay varias formas de hacer esto, y se conoce comúnmente como validación cruzada. \n",
    "Básicamente, utiliza su conjunto de entrenamiento para generar múltiples divisiones \n",
    "de los conjuntos de Entrenamiento y Validación. La validación cruzada evita el ajuste \n",
    "excesivo y se está volviendo cada vez más popular, siendo la Validación Cruzada K-fold \n",
    "el método más popular de validación cruzada.\n",
    "Mira esto para más."
   ]
  },
  {
   "cell_type": "markdown",
   "metadata": {},
   "source": [
    "Las columnas _Maligno_ y _Benigno_ son redundates. El conocimiento de una, automaticamente nos define la otra. Eliminamos una:"
   ]
  }
 ],
 "metadata": {
  "celltoolbar": "Slideshow",
  "kernelspec": {
   "display_name": "Python 3",
   "language": "python",
   "name": "python3"
  },
  "language_info": {
   "codemirror_mode": {
    "name": "ipython",
    "version": 3
   },
   "file_extension": ".py",
   "mimetype": "text/x-python",
   "name": "python",
   "nbconvert_exporter": "python",
   "pygments_lexer": "ipython3",
   "version": "3.6.4"
  }
 },
 "nbformat": 4,
 "nbformat_minor": 2
}
