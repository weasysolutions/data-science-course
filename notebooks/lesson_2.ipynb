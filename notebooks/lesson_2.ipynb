{
 "cells": [
  {
   "cell_type": "markdown",
   "metadata": {
    "slideshow": {
     "slide_type": "slide"
    }
   },
   "source": [
    "# Lección II"
   ]
  },
  {
   "cell_type": "markdown",
   "metadata": {
    "slideshow": {
     "slide_type": "fragment"
    }
   },
   "source": [
    "#### _<font color=blue>  Objetivo de la lección: </font>_\n",
    "\n",
    "<font color=blue>\n",
    " Aprender las diferentes fases del Aprendizaje de Datos (ML): Análisis exploratorio  de los datos. \n",
    "</font>"
   ]
  },
  {
   "cell_type": "markdown",
   "metadata": {
    "slideshow": {
     "slide_type": "slide"
    }
   },
   "source": [
    "La librerias de __Python__ que se usan en esta lección del curso son \n",
    "\n",
    "* <b>Pandas</b> para la manipulación e ingesta de los datos\n",
    "* <b>Matplotlib</b> and <b> seaborn</b> para la vizualización de los datos\n",
    "* <b>Numpy</b> para computo de arreglos multidimensionales\n",
    "* <b>sklearn</b> para el aprendizaje de máquinas y el modelado predectivo"
   ]
  },
  {
   "cell_type": "markdown",
   "metadata": {
    "slideshow": {
     "slide_type": "slide"
    }
   },
   "source": [
    "### Proceso de Instalación \n",
    "\n",
    "Una manera sencilla de installar esta paqueteria es descargar e instalar \n",
    "la distribucion <a href=\"http://conda.pydata.org/docs/install/quick.html#os-x-miniconda-install\">Conda</a> que encapsula a todas las librerias mencionadas. Esta distribución esta disponible en todas las plataformas (Windows, Linux and Mac OSX)."
   ]
  },
  {
   "cell_type": "markdown",
   "metadata": {
    "slideshow": {
     "slide_type": "slide"
    }
   },
   "source": [
    "### El conjunto de datos (Wisconsin) del Cáncer de mama\n",
    "\n",
    "Nuestro caso de estudio es el conjunto de datos obtenidos para el cancer de mama en el hospital de Wisconsin. El articulo donde se describe la metología empleada para la obtencion de las caracteristicas de la informacion es\n",
    "\n",
    " _[K. P. Bennett y O. L. Mangasarian: \"Discriminación robusta de la programación lineal de dos conjuntos linealmente inseparables\", Métodos de optimización y software 1, 1992, 23-34]._"
   ]
  },
  {
   "cell_type": "markdown",
   "metadata": {
    "slideshow": {
     "slide_type": "slide"
    }
   },
   "source": [
    "#### El conjunto de datos (Wisconsin) del Cáncer de mama\n",
    " \n",
    "Del artículo mencionado, leemos que:\n",
    "\n",
    "\"Cada registro representa información de seguimiento para un caso cáncer de mama. \n",
    "Estos  pacientes han sido atentidos por el Dr. Wolberg desde el año 1984,\n",
    "están incluídos sólo aquellos casos que exhiben cáncer de mama y donde no hay evidencia de metástasis \n",
    "a distancia en el tiempo de diagnóstico.\"\n",
    "\n",
    "\n",
    "_Las características se calculan a partir de una imagen digitalizada de un aspirado con aguja fina (FNA) de una masa mamaria_ \n"
   ]
  },
  {
   "cell_type": "markdown",
   "metadata": {
    "slideshow": {
     "slide_type": "slide"
    }
   },
   "source": [
    "\n",
    "<img style=\"float: center;\" src=\"../images/fna-cell.png\">\n",
    "\n",
    "\n",
    "<h5 align=\"justify\">Imagen ampliada de un seno maligno obtenida con la biopsia FNA (Fine Needle Aspiration). Los núcleos de células visibles se han esbozado con la ayuda de un programa de ajuste de curvas. El sistema también calcula varias características para cada núcleo y diagnostica con precisión la muestra. El proceso de diagnóstico interactivo toma alrededor de 5 minutos por muestra.</h5> \n",
    "\n",
    "FUENTE: K. P. Bennett and O. L. Mangasarian: \"Robust Linear Programming Discrimination of Two Linearly Inseparable Sets\", Optimization Methods and Software 1, 1992, 23-34\n"
   ]
  },
  {
   "cell_type": "markdown",
   "metadata": {
    "slideshow": {
     "slide_type": "slide"
    }
   },
   "source": [
    "\n",
    "Los datos se encuentran en el \n",
    "  __[repositorio de aprendizaje automático de UCI:](  https://archive.ics.uci.edu/ml/datasets/Breast+Cancer+Wisconsin+%28Diagnostic%29)__  \n",
    "***\n",
    "_El repositorio de aprendizaje automático de UCI es una colección de bases de datos, teorías de dominio y generadores de datos que la comunidad de aprendizaje automático utiliza para el análisis empírico de los algoritmos de aprendizaje automático. El archivo fue creado como archivo ftp en 1987 por David Aha y otros estudiantes graduados en UC Irvine. Desde entonces, ha sido ampliamente utilizado por estudiantes, educadores e investigadores de todo el mundo como fuente principal de conjuntos de datos de aprendizaje automático._"
   ]
  },
  {
   "cell_type": "markdown",
   "metadata": {
    "slideshow": {
     "slide_type": "slide"
    }
   },
   "source": [
    "<h2 align=\"center\">El flujo de trabajo en un proyecto de ciencia de datos </h2>\n",
    "\n",
    "El conjunto de  lineamientos específicos ('ducto') en un proyecto de  ciencia de datos varía dependiendo de la naturaleza del mismo. Aquí trabajamos el ducto estandar:\n",
    "\n",
    "### Análisis exploratorio de los datos\n",
    "\n",
    "### Ingeniería de Características\n",
    "\n",
    "### Modelado de datos\n",
    "\n",
    " ***\n",
    " Especificamente, en esta leccion nos enfocamos en el primer punto"
   ]
  },
  {
   "cell_type": "markdown",
   "metadata": {
    "slideshow": {
     "slide_type": "slide"
    }
   },
   "source": [
    "\n",
    "## Análisis exploratorio de los datos\n",
    "\n",
    "_En estadística, el análisis exploratorio de los datos  representa un enfoque para analizar conjuntos de datos que resumen sus características principales, a menudo con métodos visuales._\n",
    "\n",
    "Nuestro Análisis exploratorio consiste en las siguientes tareas especificas\n",
    "\n",
    " - __Extracción__: Cargar el conjunto de datos y echarles una mirada\n",
    " - __Limpieza__: Encontrar los valores que faltan\n",
    " - __Visualización__: Crear algunas gráficas interesantes que nos permitan idendificar correlaciones \n",
    " "
   ]
  },
  {
   "cell_type": "markdown",
   "metadata": {
    "slideshow": {
     "slide_type": "slide"
    }
   },
   "source": [
    "_Ajustamos un poco el estilo de este libro trabajo para tener graficas centradas_ "
   ]
  },
  {
   "cell_type": "code",
   "execution_count": 4,
   "metadata": {
    "slideshow": {
     "slide_type": "fragment"
    }
   },
   "outputs": [],
   "source": [
    "from IPython.core.display import HTML\n",
    "HTML(\"\"\"\n",
    "<style>\n",
    ".output_png {\n",
    "    display: table-cell;\n",
    "    text-align: center;\n",
    "    vertical-align: middle;\n",
    "}\n",
    "</style>\n",
    "\"\"\");"
   ]
  },
  {
   "cell_type": "markdown",
   "metadata": {
    "slideshow": {
     "slide_type": "slide"
    }
   },
   "source": [
    "\n",
    "## Análisis exploratorio de los datos\n",
    "\n",
    "  **Extracción** \n",
    "  \n",
    "  Obtenemos los datos directamente del URL oficial del repositorio de datos. Para ello importamos la biblioteca _requests_"
   ]
  },
  {
   "cell_type": "code",
   "execution_count": 5,
   "metadata": {
    "scrolled": true,
    "slideshow": {
     "slide_type": "fragment"
    }
   },
   "outputs": [],
   "source": [
    "#import wget as wget\n",
    "import requests\n",
    "import csv\n",
    "\n",
    "url = 'https://archive.ics.uci.edu/ml/machine-learning-databases/breast-cancer-wisconsin/wdbc.data'  \n",
    "local_path = '../data/wisconsin.csv'\n",
    "wisconsin_data = requests.get(url, allow_redirects=True)\n",
    "\n",
    "with open(local_path, 'w') as f:\n",
    "    writer = csv.writer(f)\n",
    "    reader = csv.reader(wisconsin_data.text.splitlines())\n",
    "\n",
    "    for row in reader:\n",
    "        writer.writerow(row)"
   ]
  },
  {
   "cell_type": "markdown",
   "metadata": {
    "slideshow": {
     "slide_type": "slide"
    }
   },
   "source": [
    "En el sitio del repositorio podemos encontrar un\n",
    "<a href=\"https://archive.ics.uci.edu/ml/machine-learning-databases/breast-cancer-wisconsin/wdbc.names\">archivo con las caracterisiticas de la  información</a>\n",
    "\n",
    "Más espeficamente el punto siete nos describe los atributos de los datos. Los primeros dos atributos (o caracteristicas) son:\n",
    "\n",
    "    1) ID \n",
    "    2) Diagnosis (M = Maligno, B = Benigno)\n",
    "\n",
    "Se calculan diez características de valor real para cada núcleo celular:\n",
    "\n",
    "    a) radio ( media de las distancias desde el centro al perímetro)    \n",
    "    b) textura (desviación estándar de los valores de escala de grises)\n",
    "    c) perímetro\n",
    "    d) área\n",
    "    e) suavidad (variación local en longitudes de radio)\n",
    "    f) compacidad (perímetro ^ 2 / área - 1.0)\n",
    "    g) concavidad (severidad de las porciones cóncavas del contorno)\n",
    "    h) puntos cóncavos (número de porciones cóncavas del contorno)\n",
    "    i) simetria\n",
    "    j) dimensión fractal (\"aproximación de la línea de costa\" - 1)"
   ]
  },
  {
   "cell_type": "markdown",
   "metadata": {
    "slideshow": {
     "slide_type": "slide"
    }
   },
   "source": [
    "La media, el error estándar y el \"peor\" o mayor (media de las tres\n",
    "los valores más grandes) de estas características se calcularon para cada imagen,\n",
    "dando como resultado 30 características. Por ejemplo, el campo 3 es Radio medio, campo\n",
    "13 es el radio SE, el campo 23 es el peor radio.\n",
    "    \n",
    "Todos los valores de las funciones se registran con cuatro dígitos significativos."
   ]
  },
  {
   "cell_type": "markdown",
   "metadata": {
    "slideshow": {
     "slide_type": "slide"
    }
   },
   "source": [
    "### Características de los datos \n",
    "***\n",
    "Los datos del archivo que descargamos, no poseen las correspondientes etiquetas (_a) radio, b) textura,..._). Tenemos 30  mediciones, el ID y el diagnostico. Entonces tenemos un número total de 32 atributos.  Las siguientes instrucciónes nos crea un arreglo de caracteristicas.  "
   ]
  },
  {
   "cell_type": "code",
   "execution_count": 6,
   "metadata": {
    "slideshow": {
     "slide_type": "fragment"
    }
   },
   "outputs": [],
   "source": [
    "features =  ['a:radio','b:textura','c:perimetro', \\\n",
    "             'd:area', 'e:suavidad','f:compactes', \\\n",
    "             'g:concavidad', 'h:puntos_concavos','i:simetria',\\\n",
    "             'j:dimension_fractal']\n",
    "\n",
    "columns_all = ['ID', 'Diagnostico'] + \\\n",
    "              list(map(lambda x: x[2:] + '_promedio', features)) + \\\n",
    "              list(map(lambda x: x[2:] + '_error', features)) +  \\\n",
    "              list(map(lambda x: x[2:] + '_peor', features))"
   ]
  },
  {
   "cell_type": "markdown",
   "metadata": {
    "slideshow": {
     "slide_type": "slide"
    }
   },
   "source": [
    "El manejo de los datos estará a cargo de la libreria **Pandas**.\n",
    "\n",
    "**Pandas**, una herramienta de análisis de datos para el lenguaje de programación Python, es actualmente la herramienta de análisis de datos abierta más popular y madura. La biblioteca está altamente optimizada para el rendimiento, con rutas de código críticas escritas en _Cython_ o _C_.\n",
    "\n",
    "Cargamos el conjunto de datos:"
   ]
  },
  {
   "cell_type": "code",
   "execution_count": 7,
   "metadata": {
    "slideshow": {
     "slide_type": "fragment"
    }
   },
   "outputs": [],
   "source": [
    "import pandas as pd\n",
    "\n",
    "data = pd.read_csv('../data/wisconsin.csv', names = columns_all);\n",
    "data = data.reset_index().drop(columns =['index'])"
   ]
  },
  {
   "cell_type": "markdown",
   "metadata": {
    "slideshow": {
     "slide_type": "slide"
    }
   },
   "source": [
    "Echamos un vistazo a los datos. Listamos un numero aleatorio de 5 registros:"
   ]
  },
  {
   "cell_type": "code",
   "execution_count": 8,
   "metadata": {
    "scrolled": true,
    "slideshow": {
     "slide_type": "slide"
    }
   },
   "outputs": [
    {
     "data": {
      "text/html": [
       "<div>\n",
       "<style scoped>\n",
       "    .dataframe tbody tr th:only-of-type {\n",
       "        vertical-align: middle;\n",
       "    }\n",
       "\n",
       "    .dataframe tbody tr th {\n",
       "        vertical-align: top;\n",
       "    }\n",
       "\n",
       "    .dataframe thead th {\n",
       "        text-align: right;\n",
       "    }\n",
       "</style>\n",
       "<table border=\"1\" class=\"dataframe\">\n",
       "  <thead>\n",
       "    <tr style=\"text-align: right;\">\n",
       "      <th></th>\n",
       "      <th>ID</th>\n",
       "      <th>Diagnostico</th>\n",
       "      <th>radio_promedio</th>\n",
       "      <th>textura_promedio</th>\n",
       "      <th>perimetro_promedio</th>\n",
       "      <th>area_promedio</th>\n",
       "      <th>suavidad_promedio</th>\n",
       "      <th>compactes_promedio</th>\n",
       "      <th>concavidad_promedio</th>\n",
       "      <th>puntos_concavos_promedio</th>\n",
       "      <th>...</th>\n",
       "      <th>radio_peor</th>\n",
       "      <th>textura_peor</th>\n",
       "      <th>perimetro_peor</th>\n",
       "      <th>area_peor</th>\n",
       "      <th>suavidad_peor</th>\n",
       "      <th>compactes_peor</th>\n",
       "      <th>concavidad_peor</th>\n",
       "      <th>puntos_concavos_peor</th>\n",
       "      <th>simetria_peor</th>\n",
       "      <th>dimension_fractal_peor</th>\n",
       "    </tr>\n",
       "  </thead>\n",
       "  <tbody>\n",
       "    <tr>\n",
       "      <th>141</th>\n",
       "      <td>869104</td>\n",
       "      <td>M</td>\n",
       "      <td>16.110</td>\n",
       "      <td>18.05</td>\n",
       "      <td>105.10</td>\n",
       "      <td>813.0</td>\n",
       "      <td>0.09721</td>\n",
       "      <td>0.11370</td>\n",
       "      <td>0.09447</td>\n",
       "      <td>0.059430</td>\n",
       "      <td>...</td>\n",
       "      <td>19.920</td>\n",
       "      <td>25.27</td>\n",
       "      <td>129.00</td>\n",
       "      <td>1233.0</td>\n",
       "      <td>0.1314</td>\n",
       "      <td>0.2236</td>\n",
       "      <td>0.2802</td>\n",
       "      <td>0.12160</td>\n",
       "      <td>0.2792</td>\n",
       "      <td>0.08158</td>\n",
       "    </tr>\n",
       "    <tr>\n",
       "      <th>189</th>\n",
       "      <td>874839</td>\n",
       "      <td>B</td>\n",
       "      <td>12.300</td>\n",
       "      <td>15.90</td>\n",
       "      <td>78.83</td>\n",
       "      <td>463.7</td>\n",
       "      <td>0.08080</td>\n",
       "      <td>0.07253</td>\n",
       "      <td>0.03844</td>\n",
       "      <td>0.016540</td>\n",
       "      <td>...</td>\n",
       "      <td>13.350</td>\n",
       "      <td>19.59</td>\n",
       "      <td>86.65</td>\n",
       "      <td>546.7</td>\n",
       "      <td>0.1096</td>\n",
       "      <td>0.1650</td>\n",
       "      <td>0.1423</td>\n",
       "      <td>0.04815</td>\n",
       "      <td>0.2482</td>\n",
       "      <td>0.06306</td>\n",
       "    </tr>\n",
       "    <tr>\n",
       "      <th>94</th>\n",
       "      <td>862028</td>\n",
       "      <td>M</td>\n",
       "      <td>15.060</td>\n",
       "      <td>19.83</td>\n",
       "      <td>100.30</td>\n",
       "      <td>705.6</td>\n",
       "      <td>0.10390</td>\n",
       "      <td>0.15530</td>\n",
       "      <td>0.17000</td>\n",
       "      <td>0.088150</td>\n",
       "      <td>...</td>\n",
       "      <td>18.230</td>\n",
       "      <td>24.23</td>\n",
       "      <td>123.50</td>\n",
       "      <td>1025.0</td>\n",
       "      <td>0.1551</td>\n",
       "      <td>0.4203</td>\n",
       "      <td>0.5203</td>\n",
       "      <td>0.21150</td>\n",
       "      <td>0.2834</td>\n",
       "      <td>0.08234</td>\n",
       "    </tr>\n",
       "    <tr>\n",
       "      <th>199</th>\n",
       "      <td>877500</td>\n",
       "      <td>M</td>\n",
       "      <td>14.450</td>\n",
       "      <td>20.22</td>\n",
       "      <td>94.49</td>\n",
       "      <td>642.7</td>\n",
       "      <td>0.09872</td>\n",
       "      <td>0.12060</td>\n",
       "      <td>0.11800</td>\n",
       "      <td>0.059800</td>\n",
       "      <td>...</td>\n",
       "      <td>18.330</td>\n",
       "      <td>30.12</td>\n",
       "      <td>117.90</td>\n",
       "      <td>1044.0</td>\n",
       "      <td>0.1552</td>\n",
       "      <td>0.4056</td>\n",
       "      <td>0.4967</td>\n",
       "      <td>0.18380</td>\n",
       "      <td>0.4753</td>\n",
       "      <td>0.10130</td>\n",
       "    </tr>\n",
       "    <tr>\n",
       "      <th>412</th>\n",
       "      <td>905539</td>\n",
       "      <td>B</td>\n",
       "      <td>9.397</td>\n",
       "      <td>21.68</td>\n",
       "      <td>59.75</td>\n",
       "      <td>268.8</td>\n",
       "      <td>0.07969</td>\n",
       "      <td>0.06053</td>\n",
       "      <td>0.03735</td>\n",
       "      <td>0.005128</td>\n",
       "      <td>...</td>\n",
       "      <td>9.965</td>\n",
       "      <td>27.99</td>\n",
       "      <td>66.61</td>\n",
       "      <td>301.0</td>\n",
       "      <td>0.1086</td>\n",
       "      <td>0.1887</td>\n",
       "      <td>0.1868</td>\n",
       "      <td>0.02564</td>\n",
       "      <td>0.2376</td>\n",
       "      <td>0.09206</td>\n",
       "    </tr>\n",
       "  </tbody>\n",
       "</table>\n",
       "<p>5 rows × 32 columns</p>\n",
       "</div>"
      ],
      "text/plain": [
       "         ID Diagnostico  radio_promedio  textura_promedio  perimetro_promedio  \\\n",
       "141  869104           M          16.110             18.05              105.10   \n",
       "189  874839           B          12.300             15.90               78.83   \n",
       "94   862028           M          15.060             19.83              100.30   \n",
       "199  877500           M          14.450             20.22               94.49   \n",
       "412  905539           B           9.397             21.68               59.75   \n",
       "\n",
       "     area_promedio  suavidad_promedio  compactes_promedio  \\\n",
       "141          813.0            0.09721             0.11370   \n",
       "189          463.7            0.08080             0.07253   \n",
       "94           705.6            0.10390             0.15530   \n",
       "199          642.7            0.09872             0.12060   \n",
       "412          268.8            0.07969             0.06053   \n",
       "\n",
       "     concavidad_promedio  puntos_concavos_promedio  ...  radio_peor  \\\n",
       "141              0.09447                  0.059430  ...      19.920   \n",
       "189              0.03844                  0.016540  ...      13.350   \n",
       "94               0.17000                  0.088150  ...      18.230   \n",
       "199              0.11800                  0.059800  ...      18.330   \n",
       "412              0.03735                  0.005128  ...       9.965   \n",
       "\n",
       "     textura_peor  perimetro_peor  area_peor  suavidad_peor  compactes_peor  \\\n",
       "141         25.27          129.00     1233.0         0.1314          0.2236   \n",
       "189         19.59           86.65      546.7         0.1096          0.1650   \n",
       "94          24.23          123.50     1025.0         0.1551          0.4203   \n",
       "199         30.12          117.90     1044.0         0.1552          0.4056   \n",
       "412         27.99           66.61      301.0         0.1086          0.1887   \n",
       "\n",
       "     concavidad_peor  puntos_concavos_peor  simetria_peor  \\\n",
       "141           0.2802               0.12160         0.2792   \n",
       "189           0.1423               0.04815         0.2482   \n",
       "94            0.5203               0.21150         0.2834   \n",
       "199           0.4967               0.18380         0.4753   \n",
       "412           0.1868               0.02564         0.2376   \n",
       "\n",
       "     dimension_fractal_peor  \n",
       "141                 0.08158  \n",
       "189                 0.06306  \n",
       "94                  0.08234  \n",
       "199                 0.10130  \n",
       "412                 0.09206  \n",
       "\n",
       "[5 rows x 32 columns]"
      ]
     },
     "execution_count": 8,
     "metadata": {},
     "output_type": "execute_result"
    }
   ],
   "source": [
    "data.sample(5)"
   ]
  },
  {
   "cell_type": "markdown",
   "metadata": {
    "slideshow": {
     "slide_type": "slide"
    }
   },
   "source": [
    "\n",
    "### Analisis exploratorio de los datos\n",
    "\n",
    "  **Limpieza** \n",
    "  \n",
    "  El analisis de datos en el aprendizaje de las maquinas supone uniformadidad de los datos para un mismo atributo.\n",
    "  Cuando extraemos los datos pueden que no esten presentados  de manera uniforme (por ejemplo alguna medicion pudo no haberse efectuado y en ese casa el atributo para ese registro presenta un valor nulo) y un proceso de limpieza se vuelve mandatorio.\n",
    "  En nuestro caso, el <a href=\"https://archive.ics.uci.edu/ml/machine-learning-databases/breast-cancer-wisconsin/wdbc.names\"> archivo de atributos </a> especifica que:\n",
    "  \n",
    "      8. Valores de atributo faltantes: ninguno\n",
    "      \n",
    "Por lo que no hay datos faltantes. \n",
    "\n",
    "***\n",
    "La limpieza de datos es tan importante para el analisis de datos, que **Pandas** tiene cargados metodos de deteccion de valores nulos:"
   ]
  },
  {
   "cell_type": "markdown",
   "metadata": {
    "slideshow": {
     "slide_type": "slide"
    }
   },
   "source": [
    "Verificamos que  todos los registros estan llenos\n",
    "***"
   ]
  },
  {
   "cell_type": "code",
   "execution_count": 9,
   "metadata": {
    "scrolled": true,
    "slideshow": {
     "slide_type": "fragment"
    }
   },
   "outputs": [
    {
     "data": {
      "text/plain": [
       "ID                            0\n",
       "Diagnostico                   0\n",
       "radio_promedio                0\n",
       "textura_promedio              0\n",
       "perimetro_promedio            0\n",
       "area_promedio                 0\n",
       "suavidad_promedio             0\n",
       "compactes_promedio            0\n",
       "concavidad_promedio           0\n",
       "puntos_concavos_promedio      0\n",
       "simetria_promedio             0\n",
       "dimension_fractal_promedio    0\n",
       "radio_error                   0\n",
       "textura_error                 0\n",
       "perimetro_error               0\n",
       "area_error                    0\n",
       "suavidad_error                0\n",
       "compactes_error               0\n",
       "concavidad_error              0\n",
       "puntos_concavos_error         0\n",
       "simetria_error                0\n",
       "dimension_fractal_error       0\n",
       "radio_peor                    0\n",
       "textura_peor                  0\n",
       "perimetro_peor                0\n",
       "area_peor                     0\n",
       "suavidad_peor                 0\n",
       "compactes_peor                0\n",
       "concavidad_peor               0\n",
       "puntos_concavos_peor          0\n",
       "simetria_peor                 0\n",
       "dimension_fractal_peor        0\n",
       "dtype: int64"
      ]
     },
     "execution_count": 9,
     "metadata": {},
     "output_type": "execute_result"
    }
   ],
   "source": [
    "data.isnull().sum()"
   ]
  },
  {
   "cell_type": "markdown",
   "metadata": {
    "slideshow": {
     "slide_type": "slide"
    }
   },
   "source": [
    "\n",
    "  NO utlizaremos el 'ID' del paciente. Por lo que lo eliminamos de nuestros datos."
   ]
  },
  {
   "cell_type": "code",
   "execution_count": 10,
   "metadata": {
    "scrolled": true,
    "slideshow": {
     "slide_type": "fragment"
    }
   },
   "outputs": [
    {
     "data": {
      "text/html": [
       "<div>\n",
       "<style scoped>\n",
       "    .dataframe tbody tr th:only-of-type {\n",
       "        vertical-align: middle;\n",
       "    }\n",
       "\n",
       "    .dataframe tbody tr th {\n",
       "        vertical-align: top;\n",
       "    }\n",
       "\n",
       "    .dataframe thead th {\n",
       "        text-align: right;\n",
       "    }\n",
       "</style>\n",
       "<table border=\"1\" class=\"dataframe\">\n",
       "  <thead>\n",
       "    <tr style=\"text-align: right;\">\n",
       "      <th></th>\n",
       "      <th>Diagnostico</th>\n",
       "      <th>radio_promedio</th>\n",
       "      <th>textura_promedio</th>\n",
       "      <th>perimetro_promedio</th>\n",
       "      <th>area_promedio</th>\n",
       "      <th>suavidad_promedio</th>\n",
       "      <th>compactes_promedio</th>\n",
       "      <th>concavidad_promedio</th>\n",
       "      <th>puntos_concavos_promedio</th>\n",
       "      <th>simetria_promedio</th>\n",
       "      <th>...</th>\n",
       "      <th>radio_peor</th>\n",
       "      <th>textura_peor</th>\n",
       "      <th>perimetro_peor</th>\n",
       "      <th>area_peor</th>\n",
       "      <th>suavidad_peor</th>\n",
       "      <th>compactes_peor</th>\n",
       "      <th>concavidad_peor</th>\n",
       "      <th>puntos_concavos_peor</th>\n",
       "      <th>simetria_peor</th>\n",
       "      <th>dimension_fractal_peor</th>\n",
       "    </tr>\n",
       "  </thead>\n",
       "  <tbody>\n",
       "    <tr>\n",
       "      <th>395</th>\n",
       "      <td>B</td>\n",
       "      <td>14.06</td>\n",
       "      <td>17.18</td>\n",
       "      <td>89.75</td>\n",
       "      <td>609.1</td>\n",
       "      <td>0.08045</td>\n",
       "      <td>0.05361</td>\n",
       "      <td>0.02681</td>\n",
       "      <td>0.03251</td>\n",
       "      <td>0.1641</td>\n",
       "      <td>...</td>\n",
       "      <td>14.92</td>\n",
       "      <td>25.34</td>\n",
       "      <td>96.42</td>\n",
       "      <td>684.5</td>\n",
       "      <td>0.1066</td>\n",
       "      <td>0.1231</td>\n",
       "      <td>0.0846</td>\n",
       "      <td>0.07911</td>\n",
       "      <td>0.2523</td>\n",
       "      <td>0.06609</td>\n",
       "    </tr>\n",
       "    <tr>\n",
       "      <th>86</th>\n",
       "      <td>M</td>\n",
       "      <td>14.48</td>\n",
       "      <td>21.46</td>\n",
       "      <td>94.25</td>\n",
       "      <td>648.2</td>\n",
       "      <td>0.09444</td>\n",
       "      <td>0.09947</td>\n",
       "      <td>0.12040</td>\n",
       "      <td>0.04938</td>\n",
       "      <td>0.2075</td>\n",
       "      <td>...</td>\n",
       "      <td>16.21</td>\n",
       "      <td>29.25</td>\n",
       "      <td>108.40</td>\n",
       "      <td>808.9</td>\n",
       "      <td>0.1306</td>\n",
       "      <td>0.1976</td>\n",
       "      <td>0.3349</td>\n",
       "      <td>0.12250</td>\n",
       "      <td>0.3020</td>\n",
       "      <td>0.06846</td>\n",
       "    </tr>\n",
       "  </tbody>\n",
       "</table>\n",
       "<p>2 rows × 31 columns</p>\n",
       "</div>"
      ],
      "text/plain": [
       "    Diagnostico  radio_promedio  textura_promedio  perimetro_promedio  \\\n",
       "395           B           14.06             17.18               89.75   \n",
       "86            M           14.48             21.46               94.25   \n",
       "\n",
       "     area_promedio  suavidad_promedio  compactes_promedio  \\\n",
       "395          609.1            0.08045             0.05361   \n",
       "86           648.2            0.09444             0.09947   \n",
       "\n",
       "     concavidad_promedio  puntos_concavos_promedio  simetria_promedio  ...  \\\n",
       "395              0.02681                   0.03251             0.1641  ...   \n",
       "86               0.12040                   0.04938             0.2075  ...   \n",
       "\n",
       "     radio_peor  textura_peor  perimetro_peor  area_peor  suavidad_peor  \\\n",
       "395       14.92         25.34           96.42      684.5         0.1066   \n",
       "86        16.21         29.25          108.40      808.9         0.1306   \n",
       "\n",
       "     compactes_peor  concavidad_peor  puntos_concavos_peor  simetria_peor  \\\n",
       "395          0.1231           0.0846               0.07911         0.2523   \n",
       "86           0.1976           0.3349               0.12250         0.3020   \n",
       "\n",
       "     dimension_fractal_peor  \n",
       "395                 0.06609  \n",
       "86                  0.06846  \n",
       "\n",
       "[2 rows x 31 columns]"
      ]
     },
     "execution_count": 10,
     "metadata": {},
     "output_type": "execute_result"
    }
   ],
   "source": [
    "data = data.drop(columns='ID')\n",
    "data.sample(2)"
   ]
  },
  {
   "cell_type": "markdown",
   "metadata": {
    "slideshow": {
     "slide_type": "slide"
    }
   },
   "source": [
    "\n",
    "### Analisis exploratorio de los datos\n",
    "\n",
    "  **Visualización: Tablas** \n",
    "  \n",
    "Pandas te permite tener una descripción estadística simple de alto nivel de las características numéricas. Esto se puede hacer usando el método de descripción.\n",
    "   "
   ]
  },
  {
   "cell_type": "code",
   "execution_count": 11,
   "metadata": {
    "scrolled": true,
    "slideshow": {
     "slide_type": "slide"
    }
   },
   "outputs": [
    {
     "data": {
      "text/html": [
       "<div>\n",
       "<style scoped>\n",
       "    .dataframe tbody tr th:only-of-type {\n",
       "        vertical-align: middle;\n",
       "    }\n",
       "\n",
       "    .dataframe tbody tr th {\n",
       "        vertical-align: top;\n",
       "    }\n",
       "\n",
       "    .dataframe thead th {\n",
       "        text-align: right;\n",
       "    }\n",
       "</style>\n",
       "<table border=\"1\" class=\"dataframe\">\n",
       "  <thead>\n",
       "    <tr style=\"text-align: right;\">\n",
       "      <th></th>\n",
       "      <th>radio_promedio</th>\n",
       "      <th>textura_promedio</th>\n",
       "      <th>perimetro_promedio</th>\n",
       "      <th>area_promedio</th>\n",
       "      <th>suavidad_promedio</th>\n",
       "      <th>compactes_promedio</th>\n",
       "      <th>concavidad_promedio</th>\n",
       "      <th>puntos_concavos_promedio</th>\n",
       "      <th>simetria_promedio</th>\n",
       "      <th>dimension_fractal_promedio</th>\n",
       "      <th>...</th>\n",
       "      <th>radio_peor</th>\n",
       "      <th>textura_peor</th>\n",
       "      <th>perimetro_peor</th>\n",
       "      <th>area_peor</th>\n",
       "      <th>suavidad_peor</th>\n",
       "      <th>compactes_peor</th>\n",
       "      <th>concavidad_peor</th>\n",
       "      <th>puntos_concavos_peor</th>\n",
       "      <th>simetria_peor</th>\n",
       "      <th>dimension_fractal_peor</th>\n",
       "    </tr>\n",
       "  </thead>\n",
       "  <tbody>\n",
       "    <tr>\n",
       "      <th>count</th>\n",
       "      <td>569.000000</td>\n",
       "      <td>569.000000</td>\n",
       "      <td>569.000000</td>\n",
       "      <td>569.000000</td>\n",
       "      <td>569.000000</td>\n",
       "      <td>569.000000</td>\n",
       "      <td>569.000000</td>\n",
       "      <td>569.000000</td>\n",
       "      <td>569.000000</td>\n",
       "      <td>569.000000</td>\n",
       "      <td>...</td>\n",
       "      <td>569.000000</td>\n",
       "      <td>569.000000</td>\n",
       "      <td>569.000000</td>\n",
       "      <td>569.000000</td>\n",
       "      <td>569.000000</td>\n",
       "      <td>569.000000</td>\n",
       "      <td>569.000000</td>\n",
       "      <td>569.000000</td>\n",
       "      <td>569.000000</td>\n",
       "      <td>569.000000</td>\n",
       "    </tr>\n",
       "    <tr>\n",
       "      <th>mean</th>\n",
       "      <td>14.127292</td>\n",
       "      <td>19.289649</td>\n",
       "      <td>91.969033</td>\n",
       "      <td>654.889104</td>\n",
       "      <td>0.096360</td>\n",
       "      <td>0.104341</td>\n",
       "      <td>0.088799</td>\n",
       "      <td>0.048919</td>\n",
       "      <td>0.181162</td>\n",
       "      <td>0.062798</td>\n",
       "      <td>...</td>\n",
       "      <td>16.269190</td>\n",
       "      <td>25.677223</td>\n",
       "      <td>107.261213</td>\n",
       "      <td>880.583128</td>\n",
       "      <td>0.132369</td>\n",
       "      <td>0.254265</td>\n",
       "      <td>0.272188</td>\n",
       "      <td>0.114606</td>\n",
       "      <td>0.290076</td>\n",
       "      <td>0.083946</td>\n",
       "    </tr>\n",
       "    <tr>\n",
       "      <th>std</th>\n",
       "      <td>3.524049</td>\n",
       "      <td>4.301036</td>\n",
       "      <td>24.298981</td>\n",
       "      <td>351.914129</td>\n",
       "      <td>0.014064</td>\n",
       "      <td>0.052813</td>\n",
       "      <td>0.079720</td>\n",
       "      <td>0.038803</td>\n",
       "      <td>0.027414</td>\n",
       "      <td>0.007060</td>\n",
       "      <td>...</td>\n",
       "      <td>4.833242</td>\n",
       "      <td>6.146258</td>\n",
       "      <td>33.602542</td>\n",
       "      <td>569.356993</td>\n",
       "      <td>0.022832</td>\n",
       "      <td>0.157336</td>\n",
       "      <td>0.208624</td>\n",
       "      <td>0.065732</td>\n",
       "      <td>0.061867</td>\n",
       "      <td>0.018061</td>\n",
       "    </tr>\n",
       "    <tr>\n",
       "      <th>min</th>\n",
       "      <td>6.981000</td>\n",
       "      <td>9.710000</td>\n",
       "      <td>43.790000</td>\n",
       "      <td>143.500000</td>\n",
       "      <td>0.052630</td>\n",
       "      <td>0.019380</td>\n",
       "      <td>0.000000</td>\n",
       "      <td>0.000000</td>\n",
       "      <td>0.106000</td>\n",
       "      <td>0.049960</td>\n",
       "      <td>...</td>\n",
       "      <td>7.930000</td>\n",
       "      <td>12.020000</td>\n",
       "      <td>50.410000</td>\n",
       "      <td>185.200000</td>\n",
       "      <td>0.071170</td>\n",
       "      <td>0.027290</td>\n",
       "      <td>0.000000</td>\n",
       "      <td>0.000000</td>\n",
       "      <td>0.156500</td>\n",
       "      <td>0.055040</td>\n",
       "    </tr>\n",
       "    <tr>\n",
       "      <th>25%</th>\n",
       "      <td>11.700000</td>\n",
       "      <td>16.170000</td>\n",
       "      <td>75.170000</td>\n",
       "      <td>420.300000</td>\n",
       "      <td>0.086370</td>\n",
       "      <td>0.064920</td>\n",
       "      <td>0.029560</td>\n",
       "      <td>0.020310</td>\n",
       "      <td>0.161900</td>\n",
       "      <td>0.057700</td>\n",
       "      <td>...</td>\n",
       "      <td>13.010000</td>\n",
       "      <td>21.080000</td>\n",
       "      <td>84.110000</td>\n",
       "      <td>515.300000</td>\n",
       "      <td>0.116600</td>\n",
       "      <td>0.147200</td>\n",
       "      <td>0.114500</td>\n",
       "      <td>0.064930</td>\n",
       "      <td>0.250400</td>\n",
       "      <td>0.071460</td>\n",
       "    </tr>\n",
       "    <tr>\n",
       "      <th>50%</th>\n",
       "      <td>13.370000</td>\n",
       "      <td>18.840000</td>\n",
       "      <td>86.240000</td>\n",
       "      <td>551.100000</td>\n",
       "      <td>0.095870</td>\n",
       "      <td>0.092630</td>\n",
       "      <td>0.061540</td>\n",
       "      <td>0.033500</td>\n",
       "      <td>0.179200</td>\n",
       "      <td>0.061540</td>\n",
       "      <td>...</td>\n",
       "      <td>14.970000</td>\n",
       "      <td>25.410000</td>\n",
       "      <td>97.660000</td>\n",
       "      <td>686.500000</td>\n",
       "      <td>0.131300</td>\n",
       "      <td>0.211900</td>\n",
       "      <td>0.226700</td>\n",
       "      <td>0.099930</td>\n",
       "      <td>0.282200</td>\n",
       "      <td>0.080040</td>\n",
       "    </tr>\n",
       "    <tr>\n",
       "      <th>75%</th>\n",
       "      <td>15.780000</td>\n",
       "      <td>21.800000</td>\n",
       "      <td>104.100000</td>\n",
       "      <td>782.700000</td>\n",
       "      <td>0.105300</td>\n",
       "      <td>0.130400</td>\n",
       "      <td>0.130700</td>\n",
       "      <td>0.074000</td>\n",
       "      <td>0.195700</td>\n",
       "      <td>0.066120</td>\n",
       "      <td>...</td>\n",
       "      <td>18.790000</td>\n",
       "      <td>29.720000</td>\n",
       "      <td>125.400000</td>\n",
       "      <td>1084.000000</td>\n",
       "      <td>0.146000</td>\n",
       "      <td>0.339100</td>\n",
       "      <td>0.382900</td>\n",
       "      <td>0.161400</td>\n",
       "      <td>0.317900</td>\n",
       "      <td>0.092080</td>\n",
       "    </tr>\n",
       "    <tr>\n",
       "      <th>max</th>\n",
       "      <td>28.110000</td>\n",
       "      <td>39.280000</td>\n",
       "      <td>188.500000</td>\n",
       "      <td>2501.000000</td>\n",
       "      <td>0.163400</td>\n",
       "      <td>0.345400</td>\n",
       "      <td>0.426800</td>\n",
       "      <td>0.201200</td>\n",
       "      <td>0.304000</td>\n",
       "      <td>0.097440</td>\n",
       "      <td>...</td>\n",
       "      <td>36.040000</td>\n",
       "      <td>49.540000</td>\n",
       "      <td>251.200000</td>\n",
       "      <td>4254.000000</td>\n",
       "      <td>0.222600</td>\n",
       "      <td>1.058000</td>\n",
       "      <td>1.252000</td>\n",
       "      <td>0.291000</td>\n",
       "      <td>0.663800</td>\n",
       "      <td>0.207500</td>\n",
       "    </tr>\n",
       "  </tbody>\n",
       "</table>\n",
       "<p>8 rows × 30 columns</p>\n",
       "</div>"
      ],
      "text/plain": [
       "       radio_promedio  textura_promedio  perimetro_promedio  area_promedio  \\\n",
       "count      569.000000        569.000000          569.000000     569.000000   \n",
       "mean        14.127292         19.289649           91.969033     654.889104   \n",
       "std          3.524049          4.301036           24.298981     351.914129   \n",
       "min          6.981000          9.710000           43.790000     143.500000   \n",
       "25%         11.700000         16.170000           75.170000     420.300000   \n",
       "50%         13.370000         18.840000           86.240000     551.100000   \n",
       "75%         15.780000         21.800000          104.100000     782.700000   \n",
       "max         28.110000         39.280000          188.500000    2501.000000   \n",
       "\n",
       "       suavidad_promedio  compactes_promedio  concavidad_promedio  \\\n",
       "count         569.000000          569.000000           569.000000   \n",
       "mean            0.096360            0.104341             0.088799   \n",
       "std             0.014064            0.052813             0.079720   \n",
       "min             0.052630            0.019380             0.000000   \n",
       "25%             0.086370            0.064920             0.029560   \n",
       "50%             0.095870            0.092630             0.061540   \n",
       "75%             0.105300            0.130400             0.130700   \n",
       "max             0.163400            0.345400             0.426800   \n",
       "\n",
       "       puntos_concavos_promedio  simetria_promedio  \\\n",
       "count                569.000000         569.000000   \n",
       "mean                   0.048919           0.181162   \n",
       "std                    0.038803           0.027414   \n",
       "min                    0.000000           0.106000   \n",
       "25%                    0.020310           0.161900   \n",
       "50%                    0.033500           0.179200   \n",
       "75%                    0.074000           0.195700   \n",
       "max                    0.201200           0.304000   \n",
       "\n",
       "       dimension_fractal_promedio  ...  radio_peor  textura_peor  \\\n",
       "count                  569.000000  ...  569.000000    569.000000   \n",
       "mean                     0.062798  ...   16.269190     25.677223   \n",
       "std                      0.007060  ...    4.833242      6.146258   \n",
       "min                      0.049960  ...    7.930000     12.020000   \n",
       "25%                      0.057700  ...   13.010000     21.080000   \n",
       "50%                      0.061540  ...   14.970000     25.410000   \n",
       "75%                      0.066120  ...   18.790000     29.720000   \n",
       "max                      0.097440  ...   36.040000     49.540000   \n",
       "\n",
       "       perimetro_peor    area_peor  suavidad_peor  compactes_peor  \\\n",
       "count      569.000000   569.000000     569.000000      569.000000   \n",
       "mean       107.261213   880.583128       0.132369        0.254265   \n",
       "std         33.602542   569.356993       0.022832        0.157336   \n",
       "min         50.410000   185.200000       0.071170        0.027290   \n",
       "25%         84.110000   515.300000       0.116600        0.147200   \n",
       "50%         97.660000   686.500000       0.131300        0.211900   \n",
       "75%        125.400000  1084.000000       0.146000        0.339100   \n",
       "max        251.200000  4254.000000       0.222600        1.058000   \n",
       "\n",
       "       concavidad_peor  puntos_concavos_peor  simetria_peor  \\\n",
       "count       569.000000            569.000000     569.000000   \n",
       "mean          0.272188              0.114606       0.290076   \n",
       "std           0.208624              0.065732       0.061867   \n",
       "min           0.000000              0.000000       0.156500   \n",
       "25%           0.114500              0.064930       0.250400   \n",
       "50%           0.226700              0.099930       0.282200   \n",
       "75%           0.382900              0.161400       0.317900   \n",
       "max           1.252000              0.291000       0.663800   \n",
       "\n",
       "       dimension_fractal_peor  \n",
       "count              569.000000  \n",
       "mean                 0.083946  \n",
       "std                  0.018061  \n",
       "min                  0.055040  \n",
       "25%                  0.071460  \n",
       "50%                  0.080040  \n",
       "75%                  0.092080  \n",
       "max                  0.207500  \n",
       "\n",
       "[8 rows x 30 columns]"
      ]
     },
     "execution_count": 11,
     "metadata": {},
     "output_type": "execute_result"
    }
   ],
   "source": [
    "data.describe()"
   ]
  },
  {
   "cell_type": "markdown",
   "metadata": {
    "slideshow": {
     "slide_type": "slide"
    }
   },
   "source": [
    "En _estadística_, la desviación estándar (representada por el índice **std** en la anterior tabla) es una medida que se utiliza para cuantificar la cantidad de variación o dispersión de un conjunto de valores de datos.  Una baja desviación estándar indica que los puntos de datos tienden a estar cerca de la media (también llamado el valor esperado) del conjunto, mientras que una alta desviación estándar indica que los puntos de datos se extienden en un rango más amplio de valores"
   ]
  },
  {
   "cell_type": "markdown",
   "metadata": {
    "slideshow": {
     "slide_type": "slide"
    }
   },
   "source": [
    "**Visualización: Gráficas** \n",
    "\n",
    "La visualización de los datos a través gráficas facilita la comprensión de la información que se quiere analizar. También ayuda a explicar los datos a otra persona.\n",
    "\n",
    "Python tiene varias bibliotecas de visualización interesantes, como Matplotlib, Seaborn, etc. Los datos de nuestros atributos son valores númericos. Para darnos una idea de como se encuentran distribuídos se agrupan en intervalos especificos. Después se generan las gráficas para estás distribuiciones\n"
   ]
  },
  {
   "cell_type": "markdown",
   "metadata": {
    "slideshow": {
     "slide_type": "slide"
    }
   },
   "source": [
    "***\n",
    "Se usan en parte la visualización de pandas que se construye sobre matplotlib, para encontrar la distribución de datos de los atributos: "
   ]
  },
  {
   "cell_type": "code",
   "execution_count": 12,
   "metadata": {
    "scrolled": false,
    "slideshow": {
     "slide_type": "fragment"
    }
   },
   "outputs": [
    {
     "data": {
      "text/plain": [
       "Diagnostico\n",
       "B    [[AxesSubplot(0.125,0.777333;0.125x0.102667), ...\n",
       "M    [[AxesSubplot(0.125,0.777333;0.125x0.102667), ...\n",
       "dtype: object"
      ]
     },
     "execution_count": 12,
     "metadata": {},
     "output_type": "execute_result"
    }
   ],
   "source": [
    "#Visualization of data\n",
    "data.groupby('Diagnostico').hist(figsize=(13, 16),xlabelsize = 5, ylabelsize = 5)"
   ]
  },
  {
   "cell_type": "markdown",
   "metadata": {
    "slideshow": {
     "slide_type": "slide"
    }
   },
   "source": [
    "Como se ve, **pandas**  genera histrogramas haciendo divisiones automaticas en los intervalos de los datos. A veces se necesita ser más específico en como divideremos las información y es necesario generar rutinas de codigo adicionales.\n",
    "\n",
    "El manejo de números con decimales se realiza usando la librería **numpy**\n"
   ]
  },
  {
   "cell_type": "markdown",
   "metadata": {
    "slideshow": {
     "slide_type": "slide"
    }
   },
   "source": [
    "La siguiente funcion agrupa los datos de una columna en intevarlos iguales:"
   ]
  },
  {
   "cell_type": "code",
   "execution_count": 17,
   "metadata": {
    "slideshow": {
     "slide_type": "fragment"
    }
   },
   "outputs": [],
   "source": [
    "import numpy as np\n",
    "\n",
    "def divide_en_intervalos(columna,tajada):\n",
    "    \n",
    "    minimo = data[columna].min()\n",
    "    maximo = data[columna].max()\n",
    "    \n",
    "    intervalos = np.linspace(minimo, maximo,tajada)\n",
    "        \n",
    "    return pd.cut(np.float64(data[columna]), intervalos,precision=4,right=True,include_lowest=True)\n",
    "   "
   ]
  },
  {
   "cell_type": "markdown",
   "metadata": {
    "slideshow": {
     "slide_type": "slide"
    }
   },
   "source": [
    "Con esta funcion, construimos otra funcion que itera sobre todas las columnas de nuestros datos numericos (quitamos la columna 'Diagnostico'):"
   ]
  },
  {
   "cell_type": "code",
   "execution_count": 18,
   "metadata": {
    "slideshow": {
     "slide_type": "fragment"
    }
   },
   "outputs": [],
   "source": [
    "def intervalos(tajada):\n",
    "    \n",
    "    data_numerical = data.drop(columns=['Diagnostico'])\n",
    "    intervalos = {}\n",
    "    \n",
    "    for column in data_numerical:\n",
    "        \n",
    "        intervalos[column] = divide_en_intervalos(column,tajada + 1)      \n",
    "    \n",
    "    return intervalos\n"
   ]
  },
  {
   "cell_type": "markdown",
   "metadata": {
    "slideshow": {
     "slide_type": "slide"
    }
   },
   "source": [
    "_EJEMPLO._ El caso de 5 intervalos para el _radio promedio_:"
   ]
  },
  {
   "cell_type": "code",
   "execution_count": 19,
   "metadata": {
    "scrolled": true,
    "slideshow": {
     "slide_type": "fragment"
    }
   },
   "outputs": [
    {
     "name": "stdout",
     "output_type": "stream",
     "text": [
      "                    counts     freqs\n",
      "categories                          \n",
      "(6.9809, 11.2068]       98  0.172232\n",
      "(11.2068, 15.4326]     314  0.551845\n",
      "(15.4326, 19.6584]     105  0.184534\n",
      "(19.6584, 23.8842]      45  0.079086\n",
      "(23.8842, 28.11]         7  0.012302\n"
     ]
    }
   ],
   "source": [
    "print(intervalos(5)['radio_promedio'].describe())        "
   ]
  },
  {
   "cell_type": "markdown",
   "metadata": {
    "slideshow": {
     "slide_type": "slide"
    }
   },
   "source": [
    "\n",
    "Los datos de nuestros atributos son valores númericos.\n",
    "\n",
    "Para darnos una idea de como se encuentran distribuídos los agrupamos en intervalos especificos. \n",
    "\n",
    "Después generamos gráficas para estás distribuiciones\n",
    "***"
   ]
  },
  {
   "cell_type": "markdown",
   "metadata": {
    "slideshow": {
     "slide_type": "slide"
    }
   },
   "source": [
    "Creamos la columnas booleanas _Benigno_ y _Maligno_\n",
    "\n",
    "La columna _Benigno_ es igual a 1 si el diagnostico es 'Benigno' y 0 si es 'Maligno'\n",
    "\n",
    "La columna _Maligno_ es igual a 0 si el diagnostico es 'Benigno' y 1 si es 'Maligno'"
   ]
  },
  {
   "cell_type": "code",
   "execution_count": 20,
   "metadata": {
    "slideshow": {
     "slide_type": "fragment"
    }
   },
   "outputs": [],
   "source": [
    "data['Benigno'] = (data['Diagnostico']=='B')*1\n",
    "data['Maligno'] = 1 - data['Benigno']"
   ]
  },
  {
   "cell_type": "markdown",
   "metadata": {
    "slideshow": {
     "slide_type": "slide"
    }
   },
   "source": [
    "¿Qué relación guardan la forma del núcleo de la célula con la incidencia en el cáncer?\n",
    "\n",
    "Para darnos una idea, hacemos un histograma de los casos positivos y negativos agrupados en los grupos de tamaño que escogimos anteriormente\n",
    "\n",
    "**pandas** trae incorporada rutinas de gráficos que importa de la librería **matplotlib** (especificamente la sublibrería **pyplot**) y la librería **seaborn**"
   ]
  },
  {
   "cell_type": "code",
   "execution_count": 21,
   "metadata": {
    "slideshow": {
     "slide_type": "fragment"
    }
   },
   "outputs": [],
   "source": [
    "from matplotlib import pyplot as plt\n",
    "import seaborn as sns"
   ]
  },
  {
   "cell_type": "markdown",
   "metadata": {
    "slideshow": {
     "slide_type": "slide"
    }
   },
   "source": [
    "Definimos una función que genera un histograma que compara casos benignos y malignos en cada conjunto de intervalos númericos para un atributo en específico:"
   ]
  },
  {
   "cell_type": "code",
   "execution_count": 22,
   "metadata": {
    "slideshow": {
     "slide_type": "fragment"
    }
   },
   "outputs": [],
   "source": [
    "def histograma_benigno_maligno(intervalo,atributo,xdecimales):\n",
    "    \n",
    "    agrupado = data.groupby(intervalo[atributo])[['Benigno','Maligno']].sum();\n",
    "    ax = agrupado.plot.bar(\n",
    "                          rot=0, \\\n",
    "                          figsize=(5, 5),\\\n",
    "                          width = 0.9, \\\n",
    "                          stacked=True, \n",
    "                          title = atributo,   \n",
    "                          color=['blue', 'r']\n",
    "                        );\n",
    "    \n",
    "    xlabels = [str(np.around(c.left,decimals=xdecimales)) + ' a ' + str(np.around(c.right,decimals=xdecimales)) \\\n",
    "               for c in  agrupado.index.values];\n",
    "\n",
    "    ax.set_xticklabels(xlabels,fontsize=8);\n",
    "    \n",
    "    return ax"
   ]
  },
  {
   "cell_type": "markdown",
   "metadata": {
    "slideshow": {
     "slide_type": "slide"
    }
   },
   "source": [
    "Por ejemplo, el histograma para el radio promedio divido en tres tajadas es:"
   ]
  },
  {
   "cell_type": "code",
   "execution_count": 23,
   "metadata": {
    "slideshow": {
     "slide_type": "fragment"
    }
   },
   "outputs": [
    {
     "data": {
      "image/png": "[encoded data removed]",
      "text/plain": [
       "<Figure size 360x360 with 1 Axes>"
      ]
     },
     "metadata": {
      "needs_background": "light"
     },
     "output_type": "display_data"
    }
   ],
   "source": [
    "ax = histograma_benigno_maligno(intervalos(3),'radio_promedio',1)\n",
    "plt.show()"
   ]
  },
  {
   "cell_type": "markdown",
   "metadata": {
    "slideshow": {
     "slide_type": "slide"
    }
   },
   "source": [
    "Vemos que los radios mas pequeños representan mayores casos de cáncer. Mientras que los radios más grandes son casi todos casos malignos. Veamos si esta tendencia se mantiene al nivel de áreas y perímetros: "
   ]
  },
  {
   "cell_type": "code",
   "execution_count": 24,
   "metadata": {
    "scrolled": true,
    "slideshow": {
     "slide_type": "fragment"
    }
   },
   "outputs": [
    {
     "data": {
      "image/png": "[encoded data removed]",
      "text/plain": [
       "<Figure size 360x360 with 1 Axes>"
      ]
     },
     "metadata": {
      "needs_background": "light"
     },
     "output_type": "display_data"
    }
   ],
   "source": [
    "ax = histograma_benigno_maligno(intervalos(3),'perimetro_promedio' ,1)"
   ]
  },
  {
   "cell_type": "code",
   "execution_count": 25,
   "metadata": {
    "scrolled": true,
    "slideshow": {
     "slide_type": "slide"
    }
   },
   "outputs": [
    {
     "data": {
      "image/png": "[encoded data removed]",
      "text/plain": [
       "<Figure size 360x360 with 1 Axes>"
      ]
     },
     "metadata": {
      "needs_background": "light"
     },
     "output_type": "display_data"
    }
   ],
   "source": [
    "ax = histograma_benigno_maligno(intervalos(3),'area_promedio',1 )"
   ]
  },
  {
   "cell_type": "markdown",
   "metadata": {
    "slideshow": {
     "slide_type": "slide"
    }
   },
   "source": [
    "Se observa que en caso del área, se agudiza más la tendencia discutida en el caso del radio:\n",
    "\n",
    "1) La mayoría de los casos de cancer aparecen en áreas pequeñas.\n",
    "\n",
    "2) Las áreas pequeñas representan en su mayoría casos benignos, mientras que las áreas grandes representan en su mayoría casos malignos\n",
    "***"
   ]
  },
  {
   "cell_type": "markdown",
   "metadata": {
    "slideshow": {
     "slide_type": "slide"
    }
   },
   "source": [
    "\n",
    "Observe ahora que sucede con los atributos que están relacionados no con la _extension_ de  los núcleos sino con lo _características_ de la figura. Uno de estos atributos son  la dimensión fractal y la simetría:\n",
    "\n",
    "![](../images/symmetry.png)\n",
    "\n",
    "<div style=\"text-align: center\"> Para medir la simetría, se encuentra el eje mayor, o el acorde más largo a través del centro. Luego, se mide la diferencia de longitud entre las líneas perpendiculares al eje mayor del límite de la celda en ambas direccione. </div>"
   ]
  },
  {
   "cell_type": "markdown",
   "metadata": {
    "slideshow": {
     "slide_type": "slide"
    }
   },
   "source": [
    "Otro atributo  es la _simetría_:\n",
    "\n",
    "![](../images/fractal_dimension.png)\n",
    "\n",
    "<div style=\"text-align: center\"> La dimensión fractal de una celda se aproxima utilizando la aproximación de \"línea de costa\" descrita por Mandelbrot. El perímetro del núcleo se mide utilizando 'reglas' cada vez más grandes. A medida que aumenta el tamaño de la regla, disminuye la precisión de la medición y disminuye el perímetro observado. Al trazar estos valores en una escala logarítmica y medir la pendiente descendente se obtiene (el negativo de) una aproximación a la dimensión fractal. Al igual que con todas las características de la forma, un valor más alto corresponde a un contorno menos regular y, por lo tanto, a una mayor probabilidad de malignidad. </div>\n",
    "\n",
    "[_REFERENCIA_: Nuclear feature extraction for breast tumor diagnosis\n",
    "W. Nick Street, W. H. Wolberg, O. L. Mangasarian, Proceedings Volume 1905, Biomedical Image Processing and Biomedical Visualization; (1993) ]\n",
    "\n"
   ]
  },
  {
   "cell_type": "markdown",
   "metadata": {
    "slideshow": {
     "slide_type": "slide"
    }
   },
   "source": [
    "***\n",
    "Haga histogramas para estos dos atributos:"
   ]
  },
  {
   "cell_type": "code",
   "execution_count": 28,
   "metadata": {
    "scrolled": true,
    "slideshow": {
     "slide_type": "fragment"
    }
   },
   "outputs": [
    {
     "data": {
      "image/png": "[encoded data removed]",
      "text/plain": [
       "<Figure size 360x360 with 1 Axes>"
      ]
     },
     "metadata": {
      "needs_background": "light"
     },
     "output_type": "display_data"
    }
   ],
   "source": [
    "ax = histograma_benigno_maligno(intervalos(4),'dimension_fractal_promedio',3 )"
   ]
  },
  {
   "cell_type": "code",
   "execution_count": 29,
   "metadata": {
    "slideshow": {
     "slide_type": "slide"
    }
   },
   "outputs": [
    {
     "data": {
      "image/png": "[encoded data removed]",
      "text/plain": [
       "<Figure size 360x360 with 1 Axes>"
      ]
     },
     "metadata": {
      "needs_background": "light"
     },
     "output_type": "display_data"
    }
   ],
   "source": [
    "ax = histograma_benigno_maligno(intervalos(4),'simetria_promedio',3 )"
   ]
  },
  {
   "cell_type": "markdown",
   "metadata": {
    "slideshow": {
     "slide_type": "slide"
    }
   },
   "source": [
    "La distribución de tamaños en intervalos iguales no influye de manera tan decisiva en el tipo de cáncer (Maligno vs Benigno) como en el caso de áreas, radios y perímetros."
   ]
  },
  {
   "cell_type": "markdown",
   "metadata": {
    "slideshow": {
     "slide_type": "slide"
    }
   },
   "source": [
    "### Conclusiones \n",
    "\n",
    "Se ha observado como las diferentes características de los datos arrojan patrones que permiten  diferenciar los casos malignos de los casos beginos. Una buena ingeniería de características se vuelve de vital importancia  cuando los conjuntos de datos son grandes y ademas ayudan a evitar el fenoneno de 'overfitting'.\n",
    "\n",
    "En la siguiente sección se implementan las rutinas de Aprendizaje de Datos que permitirán ofrecer predicciones a partir de el conjunto de datos"
   ]
  }
 ],
 "metadata": {
  "celltoolbar": "Slideshow",
  "kernelspec": {
   "display_name": "Python 3",
   "language": "python",
   "name": "python3"
  },
  "language_info": {
   "codemirror_mode": {
    "name": "ipython",
    "version": 3
   },
   "file_extension": ".py",
   "mimetype": "text/x-python",
   "name": "python",
   "nbconvert_exporter": "python",
   "pygments_lexer": "ipython3",
   "version": "3.7.1"
  }
 },
 "nbformat": 4,
 "nbformat_minor": 2
}
