{
 "cells": [
  {
   "cell_type": "markdown",
   "metadata": {
    "slideshow": {
     "slide_type": "slide"
    }
   },
   "source": [
    "# Lección II"
   ]
  },
  {
   "cell_type": "markdown",
   "metadata": {
    "slideshow": {
     "slide_type": "fragment"
    }
   },
   "source": [
    "#### _<font color=blue>  Objetivo de la lección: </font>_\n",
    "\n",
    "<font color=blue>\n",
    " Aprender las diferentes fases del Aprendizaje de Datos (ML): Análisis exploratorio  de los datos. \n",
    "</font>"
   ]
  },
  {
   "cell_type": "markdown",
   "metadata": {
    "slideshow": {
     "slide_type": "slide"
    }
   },
   "source": [
    "La librerias de __Python__ que se usan en esta lección del curso son \n",
    "\n",
    "* <b>Pandas</b> para la manipulación e ingesta de los datos\n",
    "* <b>Matplotlib</b> and <b> seaborn</b> para la vizualización de los datos\n",
    "* <b>Numpy</b> para computo de arreglos multidimensionales\n",
    "* <b>sklearn</b> para el aprendizaje de máquinas y el modelado predectivo"
   ]
  },
  {
   "cell_type": "markdown",
   "metadata": {
    "slideshow": {
     "slide_type": "slide"
    }
   },
   "source": [
    "### Proceso de Instalación \n",
    "\n",
    "Una manera sencilla de installar esta paqueteria es descargar e instalar \n",
    "la distribucion <a href=\"http://conda.pydata.org/docs/install/quick.html#os-x-miniconda-install\">Conda</a> que encapsula a todas las librerias mencionadas. Esta distribución esta disponible en todas las plataformas (Windows, Linux and Mac OSX)."
   ]
  },
  {
   "cell_type": "markdown",
   "metadata": {
    "slideshow": {
     "slide_type": "slide"
    }
   },
   "source": [
    "### El conjunto de datos (Wisconsin) del Cáncer de mama\n",
    "\n",
    "El caso de estudio es el conjunto de datos obtenidos para el cancer de mama en el hospital de Wisconsin. El articulo donde se describe la metología empleada para la obtencion de las caracteristicas de la informacion es\n",
    "\n",
    " _[K. P. Bennett y O. L. Mangasarian: \"Discriminación robusta de la programación lineal de dos conjuntos linealmente inseparables\", Métodos de optimización y software 1, 1992, 23-34]._"
   ]
  },
  {
   "cell_type": "markdown",
   "metadata": {
    "slideshow": {
     "slide_type": "slide"
    }
   },
   "source": [
    "#### El conjunto de datos (Wisconsin) del Cáncer de mama\n",
    " \n",
    "Del artículo mencionado, se lee que:\n",
    "\n",
    "\"Cada registro representa información de seguimiento para un caso cáncer de mama. \n",
    "Estos  pacientes han sido atentidos por el Dr. Wolberg desde el año 1984,\n",
    "están incluídos sólo aquellos casos que exhiben cáncer de mama y donde no hay evidencia de metástasis \n",
    "a distancia en el tiempo de diagnóstico.\"\n",
    "\n",
    "\n",
    "_Las características se calculan a partir de una imagen digitalizada de un aspirado con aguja fina (FNA) de una masa mamaria_ \n"
   ]
  },
  {
   "cell_type": "markdown",
   "metadata": {
    "slideshow": {
     "slide_type": "slide"
    }
   },
   "source": [
    "\n",
    "<img style=\"float: center;\" src=\"../images/fna-cell.png\">\n",
    "\n",
    "\n",
    "<h5 align=\"justify\">Imagen ampliada de un seno maligno obtenida con la biopsia FNA (Fine Needle Aspiration). Los núcleos de células visibles se han esbozado con la ayuda de un programa de ajuste de curvas. El sistema también calcula varias características para cada núcleo y diagnostica con precisión la muestra. El proceso de diagnóstico interactivo toma alrededor de 5 minutos por muestra.</h5> \n",
    "\n",
    "FUENTE: K. P. Bennett and O. L. Mangasarian: \"Robust Linear Programming Discrimination of Two Linearly Inseparable Sets\", Optimization Methods and Software 1, 1992, 23-34\n"
   ]
  },
  {
   "cell_type": "markdown",
   "metadata": {
    "slideshow": {
     "slide_type": "slide"
    }
   },
   "source": [
    "\n",
    "Los datos se encuentran en el \n",
    "  __[repositorio de aprendizaje automático de UCI:](  https://archive.ics.uci.edu/ml/datasets/Breast+Cancer+Wisconsin+%28Diagnostic%29)__  \n",
    "***\n",
    "_El repositorio de aprendizaje automático de UCI es una colección de bases de datos, teorías de dominio y generadores de datos que la comunidad de aprendizaje automático utiliza para el análisis empírico de los algoritmos de aprendizaje automático. El archivo fue creado como archivo ftp en 1987 por David Aha y otros estudiantes graduados en UC Irvine. Desde entonces, ha sido ampliamente utilizado por estudiantes, educadores e investigadores de todo el mundo como fuente principal de conjuntos de datos de aprendizaje automático._"
   ]
  },
  {
   "cell_type": "markdown",
   "metadata": {
    "slideshow": {
     "slide_type": "slide"
    }
   },
   "source": [
    "<h2 align=\"center\">El flujo de trabajo en un proyecto de ciencia de datos </h2>\n",
    "\n",
    "El conjunto de  lineamientos específicos ('ducto') en un proyecto de  ciencia de datos varía dependiendo de la naturaleza del mismo. Aqui ducto estandar:\n",
    "\n",
    "### Análisis exploratorio de los datos\n",
    "\n",
    "### Ingeniería de Características\n",
    "\n",
    "### Modelado de datos\n",
    "\n",
    " ***\n",
    " Especificamente, en esta leccion se trata el primer punto"
   ]
  },
  {
   "cell_type": "markdown",
   "metadata": {
    "slideshow": {
     "slide_type": "slide"
    }
   },
   "source": [
    "\n",
    "## Análisis exploratorio de los datos\n",
    "\n",
    "_En estadística, el análisis exploratorio de los datos  representa un enfoque para analizar conjuntos de datos que resumen sus características principales, a menudo con métodos visuales._\n",
    "\n",
    "El Análisis exploratorio consiste en realizar las siguientes tareas especificas\n",
    "\n",
    " - __Extracción__: Cargar el conjunto de datos y echarles una mirada\n",
    " - __Limpieza__: Encontrar los valores que faltan\n",
    " - __Visualización__: Crear algunas gráficas interesantes que nos permitan idendificar correlaciones \n",
    " "
   ]
  },
  {
   "cell_type": "markdown",
   "metadata": {
    "slideshow": {
     "slide_type": "slide"
    }
   },
   "source": [
    "_Con el siguiente comando se ajusta el libro trabajo para tener graficas centradas_ "
   ]
  },
  {
   "cell_type": "code",
   "execution_count": 2,
   "metadata": {
    "slideshow": {
     "slide_type": "fragment"
    }
   },
   "outputs": [],
   "source": [
    "from IPython.core.display import HTML\n",
    "HTML(\"\"\"\n",
    "<style>\n",
    ".output_png {\n",
    "    display: table-cell;\n",
    "    text-align: center;\n",
    "    vertical-align: middle;\n",
    "}\n",
    "</style>\n",
    "\"\"\");"
   ]
  },
  {
   "cell_type": "markdown",
   "metadata": {
    "slideshow": {
     "slide_type": "slide"
    }
   },
   "source": [
    "\n",
    "## Análisis exploratorio de los datos\n",
    "\n",
    "  **Extracción** \n",
    "  \n",
    "  Se obtienen los datos directamente del URL oficial del repositorio de datos. Para ello, se importa la biblioteca _wget_"
   ]
  },
  {
   "cell_type": "code",
   "execution_count": 3,
   "metadata": {
    "scrolled": true,
    "slideshow": {
     "slide_type": "fragment"
    }
   },
   "outputs": [
    {
     "data": {
      "text/plain": [
       "'../data/wisconsin (1).csv'"
      ]
     },
     "execution_count": 3,
     "metadata": {},
     "output_type": "execute_result"
    }
   ],
   "source": [
    "import wget\n",
    "\n",
    "url = 'https://archive.ics.uci.edu/ml/machine-learning-databases/breast-cancer-wisconsin/wdbc.data'  \n",
    "local_path = '../data/wisconsin.csv'\n",
    "\n",
    "#descargamos la informacion de url y la guardamos en local_path\n",
    "wget.download(url, local_path) "
   ]
  },
  {
   "cell_type": "markdown",
   "metadata": {
    "slideshow": {
     "slide_type": "slide"
    }
   },
   "source": [
    "En el sitio del repositorio se encuentra un\n",
    "<a href=\"https://archive.ics.uci.edu/ml/machine-learning-databases/breast-cancer-wisconsin/wdbc.names\">archivo con las características de la  información</a>\n",
    "\n",
    "Más espeficamente, en el punto siete  se describen los atributos de los datos. Los primeros dos atributos (o caracteristicas) son:\n",
    "\n",
    "    1) ID \n",
    "    2) Diagnosis (M = Maligno, B = Benigno)\n",
    "\n",
    "Se calculan diez características de valor real para cada núcleo celular:\n",
    "\n",
    "    a) radio ( media de las distancias desde el centro al perímetro)    \n",
    "    b) textura (desviación estándar de los valores de escala de grises)\n",
    "    c) perímetro\n",
    "    d) área\n",
    "    e) suavidad (variación local en longitudes de radio)\n",
    "    f) compacidad (perímetro ^ 2 / área - 1.0)\n",
    "    g) concavidad (severidad de las porciones cóncavas del contorno)\n",
    "    h) puntos cóncavos (número de porciones cóncavas del contorno)\n",
    "    i) simetria\n",
    "    j) dimensión fractal (\"aproximación de la línea de costa\" - 1)"
   ]
  },
  {
   "cell_type": "markdown",
   "metadata": {
    "slideshow": {
     "slide_type": "slide"
    }
   },
   "source": [
    "La media, el error estándar y el \"peor\" o mayor (media de las tres\n",
    "los valores más grandes) de estas características se calcularon para cada imagen,\n",
    "dando como resultado 30 características. Por ejemplo, el campo 3 es Radio medio, campo\n",
    "13 es el radio SE, el campo 23 es el peor radio.\n",
    "    \n",
    "Todos los valores de las funciones se registran con cuatro dígitos significativos."
   ]
  },
  {
   "cell_type": "markdown",
   "metadata": {
    "slideshow": {
     "slide_type": "slide"
    }
   },
   "source": [
    "### Características de los datos \n",
    "***\n",
    "Los datos del archivo que se han descargado, no poseen las correspondientes etiquetas (_a) radio, b) textura,..._). Tenemos 30  mediciones, el ID y el diagnostico. Entonces se cuenta con un número total de 32 atributos.  Las siguientes instrucciones  crean un arreglo de características.  "
   ]
  },
  {
   "cell_type": "code",
   "execution_count": 4,
   "metadata": {
    "slideshow": {
     "slide_type": "fragment"
    }
   },
   "outputs": [],
   "source": [
    "features =  ['a:radio','b:textura','c:perimetro', \\\n",
    "             'd:area', 'e:suavidad','f:compactes', \\\n",
    "             'g:concavidad', 'h:puntos_concavos','i:simetria',\\\n",
    "             'j:dimension_fractal']\n",
    "\n",
    "columns_all = ['ID', 'Diagnostico'] + \\\n",
    "              list(map(lambda x: x[2:] + '_promedio', features)) + \\\n",
    "              list(map(lambda x: x[2:] + '_error', features)) +  \\\n",
    "              list(map(lambda x: x[2:] + '_peor', features))"
   ]
  },
  {
   "cell_type": "markdown",
   "metadata": {
    "slideshow": {
     "slide_type": "slide"
    }
   },
   "source": [
    "El manejo de los datos estará a cargo de la biblioteca **Pandas**.\n",
    "\n",
    "**Pandas**, una herramienta de análisis de datos para el lenguaje de programación Python, es actualmente la herramienta de análisis de datos abierta más popular y madura. La biblioteca está altamente optimizada para el rendimiento, con rutas de código críticas escritas en _Cython_ o _C_.\n",
    "\n",
    "Cargue el conjunto de datos:"
   ]
  },
  {
   "cell_type": "code",
   "execution_count": 5,
   "metadata": {
    "slideshow": {
     "slide_type": "fragment"
    }
   },
   "outputs": [],
   "source": [
    "import pandas as pd\n",
    "\n",
    "data = pd.read_csv('../data/wisconsin.csv', names = columns_all);\n",
    "data = data.reset_index().drop(columns =['index'])"
   ]
  },
  {
   "cell_type": "markdown",
   "metadata": {
    "slideshow": {
     "slide_type": "slide"
    }
   },
   "source": [
    "#### Vista de los datos.  \n",
    "Escoja un número aleatorio de 5 registros:"
   ]
  },
  {
   "cell_type": "code",
   "execution_count": 6,
   "metadata": {
    "scrolled": true,
    "slideshow": {
     "slide_type": "slide"
    }
   },
   "outputs": [
    {
     "data": {
      "text/html": [
       "<div>\n",
       "<style scoped>\n",
       "    .dataframe tbody tr th:only-of-type {\n",
       "        vertical-align: middle;\n",
       "    }\n",
       "\n",
       "    .dataframe tbody tr th {\n",
       "        vertical-align: top;\n",
       "    }\n",
       "\n",
       "    .dataframe thead th {\n",
       "        text-align: right;\n",
       "    }\n",
       "</style>\n",
       "<table border=\"1\" class=\"dataframe\">\n",
       "  <thead>\n",
       "    <tr style=\"text-align: right;\">\n",
       "      <th></th>\n",
       "      <th>ID</th>\n",
       "      <th>Diagnostico</th>\n",
       "      <th>radio_promedio</th>\n",
       "      <th>textura_promedio</th>\n",
       "      <th>perimetro_promedio</th>\n",
       "      <th>area_promedio</th>\n",
       "      <th>suavidad_promedio</th>\n",
       "      <th>compactes_promedio</th>\n",
       "      <th>concavidad_promedio</th>\n",
       "      <th>puntos_concavos_promedio</th>\n",
       "      <th>...</th>\n",
       "      <th>radio_peor</th>\n",
       "      <th>textura_peor</th>\n",
       "      <th>perimetro_peor</th>\n",
       "      <th>area_peor</th>\n",
       "      <th>suavidad_peor</th>\n",
       "      <th>compactes_peor</th>\n",
       "      <th>concavidad_peor</th>\n",
       "      <th>puntos_concavos_peor</th>\n",
       "      <th>simetria_peor</th>\n",
       "      <th>dimension_fractal_peor</th>\n",
       "    </tr>\n",
       "  </thead>\n",
       "  <tbody>\n",
       "    <tr>\n",
       "      <th>317</th>\n",
       "      <td>894326</td>\n",
       "      <td>M</td>\n",
       "      <td>18.22</td>\n",
       "      <td>18.87</td>\n",
       "      <td>118.70</td>\n",
       "      <td>1027.0</td>\n",
       "      <td>0.09746</td>\n",
       "      <td>0.11170</td>\n",
       "      <td>0.113000</td>\n",
       "      <td>0.07950</td>\n",
       "      <td>...</td>\n",
       "      <td>21.84</td>\n",
       "      <td>25.00</td>\n",
       "      <td>140.90</td>\n",
       "      <td>1485.0</td>\n",
       "      <td>0.1434</td>\n",
       "      <td>0.27630</td>\n",
       "      <td>0.38530</td>\n",
       "      <td>0.17760</td>\n",
       "      <td>0.2812</td>\n",
       "      <td>0.08198</td>\n",
       "    </tr>\n",
       "    <tr>\n",
       "      <th>134</th>\n",
       "      <td>867739</td>\n",
       "      <td>M</td>\n",
       "      <td>18.45</td>\n",
       "      <td>21.91</td>\n",
       "      <td>120.20</td>\n",
       "      <td>1075.0</td>\n",
       "      <td>0.09430</td>\n",
       "      <td>0.09709</td>\n",
       "      <td>0.115300</td>\n",
       "      <td>0.06847</td>\n",
       "      <td>...</td>\n",
       "      <td>22.52</td>\n",
       "      <td>31.39</td>\n",
       "      <td>145.60</td>\n",
       "      <td>1590.0</td>\n",
       "      <td>0.1465</td>\n",
       "      <td>0.22750</td>\n",
       "      <td>0.39650</td>\n",
       "      <td>0.13790</td>\n",
       "      <td>0.3109</td>\n",
       "      <td>0.07610</td>\n",
       "    </tr>\n",
       "    <tr>\n",
       "      <th>226</th>\n",
       "      <td>88147101</td>\n",
       "      <td>B</td>\n",
       "      <td>10.44</td>\n",
       "      <td>15.46</td>\n",
       "      <td>66.62</td>\n",
       "      <td>329.6</td>\n",
       "      <td>0.10530</td>\n",
       "      <td>0.07722</td>\n",
       "      <td>0.006643</td>\n",
       "      <td>0.01216</td>\n",
       "      <td>...</td>\n",
       "      <td>11.52</td>\n",
       "      <td>19.80</td>\n",
       "      <td>73.47</td>\n",
       "      <td>395.4</td>\n",
       "      <td>0.1341</td>\n",
       "      <td>0.11530</td>\n",
       "      <td>0.02639</td>\n",
       "      <td>0.04464</td>\n",
       "      <td>0.2615</td>\n",
       "      <td>0.08269</td>\n",
       "    </tr>\n",
       "    <tr>\n",
       "      <th>414</th>\n",
       "      <td>905680</td>\n",
       "      <td>M</td>\n",
       "      <td>15.13</td>\n",
       "      <td>29.81</td>\n",
       "      <td>96.71</td>\n",
       "      <td>719.5</td>\n",
       "      <td>0.08320</td>\n",
       "      <td>0.04605</td>\n",
       "      <td>0.046860</td>\n",
       "      <td>0.02739</td>\n",
       "      <td>...</td>\n",
       "      <td>17.26</td>\n",
       "      <td>36.91</td>\n",
       "      <td>110.10</td>\n",
       "      <td>931.4</td>\n",
       "      <td>0.1148</td>\n",
       "      <td>0.09866</td>\n",
       "      <td>0.15470</td>\n",
       "      <td>0.06575</td>\n",
       "      <td>0.3233</td>\n",
       "      <td>0.06165</td>\n",
       "    </tr>\n",
       "    <tr>\n",
       "      <th>64</th>\n",
       "      <td>85922302</td>\n",
       "      <td>M</td>\n",
       "      <td>12.68</td>\n",
       "      <td>23.84</td>\n",
       "      <td>82.69</td>\n",
       "      <td>499.0</td>\n",
       "      <td>0.11220</td>\n",
       "      <td>0.12620</td>\n",
       "      <td>0.112800</td>\n",
       "      <td>0.06873</td>\n",
       "      <td>...</td>\n",
       "      <td>17.09</td>\n",
       "      <td>33.47</td>\n",
       "      <td>111.80</td>\n",
       "      <td>888.3</td>\n",
       "      <td>0.1851</td>\n",
       "      <td>0.40610</td>\n",
       "      <td>0.40240</td>\n",
       "      <td>0.17160</td>\n",
       "      <td>0.3383</td>\n",
       "      <td>0.10310</td>\n",
       "    </tr>\n",
       "  </tbody>\n",
       "</table>\n",
       "<p>5 rows × 32 columns</p>\n",
       "</div>"
      ],
      "text/plain": [
       "           ID Diagnostico  radio_promedio  textura_promedio  \\\n",
       "317    894326           M           18.22             18.87   \n",
       "134    867739           M           18.45             21.91   \n",
       "226  88147101           B           10.44             15.46   \n",
       "414    905680           M           15.13             29.81   \n",
       "64   85922302           M           12.68             23.84   \n",
       "\n",
       "     perimetro_promedio  area_promedio  suavidad_promedio  compactes_promedio  \\\n",
       "317              118.70         1027.0            0.09746             0.11170   \n",
       "134              120.20         1075.0            0.09430             0.09709   \n",
       "226               66.62          329.6            0.10530             0.07722   \n",
       "414               96.71          719.5            0.08320             0.04605   \n",
       "64                82.69          499.0            0.11220             0.12620   \n",
       "\n",
       "     concavidad_promedio  puntos_concavos_promedio           ...            \\\n",
       "317             0.113000                   0.07950           ...             \n",
       "134             0.115300                   0.06847           ...             \n",
       "226             0.006643                   0.01216           ...             \n",
       "414             0.046860                   0.02739           ...             \n",
       "64              0.112800                   0.06873           ...             \n",
       "\n",
       "     radio_peor  textura_peor  perimetro_peor  area_peor  suavidad_peor  \\\n",
       "317       21.84         25.00          140.90     1485.0         0.1434   \n",
       "134       22.52         31.39          145.60     1590.0         0.1465   \n",
       "226       11.52         19.80           73.47      395.4         0.1341   \n",
       "414       17.26         36.91          110.10      931.4         0.1148   \n",
       "64        17.09         33.47          111.80      888.3         0.1851   \n",
       "\n",
       "     compactes_peor  concavidad_peor  puntos_concavos_peor  simetria_peor  \\\n",
       "317         0.27630          0.38530               0.17760         0.2812   \n",
       "134         0.22750          0.39650               0.13790         0.3109   \n",
       "226         0.11530          0.02639               0.04464         0.2615   \n",
       "414         0.09866          0.15470               0.06575         0.3233   \n",
       "64          0.40610          0.40240               0.17160         0.3383   \n",
       "\n",
       "     dimension_fractal_peor  \n",
       "317                 0.08198  \n",
       "134                 0.07610  \n",
       "226                 0.08269  \n",
       "414                 0.06165  \n",
       "64                  0.10310  \n",
       "\n",
       "[5 rows x 32 columns]"
      ]
     },
     "execution_count": 6,
     "metadata": {},
     "output_type": "execute_result"
    }
   ],
   "source": [
    "data.sample(5)"
   ]
  },
  {
   "cell_type": "markdown",
   "metadata": {
    "slideshow": {
     "slide_type": "slide"
    }
   },
   "source": [
    "\n",
    "### Análisis Exploratorio de los Datos\n",
    "\n",
    "  **Limpieza** \n",
    "  \n",
    "  El análisis de datos en el aprendizaje de las maquinas supone uniformadidad de los datos para un mismo atributo.\n",
    "  Cuando extraemos los datos pueden que no esten presentados  de manera uniforme (por ejemplo alguna medición pudo no haberse efectuado y en ese casa el atributo para ese registro presenta un valor nulo) y un proceso de limpieza se vuelve mandatorio.\n",
    "  En nuestro caso, el <a href=\"https://archive.ics.uci.edu/ml/machine-learning-databases/breast-cancer-wisconsin/wdbc.names\"> archivo de atributos </a> especifica que:\n",
    "  \n",
    "      8. Valores de atributo faltantes: ninguno\n",
    "      \n",
    "Por lo que no hay datos faltantes. \n",
    "\n",
    "***\n",
    "La limpieza de datos es tan importante para el analisis de datos, que **Pandas** tiene cargados metodos de deteccion de valores nulos."
   ]
  },
  {
   "cell_type": "markdown",
   "metadata": {
    "slideshow": {
     "slide_type": "slide"
    }
   },
   "source": [
    "Verifique  que  todos los registros estan llenos:"
   ]
  },
  {
   "cell_type": "code",
   "execution_count": 7,
   "metadata": {
    "scrolled": true,
    "slideshow": {
     "slide_type": "fragment"
    }
   },
   "outputs": [
    {
     "data": {
      "text/plain": [
       "ID                            0\n",
       "Diagnostico                   0\n",
       "radio_promedio                0\n",
       "textura_promedio              0\n",
       "perimetro_promedio            0\n",
       "area_promedio                 0\n",
       "suavidad_promedio             0\n",
       "compactes_promedio            0\n",
       "concavidad_promedio           0\n",
       "puntos_concavos_promedio      0\n",
       "simetria_promedio             0\n",
       "dimension_fractal_promedio    0\n",
       "radio_error                   0\n",
       "textura_error                 0\n",
       "perimetro_error               0\n",
       "area_error                    0\n",
       "suavidad_error                0\n",
       "compactes_error               0\n",
       "concavidad_error              0\n",
       "puntos_concavos_error         0\n",
       "simetria_error                0\n",
       "dimension_fractal_error       0\n",
       "radio_peor                    0\n",
       "textura_peor                  0\n",
       "perimetro_peor                0\n",
       "area_peor                     0\n",
       "suavidad_peor                 0\n",
       "compactes_peor                0\n",
       "concavidad_peor               0\n",
       "puntos_concavos_peor          0\n",
       "simetria_peor                 0\n",
       "dimension_fractal_peor        0\n",
       "dtype: int64"
      ]
     },
     "execution_count": 7,
     "metadata": {},
     "output_type": "execute_result"
    }
   ],
   "source": [
    "data.isnull().sum()"
   ]
  },
  {
   "cell_type": "markdown",
   "metadata": {
    "slideshow": {
     "slide_type": "slide"
    }
   },
   "source": [
    "\n",
    " En este estudio no es necesario sabear el 'ID' del paciente. Por lo que lo se elimina  de nuestros datos:"
   ]
  },
  {
   "cell_type": "code",
   "execution_count": 8,
   "metadata": {
    "scrolled": true,
    "slideshow": {
     "slide_type": "fragment"
    }
   },
   "outputs": [
    {
     "data": {
      "text/html": [
       "<div>\n",
       "<style scoped>\n",
       "    .dataframe tbody tr th:only-of-type {\n",
       "        vertical-align: middle;\n",
       "    }\n",
       "\n",
       "    .dataframe tbody tr th {\n",
       "        vertical-align: top;\n",
       "    }\n",
       "\n",
       "    .dataframe thead th {\n",
       "        text-align: right;\n",
       "    }\n",
       "</style>\n",
       "<table border=\"1\" class=\"dataframe\">\n",
       "  <thead>\n",
       "    <tr style=\"text-align: right;\">\n",
       "      <th></th>\n",
       "      <th>Diagnostico</th>\n",
       "      <th>radio_promedio</th>\n",
       "      <th>textura_promedio</th>\n",
       "      <th>perimetro_promedio</th>\n",
       "      <th>area_promedio</th>\n",
       "      <th>suavidad_promedio</th>\n",
       "      <th>compactes_promedio</th>\n",
       "      <th>concavidad_promedio</th>\n",
       "      <th>puntos_concavos_promedio</th>\n",
       "      <th>simetria_promedio</th>\n",
       "      <th>...</th>\n",
       "      <th>radio_peor</th>\n",
       "      <th>textura_peor</th>\n",
       "      <th>perimetro_peor</th>\n",
       "      <th>area_peor</th>\n",
       "      <th>suavidad_peor</th>\n",
       "      <th>compactes_peor</th>\n",
       "      <th>concavidad_peor</th>\n",
       "      <th>puntos_concavos_peor</th>\n",
       "      <th>simetria_peor</th>\n",
       "      <th>dimension_fractal_peor</th>\n",
       "    </tr>\n",
       "  </thead>\n",
       "  <tbody>\n",
       "    <tr>\n",
       "      <th>357</th>\n",
       "      <td>B</td>\n",
       "      <td>13.87</td>\n",
       "      <td>16.21</td>\n",
       "      <td>88.52</td>\n",
       "      <td>593.7</td>\n",
       "      <td>0.08743</td>\n",
       "      <td>0.05492</td>\n",
       "      <td>0.01502</td>\n",
       "      <td>0.02088</td>\n",
       "      <td>0.1424</td>\n",
       "      <td>...</td>\n",
       "      <td>15.11</td>\n",
       "      <td>25.58</td>\n",
       "      <td>96.74</td>\n",
       "      <td>694.4</td>\n",
       "      <td>0.1153</td>\n",
       "      <td>0.1008</td>\n",
       "      <td>0.05285</td>\n",
       "      <td>0.05556</td>\n",
       "      <td>0.2362</td>\n",
       "      <td>0.07113</td>\n",
       "    </tr>\n",
       "    <tr>\n",
       "      <th>162</th>\n",
       "      <td>M</td>\n",
       "      <td>19.59</td>\n",
       "      <td>18.15</td>\n",
       "      <td>130.70</td>\n",
       "      <td>1214.0</td>\n",
       "      <td>0.11200</td>\n",
       "      <td>0.16660</td>\n",
       "      <td>0.25080</td>\n",
       "      <td>0.12860</td>\n",
       "      <td>0.2027</td>\n",
       "      <td>...</td>\n",
       "      <td>26.73</td>\n",
       "      <td>26.39</td>\n",
       "      <td>174.90</td>\n",
       "      <td>2232.0</td>\n",
       "      <td>0.1438</td>\n",
       "      <td>0.3846</td>\n",
       "      <td>0.68100</td>\n",
       "      <td>0.22470</td>\n",
       "      <td>0.3643</td>\n",
       "      <td>0.09223</td>\n",
       "    </tr>\n",
       "  </tbody>\n",
       "</table>\n",
       "<p>2 rows × 31 columns</p>\n",
       "</div>"
      ],
      "text/plain": [
       "    Diagnostico  radio_promedio  textura_promedio  perimetro_promedio  \\\n",
       "357           B           13.87             16.21               88.52   \n",
       "162           M           19.59             18.15              130.70   \n",
       "\n",
       "     area_promedio  suavidad_promedio  compactes_promedio  \\\n",
       "357          593.7            0.08743             0.05492   \n",
       "162         1214.0            0.11200             0.16660   \n",
       "\n",
       "     concavidad_promedio  puntos_concavos_promedio  simetria_promedio  \\\n",
       "357              0.01502                   0.02088             0.1424   \n",
       "162              0.25080                   0.12860             0.2027   \n",
       "\n",
       "              ...            radio_peor  textura_peor  perimetro_peor  \\\n",
       "357           ...                 15.11         25.58           96.74   \n",
       "162           ...                 26.73         26.39          174.90   \n",
       "\n",
       "     area_peor  suavidad_peor  compactes_peor  concavidad_peor  \\\n",
       "357      694.4         0.1153          0.1008          0.05285   \n",
       "162     2232.0         0.1438          0.3846          0.68100   \n",
       "\n",
       "     puntos_concavos_peor  simetria_peor  dimension_fractal_peor  \n",
       "357               0.05556         0.2362                 0.07113  \n",
       "162               0.22470         0.3643                 0.09223  \n",
       "\n",
       "[2 rows x 31 columns]"
      ]
     },
     "execution_count": 8,
     "metadata": {},
     "output_type": "execute_result"
    }
   ],
   "source": [
    "data = data.drop(columns='ID')\n",
    "data.sample(2)"
   ]
  },
  {
   "cell_type": "markdown",
   "metadata": {
    "slideshow": {
     "slide_type": "slide"
    }
   },
   "source": [
    "\n",
    "### Análisis Exploratorio de los Datos\n",
    "\n",
    "  **Visualización: Tablas** \n",
    "  \n",
    "Pandas  permite tener una descripción estadística simple de alto nivel de las características numéricas. Esto se puede hacer usando el método de descripción (_describe()_).\n",
    "   "
   ]
  },
  {
   "cell_type": "code",
   "execution_count": 9,
   "metadata": {
    "scrolled": true,
    "slideshow": {
     "slide_type": "slide"
    }
   },
   "outputs": [
    {
     "data": {
      "text/html": [
       "<div>\n",
       "<style scoped>\n",
       "    .dataframe tbody tr th:only-of-type {\n",
       "        vertical-align: middle;\n",
       "    }\n",
       "\n",
       "    .dataframe tbody tr th {\n",
       "        vertical-align: top;\n",
       "    }\n",
       "\n",
       "    .dataframe thead th {\n",
       "        text-align: right;\n",
       "    }\n",
       "</style>\n",
       "<table border=\"1\" class=\"dataframe\">\n",
       "  <thead>\n",
       "    <tr style=\"text-align: right;\">\n",
       "      <th></th>\n",
       "      <th>radio_promedio</th>\n",
       "      <th>textura_promedio</th>\n",
       "      <th>perimetro_promedio</th>\n",
       "      <th>area_promedio</th>\n",
       "      <th>suavidad_promedio</th>\n",
       "      <th>compactes_promedio</th>\n",
       "      <th>concavidad_promedio</th>\n",
       "      <th>puntos_concavos_promedio</th>\n",
       "      <th>simetria_promedio</th>\n",
       "      <th>dimension_fractal_promedio</th>\n",
       "      <th>...</th>\n",
       "      <th>radio_peor</th>\n",
       "      <th>textura_peor</th>\n",
       "      <th>perimetro_peor</th>\n",
       "      <th>area_peor</th>\n",
       "      <th>suavidad_peor</th>\n",
       "      <th>compactes_peor</th>\n",
       "      <th>concavidad_peor</th>\n",
       "      <th>puntos_concavos_peor</th>\n",
       "      <th>simetria_peor</th>\n",
       "      <th>dimension_fractal_peor</th>\n",
       "    </tr>\n",
       "  </thead>\n",
       "  <tbody>\n",
       "    <tr>\n",
       "      <th>count</th>\n",
       "      <td>569.000000</td>\n",
       "      <td>569.000000</td>\n",
       "      <td>569.000000</td>\n",
       "      <td>569.000000</td>\n",
       "      <td>569.000000</td>\n",
       "      <td>569.000000</td>\n",
       "      <td>569.000000</td>\n",
       "      <td>569.000000</td>\n",
       "      <td>569.000000</td>\n",
       "      <td>569.000000</td>\n",
       "      <td>...</td>\n",
       "      <td>569.000000</td>\n",
       "      <td>569.000000</td>\n",
       "      <td>569.000000</td>\n",
       "      <td>569.000000</td>\n",
       "      <td>569.000000</td>\n",
       "      <td>569.000000</td>\n",
       "      <td>569.000000</td>\n",
       "      <td>569.000000</td>\n",
       "      <td>569.000000</td>\n",
       "      <td>569.000000</td>\n",
       "    </tr>\n",
       "    <tr>\n",
       "      <th>mean</th>\n",
       "      <td>14.127292</td>\n",
       "      <td>19.289649</td>\n",
       "      <td>91.969033</td>\n",
       "      <td>654.889104</td>\n",
       "      <td>0.096360</td>\n",
       "      <td>0.104341</td>\n",
       "      <td>0.088799</td>\n",
       "      <td>0.048919</td>\n",
       "      <td>0.181162</td>\n",
       "      <td>0.062798</td>\n",
       "      <td>...</td>\n",
       "      <td>16.269190</td>\n",
       "      <td>25.677223</td>\n",
       "      <td>107.261213</td>\n",
       "      <td>880.583128</td>\n",
       "      <td>0.132369</td>\n",
       "      <td>0.254265</td>\n",
       "      <td>0.272188</td>\n",
       "      <td>0.114606</td>\n",
       "      <td>0.290076</td>\n",
       "      <td>0.083946</td>\n",
       "    </tr>\n",
       "    <tr>\n",
       "      <th>std</th>\n",
       "      <td>3.524049</td>\n",
       "      <td>4.301036</td>\n",
       "      <td>24.298981</td>\n",
       "      <td>351.914129</td>\n",
       "      <td>0.014064</td>\n",
       "      <td>0.052813</td>\n",
       "      <td>0.079720</td>\n",
       "      <td>0.038803</td>\n",
       "      <td>0.027414</td>\n",
       "      <td>0.007060</td>\n",
       "      <td>...</td>\n",
       "      <td>4.833242</td>\n",
       "      <td>6.146258</td>\n",
       "      <td>33.602542</td>\n",
       "      <td>569.356993</td>\n",
       "      <td>0.022832</td>\n",
       "      <td>0.157336</td>\n",
       "      <td>0.208624</td>\n",
       "      <td>0.065732</td>\n",
       "      <td>0.061867</td>\n",
       "      <td>0.018061</td>\n",
       "    </tr>\n",
       "    <tr>\n",
       "      <th>min</th>\n",
       "      <td>6.981000</td>\n",
       "      <td>9.710000</td>\n",
       "      <td>43.790000</td>\n",
       "      <td>143.500000</td>\n",
       "      <td>0.052630</td>\n",
       "      <td>0.019380</td>\n",
       "      <td>0.000000</td>\n",
       "      <td>0.000000</td>\n",
       "      <td>0.106000</td>\n",
       "      <td>0.049960</td>\n",
       "      <td>...</td>\n",
       "      <td>7.930000</td>\n",
       "      <td>12.020000</td>\n",
       "      <td>50.410000</td>\n",
       "      <td>185.200000</td>\n",
       "      <td>0.071170</td>\n",
       "      <td>0.027290</td>\n",
       "      <td>0.000000</td>\n",
       "      <td>0.000000</td>\n",
       "      <td>0.156500</td>\n",
       "      <td>0.055040</td>\n",
       "    </tr>\n",
       "    <tr>\n",
       "      <th>25%</th>\n",
       "      <td>11.700000</td>\n",
       "      <td>16.170000</td>\n",
       "      <td>75.170000</td>\n",
       "      <td>420.300000</td>\n",
       "      <td>0.086370</td>\n",
       "      <td>0.064920</td>\n",
       "      <td>0.029560</td>\n",
       "      <td>0.020310</td>\n",
       "      <td>0.161900</td>\n",
       "      <td>0.057700</td>\n",
       "      <td>...</td>\n",
       "      <td>13.010000</td>\n",
       "      <td>21.080000</td>\n",
       "      <td>84.110000</td>\n",
       "      <td>515.300000</td>\n",
       "      <td>0.116600</td>\n",
       "      <td>0.147200</td>\n",
       "      <td>0.114500</td>\n",
       "      <td>0.064930</td>\n",
       "      <td>0.250400</td>\n",
       "      <td>0.071460</td>\n",
       "    </tr>\n",
       "    <tr>\n",
       "      <th>50%</th>\n",
       "      <td>13.370000</td>\n",
       "      <td>18.840000</td>\n",
       "      <td>86.240000</td>\n",
       "      <td>551.100000</td>\n",
       "      <td>0.095870</td>\n",
       "      <td>0.092630</td>\n",
       "      <td>0.061540</td>\n",
       "      <td>0.033500</td>\n",
       "      <td>0.179200</td>\n",
       "      <td>0.061540</td>\n",
       "      <td>...</td>\n",
       "      <td>14.970000</td>\n",
       "      <td>25.410000</td>\n",
       "      <td>97.660000</td>\n",
       "      <td>686.500000</td>\n",
       "      <td>0.131300</td>\n",
       "      <td>0.211900</td>\n",
       "      <td>0.226700</td>\n",
       "      <td>0.099930</td>\n",
       "      <td>0.282200</td>\n",
       "      <td>0.080040</td>\n",
       "    </tr>\n",
       "    <tr>\n",
       "      <th>75%</th>\n",
       "      <td>15.780000</td>\n",
       "      <td>21.800000</td>\n",
       "      <td>104.100000</td>\n",
       "      <td>782.700000</td>\n",
       "      <td>0.105300</td>\n",
       "      <td>0.130400</td>\n",
       "      <td>0.130700</td>\n",
       "      <td>0.074000</td>\n",
       "      <td>0.195700</td>\n",
       "      <td>0.066120</td>\n",
       "      <td>...</td>\n",
       "      <td>18.790000</td>\n",
       "      <td>29.720000</td>\n",
       "      <td>125.400000</td>\n",
       "      <td>1084.000000</td>\n",
       "      <td>0.146000</td>\n",
       "      <td>0.339100</td>\n",
       "      <td>0.382900</td>\n",
       "      <td>0.161400</td>\n",
       "      <td>0.317900</td>\n",
       "      <td>0.092080</td>\n",
       "    </tr>\n",
       "    <tr>\n",
       "      <th>max</th>\n",
       "      <td>28.110000</td>\n",
       "      <td>39.280000</td>\n",
       "      <td>188.500000</td>\n",
       "      <td>2501.000000</td>\n",
       "      <td>0.163400</td>\n",
       "      <td>0.345400</td>\n",
       "      <td>0.426800</td>\n",
       "      <td>0.201200</td>\n",
       "      <td>0.304000</td>\n",
       "      <td>0.097440</td>\n",
       "      <td>...</td>\n",
       "      <td>36.040000</td>\n",
       "      <td>49.540000</td>\n",
       "      <td>251.200000</td>\n",
       "      <td>4254.000000</td>\n",
       "      <td>0.222600</td>\n",
       "      <td>1.058000</td>\n",
       "      <td>1.252000</td>\n",
       "      <td>0.291000</td>\n",
       "      <td>0.663800</td>\n",
       "      <td>0.207500</td>\n",
       "    </tr>\n",
       "  </tbody>\n",
       "</table>\n",
       "<p>8 rows × 30 columns</p>\n",
       "</div>"
      ],
      "text/plain": [
       "       radio_promedio  textura_promedio  perimetro_promedio  area_promedio  \\\n",
       "count      569.000000        569.000000          569.000000     569.000000   \n",
       "mean        14.127292         19.289649           91.969033     654.889104   \n",
       "std          3.524049          4.301036           24.298981     351.914129   \n",
       "min          6.981000          9.710000           43.790000     143.500000   \n",
       "25%         11.700000         16.170000           75.170000     420.300000   \n",
       "50%         13.370000         18.840000           86.240000     551.100000   \n",
       "75%         15.780000         21.800000          104.100000     782.700000   \n",
       "max         28.110000         39.280000          188.500000    2501.000000   \n",
       "\n",
       "       suavidad_promedio  compactes_promedio  concavidad_promedio  \\\n",
       "count         569.000000          569.000000           569.000000   \n",
       "mean            0.096360            0.104341             0.088799   \n",
       "std             0.014064            0.052813             0.079720   \n",
       "min             0.052630            0.019380             0.000000   \n",
       "25%             0.086370            0.064920             0.029560   \n",
       "50%             0.095870            0.092630             0.061540   \n",
       "75%             0.105300            0.130400             0.130700   \n",
       "max             0.163400            0.345400             0.426800   \n",
       "\n",
       "       puntos_concavos_promedio  simetria_promedio  \\\n",
       "count                569.000000         569.000000   \n",
       "mean                   0.048919           0.181162   \n",
       "std                    0.038803           0.027414   \n",
       "min                    0.000000           0.106000   \n",
       "25%                    0.020310           0.161900   \n",
       "50%                    0.033500           0.179200   \n",
       "75%                    0.074000           0.195700   \n",
       "max                    0.201200           0.304000   \n",
       "\n",
       "       dimension_fractal_promedio           ...            radio_peor  \\\n",
       "count                  569.000000           ...            569.000000   \n",
       "mean                     0.062798           ...             16.269190   \n",
       "std                      0.007060           ...              4.833242   \n",
       "min                      0.049960           ...              7.930000   \n",
       "25%                      0.057700           ...             13.010000   \n",
       "50%                      0.061540           ...             14.970000   \n",
       "75%                      0.066120           ...             18.790000   \n",
       "max                      0.097440           ...             36.040000   \n",
       "\n",
       "       textura_peor  perimetro_peor    area_peor  suavidad_peor  \\\n",
       "count    569.000000      569.000000   569.000000     569.000000   \n",
       "mean      25.677223      107.261213   880.583128       0.132369   \n",
       "std        6.146258       33.602542   569.356993       0.022832   \n",
       "min       12.020000       50.410000   185.200000       0.071170   \n",
       "25%       21.080000       84.110000   515.300000       0.116600   \n",
       "50%       25.410000       97.660000   686.500000       0.131300   \n",
       "75%       29.720000      125.400000  1084.000000       0.146000   \n",
       "max       49.540000      251.200000  4254.000000       0.222600   \n",
       "\n",
       "       compactes_peor  concavidad_peor  puntos_concavos_peor  simetria_peor  \\\n",
       "count      569.000000       569.000000            569.000000     569.000000   \n",
       "mean         0.254265         0.272188              0.114606       0.290076   \n",
       "std          0.157336         0.208624              0.065732       0.061867   \n",
       "min          0.027290         0.000000              0.000000       0.156500   \n",
       "25%          0.147200         0.114500              0.064930       0.250400   \n",
       "50%          0.211900         0.226700              0.099930       0.282200   \n",
       "75%          0.339100         0.382900              0.161400       0.317900   \n",
       "max          1.058000         1.252000              0.291000       0.663800   \n",
       "\n",
       "       dimension_fractal_peor  \n",
       "count              569.000000  \n",
       "mean                 0.083946  \n",
       "std                  0.018061  \n",
       "min                  0.055040  \n",
       "25%                  0.071460  \n",
       "50%                  0.080040  \n",
       "75%                  0.092080  \n",
       "max                  0.207500  \n",
       "\n",
       "[8 rows x 30 columns]"
      ]
     },
     "execution_count": 9,
     "metadata": {},
     "output_type": "execute_result"
    }
   ],
   "source": [
    "data.describe()"
   ]
  },
  {
   "cell_type": "markdown",
   "metadata": {
    "slideshow": {
     "slide_type": "slide"
    }
   },
   "source": [
    "En _estadística_, la desviación estándar (representada por el índice **std** en la tabla anterior) es una medida que se utiliza para cuantificar la cantidad de variación o dispersión de un conjunto de valores de datos.  Una baja desviación estándar indica que los puntos de datos tienden a estar cerca de la media (también llamado el valor esperado) del conjunto, mientras que una alta desviación estándar indica que los puntos de datos se extienden en un rango más amplio de valores"
   ]
  },
  {
   "cell_type": "markdown",
   "metadata": {
    "slideshow": {
     "slide_type": "slide"
    }
   },
   "source": [
    "**Visualización: Gráficas** \n",
    "\n",
    "La visualización de los datos a través gráficas facilita la comprensión de la información que se quiere analizar. También ayuda a explicar los datos a otra persona.\n",
    "\n",
    "**Python** tiene varias bibliotecas de visualización interesantes, como **Matplotlib**, **Seaborn**, etc. Todos los atributos del conjunto de datos de Winsconsin son valores númericos. Para tener una idea de como se encuentran distribuídos, se agrupan en intervalos especificos. Después se generan las correspondientes  gráficas para estas distribuiciones\n",
    "***\n",
    "\n",
    "Use  la visualización de **Pandas** que se construye sobre **Matplotlib** para encontrar la distribución de datos de los atributos: "
   ]
  },
  {
   "cell_type": "code",
   "execution_count": 10,
   "metadata": {
    "scrolled": false,
    "slideshow": {
     "slide_type": "slide"
    }
   },
   "outputs": [
    {
     "data": {
      "text/plain": [
       "Diagnostico\n",
       "B    [[AxesSubplot(0.125,0.777333;0.125x0.102667), ...\n",
       "M    [[AxesSubplot(0.125,0.777333;0.125x0.102667), ...\n",
       "dtype: object"
      ]
     },
     "execution_count": 10,
     "metadata": {},
     "output_type": "execute_result"
    }
   ],
   "source": [
    "#Visualization of data\n",
    "data.groupby('Diagnostico').hist(figsize=(13, 16),xlabelsize = 5, ylabelsize = 5)"
   ]
  },
  {
   "cell_type": "markdown",
   "metadata": {
    "slideshow": {
     "slide_type": "slide"
    }
   },
   "source": [
    "De aqui se ve que  **Pandas** nos genera histrogramas haciendo divisiones automáticas en los intervalos de los datos. A veces se necesita ser más específico en el como se divirá las información, por lo que es necesario generar rutinas de codigo adicionales."
   ]
  },
  {
   "cell_type": "markdown",
   "metadata": {},
   "source": [
    "El manejo de números con decimales se realiza se la librería **NumPy**.\n",
    "\n",
    "**NumPy** es el paquete fundamental para la computación científica con **Python**. Además de sus obvios usos científicos, **NumPy** también se puede usar como un eficiente contenedor multidimensional de datos genéricos. Se pueden definir tipos de datos arbitrarios. Esto permite que NumPy se integre a la perfección con una amplia variedad de bases de datos."
   ]
  },
  {
   "cell_type": "markdown",
   "metadata": {},
   "source": [
    "La siguiente función agrupa los datos de una columna en intervalos iguales:"
   ]
  },
  {
   "cell_type": "code",
   "execution_count": 11,
   "metadata": {
    "slideshow": {
     "slide_type": "subslide"
    }
   },
   "outputs": [],
   "source": [
    "import numpy as np\n",
    "\n",
    "def divide_en_intervalos(columna,tajada):\n",
    "    \n",
    "    minimo = data[columna].min()\n",
    "    maximo = data[columna].max()\n",
    "    \n",
    "    intervalos = np.linspace(minimo, maximo,tajada)\n",
    "        \n",
    "    return pd.cut(np.float64(data[columna]), intervalos,precision=4,right=True,include_lowest=True)\n",
    "   "
   ]
  },
  {
   "cell_type": "markdown",
   "metadata": {
    "slideshow": {
     "slide_type": "slide"
    }
   },
   "source": [
    "Con esta función, construya otra función que itere sobre todas las columnas de nuestros datos númericos (y quite a la vez la columna 'Diagnostico'):"
   ]
  },
  {
   "cell_type": "code",
   "execution_count": 12,
   "metadata": {
    "slideshow": {
     "slide_type": "subslide"
    }
   },
   "outputs": [],
   "source": [
    "def intervalos(tajada):\n",
    "    \n",
    "    data_numerical = data.drop(columns=['Diagnostico'])\n",
    "    intervalos = {}\n",
    "    \n",
    "    for column in data_numerical:\n",
    "        \n",
    "        intervalos[column] = divide_en_intervalos(column,tajada + 1)      \n",
    "    \n",
    "    return intervalos\n"
   ]
  },
  {
   "cell_type": "markdown",
   "metadata": {
    "slideshow": {
     "slide_type": "slide"
    }
   },
   "source": [
    "_EJEMPLO._ El caso de 5 intervalos para el _radio promedio_:"
   ]
  },
  {
   "cell_type": "code",
   "execution_count": 13,
   "metadata": {
    "scrolled": true,
    "slideshow": {
     "slide_type": "subslide"
    }
   },
   "outputs": [
    {
     "name": "stdout",
     "output_type": "stream",
     "text": [
      "                    counts     freqs\n",
      "categories                          \n",
      "(6.9809, 11.2068]       98  0.172232\n",
      "(11.2068, 15.4326]     314  0.551845\n",
      "(15.4326, 19.6584]     105  0.184534\n",
      "(19.6584, 23.8842]      45  0.079086\n",
      "(23.8842, 28.11]         7  0.012302\n"
     ]
    }
   ],
   "source": [
    "print(intervalos(5)['radio_promedio'].describe())        "
   ]
  },
  {
   "cell_type": "markdown",
   "metadata": {
    "slideshow": {
     "slide_type": "slide"
    }
   },
   "source": [
    "Para tener una idea de como se encuentra distribuído el conjunto de datos, se agrupan  en intervalos específicos. Después se generan las gráficas para estas distribuiciones\n",
    "***"
   ]
  },
  {
   "cell_type": "markdown",
   "metadata": {
    "slideshow": {
     "slide_type": "subslide"
    }
   },
   "source": [
    "En ciencias de la computación, el tipo de datos _booleano_ es un tipo de datos que tiene uno de dos valores posibles (generalmente denotados como verdadero y falso), destinado a representar los dos valores de verdad de la lógica y el _álgebra booleana_.\n",
    "\n",
    "Creamos la columnas booleanas _Benigno_ y _Maligno_\n",
    "\n",
    "La columna _Benigno_ es igual a 1 si el diagnostico es 'Benigno' y 0 si es 'Maligno'\n",
    "\n",
    "La columna _Maligno_ es igual a 0 si el diagnostico es 'Benigno' y 1 si es 'Maligno'"
   ]
  },
  {
   "cell_type": "code",
   "execution_count": 14,
   "metadata": {
    "slideshow": {
     "slide_type": "subslide"
    }
   },
   "outputs": [],
   "source": [
    "data['Benigno'] = (data['Diagnostico']=='B')*1\n",
    "data['Maligno'] = 1 - data['Benigno']"
   ]
  },
  {
   "cell_type": "markdown",
   "metadata": {
    "slideshow": {
     "slide_type": "slide"
    }
   },
   "source": [
    "¿Qué relación guardan la forma del núcleo de la célula con la incidencia en el cáncer?\n",
    "\n",
    "Para tener poder constestar esta pregunta, se emplea un histograma de los casos positivos y negativos agrupados en los grupos de tamaño que escogimos anteriormente.\n",
    "\n",
    "**Pandas** incorpora rutinas de gráficos  de las bibliotecas **Matplotlib** (especificamente la sublibrería **Pyplot**) y  **Seaborn**"
   ]
  },
  {
   "cell_type": "code",
   "execution_count": 74,
   "metadata": {
    "slideshow": {
     "slide_type": "subslide"
    }
   },
   "outputs": [],
   "source": [
    "from matplotlib import pyplot as plt\n",
    "import seaborn as sns"
   ]
  },
  {
   "cell_type": "markdown",
   "metadata": {
    "slideshow": {
     "slide_type": "slide"
    }
   },
   "source": [
    "Defina  una función para generar un histograma que compara casos benignos y malignos en cada conjunto de intervalos númericos para un atributo en específico:"
   ]
  },
  {
   "cell_type": "code",
   "execution_count": 75,
   "metadata": {
    "slideshow": {
     "slide_type": "subslide"
    }
   },
   "outputs": [],
   "source": [
    "def histograma_benigno_maligno(intervalo,atributo,xdecimales):\n",
    "    \n",
    "    agrupado = data.groupby(intervalo[atributo])[['Benigno','Maligno']].sum();\n",
    "    ax = agrupado.plot.bar(\n",
    "                          rot=0, \\\n",
    "                          figsize=(5, 5),\\\n",
    "                          width = 0.9, \\\n",
    "                          stacked=True, \n",
    "                          title = atributo,   \n",
    "                          color=['blue', 'r']\n",
    "                        );\n",
    "    \n",
    "    xlabels = [str(np.around(c.left,decimals=xdecimales)) + ' a ' + str(np.around(c.right,decimals=xdecimales)) \\\n",
    "               for c in  agrupado.index.values];\n",
    "\n",
    "    ax.set_xticklabels(xlabels,fontsize=8);\n",
    "    \n",
    "    return ax"
   ]
  },
  {
   "cell_type": "markdown",
   "metadata": {
    "slideshow": {
     "slide_type": "slide"
    }
   },
   "source": [
    "Por ejemplo, el histograma para el radio promedio divido en tres tajadas es:"
   ]
  },
  {
   "cell_type": "code",
   "execution_count": 76,
   "metadata": {
    "slideshow": {
     "slide_type": "subslide"
    }
   },
   "outputs": [
    {
     "data": {
      "image/png": "[encoded data removed]",
      "text/plain": [
       "<matplotlib.figure.Figure at 0x7f92832c9eb8>"
      ]
     },
     "metadata": {},
     "output_type": "display_data"
    }
   ],
   "source": [
    "ax = histograma_benigno_maligno(intervalos(3),'radio_promedio',1)\n",
    "plt.show()"
   ]
  },
  {
   "cell_type": "markdown",
   "metadata": {
    "slideshow": {
     "slide_type": "slide"
    }
   },
   "source": [
    "Se puede ver que los radios mas pequeños representan mayores casos de cáncer. Mientras que los radios más grandes son casi todos casos malignos. Veamos si esta tendencia se mantiene al nivel de áreas y perímetros: "
   ]
  },
  {
   "cell_type": "code",
   "execution_count": 77,
   "metadata": {
    "scrolled": true,
    "slideshow": {
     "slide_type": "subslide"
    }
   },
   "outputs": [
    {
     "data": {
      "image/png": "[encoded data removed]",
      "text/plain": [
       "<matplotlib.figure.Figure at 0x7f92825cca90>"
      ]
     },
     "metadata": {},
     "output_type": "display_data"
    }
   ],
   "source": [
    "ax = histograma_benigno_maligno(intervalos(3),'perimetro_promedio' ,1)"
   ]
  },
  {
   "cell_type": "code",
   "execution_count": 78,
   "metadata": {
    "scrolled": true,
    "slideshow": {
     "slide_type": "slide"
    }
   },
   "outputs": [
    {
     "data": {
      "image/png": "[encoded data removed]",
      "text/plain": [
       "<matplotlib.figure.Figure at 0x7f9282487ba8>"
      ]
     },
     "metadata": {},
     "output_type": "display_data"
    }
   ],
   "source": [
    "ax = histograma_benigno_maligno(intervalos(3),'area_promedio',1 )"
   ]
  },
  {
   "cell_type": "markdown",
   "metadata": {
    "slideshow": {
     "slide_type": "slide"
    }
   },
   "source": [
    "En caso del área, la tendencia discutida en el caso del radio es mas aguda:\n",
    "\n",
    "1) La mayoría de los casos de cáncer aparecen en áreas pequeñas\n",
    "\n",
    "2) Las áreas pequeñas representan en su mayoría casos benignos, mientras que las áreas grandes representan en su mayoría casos malignos\n",
    "***"
   ]
  },
  {
   "cell_type": "markdown",
   "metadata": {
    "slideshow": {
     "slide_type": "slide"
    }
   },
   "source": [
    "Considere los atributos que _no_ están relacionados con la _extension_ de  los núcleos, sino con lo _características_ de la figura. Dos de estos atributos son la _simetría_ y la _dimensión fractal_\n",
    "\n",
    "### Simetría \n",
    "\n",
    "![](../images/symmetry.png)\n",
    "\n",
    "_<div style=\"text-align: center\"> Para medir la simetría, se encuentra el eje mayor. Luego, se mide la diferencia de longitud entre las líneas perpendiculares al eje mayor del límite de la celda en ambas direcciones. </div>_"
   ]
  },
  {
   "cell_type": "markdown",
   "metadata": {
    "slideshow": {
     "slide_type": "slide"
    }
   },
   "source": [
    "### Dimensión Fractal\n",
    "\n",
    "![](../images/fractal_dimension.png)\n",
    "\n",
    "_<div style=\"text-align: center\"> La dimensión fractal de una celda se aproxima utilizando la aproximación de \"línea de costa\" descrita por Mandelbrot. El perímetro del núcleo se mide utilizando 'reglas' cada vez más grandes. A medida que aumenta el tamaño de la regla, disminuye la precisión de la medición y disminuye el perímetro observado. Al trazar estos valores en una escala logarítmica y medir la pendiente descendente se obtiene (el negativo de) una aproximación a la dimensión fractal. Al igual que con todas las características de la forma, un valor más alto corresponde a un contorno menos regular y, por lo tanto, a una mayor probabilidad de malignidad. </div>_\n",
    "\n",
    "[_REFERENCIA_: Nuclear feature extraction for breast tumor diagnosis\n",
    "W. Nick Street, W. H. Wolberg, O. L. Mangasarian, Proceedings Volume 1905, Biomedical Image Processing and Biomedical Visualization; (1993) ]\n",
    "\n"
   ]
  },
  {
   "cell_type": "markdown",
   "metadata": {
    "slideshow": {
     "slide_type": "slide"
    }
   },
   "source": [
    "***\n",
    "Haga histogramas para estos dos atributos:"
   ]
  },
  {
   "cell_type": "code",
   "execution_count": 79,
   "metadata": {
    "scrolled": true,
    "slideshow": {
     "slide_type": "subslide"
    }
   },
   "outputs": [
    {
     "data": {
      "image/png": "[encoded data removed]",
      "text/plain": [
       "<matplotlib.figure.Figure at 0x7f9282690908>"
      ]
     },
     "metadata": {},
     "output_type": "display_data"
    }
   ],
   "source": [
    "ax = histograma_benigno_maligno(intervalos(4),'dimension_fractal_promedio',3 )"
   ]
  },
  {
   "cell_type": "code",
   "execution_count": 80,
   "metadata": {
    "slideshow": {
     "slide_type": "slide"
    }
   },
   "outputs": [
    {
     "data": {
      "image/png": "[encoded data removed]",
      "text/plain": [
       "<matplotlib.figure.Figure at 0x7f9282487198>"
      ]
     },
     "metadata": {},
     "output_type": "display_data"
    }
   ],
   "source": [
    "ax = histograma_benigno_maligno(intervalos(4),'simetria_promedio',3 )"
   ]
  },
  {
   "cell_type": "markdown",
   "metadata": {
    "slideshow": {
     "slide_type": "slide"
    }
   },
   "source": [
    "La distribución de tamaños en intervalos iguales no influye de manera tan decisiva en el tipo de cáncer (Maligno vs Benigno) como en el caso de áreas, radios y perímetros."
   ]
  },
  {
   "cell_type": "markdown",
   "metadata": {
    "slideshow": {
     "slide_type": "slide"
    }
   },
   "source": [
    "### Conclusiones \n",
    "\n",
    "Se ha visto como las diferentes características de los datos nos arrojan patrones permiten  diferenciar los casos malignos de los casos beginos. Una buena ingeniería de características es de vital importancia  cuando los conjuntos de datos son grandes, además nos ayuda a evitar el fenómeno de _'overfitting'_.\n",
    "\n",
    "En la siguiente sección se implementan las rutinas de Aprendizaje de Datos que permiten ofrecer predicciones"
   ]
  }
 ],
 "metadata": {
  "celltoolbar": "Slideshow",
  "kernelspec": {
   "display_name": "Python 3",
   "language": "python",
   "name": "python3"
  },
  "language_info": {
   "codemirror_mode": {
    "name": "ipython",
    "version": 3
   },
   "file_extension": ".py",
   "mimetype": "text/x-python",
   "name": "python",
   "nbconvert_exporter": "python",
   "pygments_lexer": "ipython3",
   "version": "3.6.4"
  }
 },
 "nbformat": 4,
 "nbformat_minor": 2
}
