{
 "cells": [
  {
   "cell_type": "code",
   "execution_count": 68,
   "metadata": {
    "scrolled": true
   },
   "outputs": [
    {
     "name": "stdout",
     "output_type": "stream",
     "text": [
      "Once deleted, variables cannot be recovered. Proceed (y/[n])? y\n"
     ]
    }
   ],
   "source": [
    "%reset"
   ]
  },
  {
   "cell_type": "markdown",
   "metadata": {
    "slideshow": {
     "slide_type": "slide"
    }
   },
   "source": [
    "<font color=blue>\n",
    "    _Objetivo de la lección_: Presentar el lenguaje de programación que estaremos usando: Python. \n",
    "</font>"
   ]
  },
  {
   "cell_type": "markdown",
   "metadata": {
    "slideshow": {
     "slide_type": "slide"
    }
   },
   "source": [
    "## Características Generales del Lenguaje "
   ]
  },
  {
   "cell_type": "markdown",
   "metadata": {
    "slideshow": {
     "slide_type": "fragment"
    }
   },
   "source": [
    "_Fuerte vs Dinámico_\n",
    "\n",
    "En computación  a menudo se usa el término _lenguaje fuertemente tecleado_ para referirse a un lenguaje que está tipificado estáticamente (los tipos están asociados con una declaración de variable) o, más generalmente, el compilador puede decir a qué tipo se refiere una variable, por ejemplo, a través de la inferencia de tipos, sin ejecutar el programa) y _fuertemente tecleado_ (restrictivo sobre cómo se pueden mezclar los tipos). Por lo tanto, si nos fijamos en la tipificación dinámica y la tipificación fuerte como conceptos ortogonales. \n",
    "\n",
    "<h5 align=\"center\"> _Python puede teclearse dinámica y fuertemente_</h5> \n"
   ]
  },
  {
   "cell_type": "markdown",
   "metadata": {
    "slideshow": {
     "slide_type": "slide"
    }
   },
   "source": [
    "### ...Características Generales...\n",
    "\n",
    "Orientado a Objectos vs Funcional: **Python** soporta ambas. \n",
    "\n",
    "_Al final hacemos uso de las funciones del lenguaje que hacen el trabajo con el código más corto y limpio posible. Si eso significa que mezclar ambas, entonces es lo que se hacemos_\n",
    "\n"
   ]
  },
  {
   "cell_type": "markdown",
   "metadata": {
    "slideshow": {
     "slide_type": "fragment"
    }
   },
   "source": [
    "**Python** distingue Mayusculas y Minusculas (_Case Sensitive_)\n"
   ]
  },
  {
   "cell_type": "code",
   "execution_count": 69,
   "metadata": {
    "scrolled": false,
    "slideshow": {
     "slide_type": "fragment"
    }
   },
   "outputs": [
    {
     "ename": "NameError",
     "evalue": "name 'X' is not defined",
     "output_type": "error",
     "traceback": [
      "\u001b[0;31m---------------------------------------------------------------------------\u001b[0m",
      "\u001b[0;31mNameError\u001b[0m                                 Traceback (most recent call last)",
      "\u001b[0;32m<ipython-input-69-37a8cd86d034>\u001b[0m in \u001b[0;36m<module>\u001b[0;34m()\u001b[0m\n\u001b[1;32m      1\u001b[0m \u001b[0;31m#Ejemplo\u001b[0m\u001b[0;34m\u001b[0m\u001b[0;34m\u001b[0m\u001b[0m\n\u001b[1;32m      2\u001b[0m \u001b[0mx\u001b[0m \u001b[0;34m=\u001b[0m \u001b[0;36m1\u001b[0m\u001b[0;34m\u001b[0m\u001b[0m\n\u001b[0;32m----> 3\u001b[0;31m \u001b[0mprint\u001b[0m\u001b[0;34m(\u001b[0m\u001b[0mX\u001b[0m\u001b[0;34m)\u001b[0m\u001b[0;34m\u001b[0m\u001b[0m\n\u001b[0m",
      "\u001b[0;31mNameError\u001b[0m: name 'X' is not defined"
     ]
    }
   ],
   "source": [
    "#Ejemplo\n",
    "x = 1\n",
    "print(X)"
   ]
  },
  {
   "cell_type": "markdown",
   "metadata": {},
   "source": [
    "#### Sin caracteres de terminación de declaración obligatorios"
   ]
  },
  {
   "cell_type": "code",
   "execution_count": 70,
   "metadata": {},
   "outputs": [
    {
     "name": "stdout",
     "output_type": "stream",
     "text": [
      "este funciona\n",
      "este también\n"
     ]
    }
   ],
   "source": [
    "print('este funciona'),\n",
    "print('este también')"
   ]
  },
  {
   "cell_type": "markdown",
   "metadata": {},
   "source": [
    "#### Los bloques se especifican por sangría. \n",
    "\n",
    "Sangrar para comenzar un bloque, des-sangrar para terminar uno. \n",
    "\n",
    "Las declaraciones que esperan un nivel de sangría terminan en dos puntos (:). Los comentarios comienzan con el signo de número (#) y son de una sola línea, las cadenas de varias líneas se utilizan para comentarios de varias líneas.\n"
   ]
  },
  {
   "cell_type": "code",
   "execution_count": 71,
   "metadata": {},
   "outputs": [
    {
     "name": "stdout",
     "output_type": "stream",
     "text": [
      "dentro del if\n",
      "fuera del if\n"
     ]
    }
   ],
   "source": [
    "#Esto es un comentario y no será compilado\n",
    "\n",
    "if True:\n",
    "    \n",
    "    #Sangria por que estamos dentro de un if\n",
    "    print('dentro del if')\n",
    "    \n",
    "#Sin sangría    \n",
    "print('fuera del if')    "
   ]
  },
  {
   "cell_type": "markdown",
   "metadata": {},
   "source": [
    "Los valores se asignan (de hecho, los objetos están vinculados a los nombres) con el signo igual (\"=\"), y la prueba de igualdad se realiza utilizando dos signos iguales (\"==\"). \n",
    "Puede aumentar/disminuir los valores utilizando los operadores + = y - = respectivamente por la cantidad de la mano derecha. Esto funciona en muchos tipos de datos, incluidas las cadenas. También puede utilizar múltiples variables en una línea."
   ]
  },
  {
   "cell_type": "code",
   "execution_count": 72,
   "metadata": {},
   "outputs": [
    {
     "name": "stdout",
     "output_type": "stream",
     "text": [
      "1\n",
      "2\n"
     ]
    }
   ],
   "source": [
    "#x vale 1\n",
    "x  = 1\n",
    "print(x)\n",
    "#Nos preguntamos si x vale 1\n",
    "x == 1\n",
    "#Sumamos 1 a x\n",
    "x+=1\n",
    "print(x)"
   ]
  },
  {
   "cell_type": "code",
   "execution_count": 73,
   "metadata": {},
   "outputs": [
    {
     "name": "stdout",
     "output_type": "stream",
     "text": [
      "Hola mundo\n"
     ]
    }
   ],
   "source": [
    "#+= Funciona en cadenas\n",
    "var = 'Hola'\n",
    "var += ' mundo'\n",
    "print(var)"
   ]
  },
  {
   "cell_type": "markdown",
   "metadata": {},
   "source": [
    "### Tipos de Datos"
   ]
  },
  {
   "cell_type": "markdown",
   "metadata": {},
   "source": [
    "Las estructuras de datos disponibles en python son _listas_, _tuplas_ y _diccionarios_. Los conjuntos están disponibles en la biblioteca de conjuntos. \n",
    "\n",
    "Las _listas_ son _como_ matrices unidimensionales (pero también puede tener listas de otras listas)\n",
    "\n",
    "Los _diccionarios_ son matrices asociativas (también conocidas como tablas hash) \n",
    "\n",
    "Las _tuplas_ son matrices unidimensionales inmutables \n",
    "\n",
    "**[las “matrices” de Python pueden ser de cualquier tipo, por lo que puede mezclar, por ejemplo, enteros, cadenas, etc. en listas / diccionarios / tuplas] **\n",
    "\n",
    "El índice del primer elemento en todos los tipos de matriz es 0. Los números negativos cuentan desde el final hasta el principio, -1 es el último elemento. Las variables pueden apuntar a funciones."
   ]
  },
  {
   "cell_type": "code",
   "execution_count": 74,
   "metadata": {},
   "outputs": [
    {
     "name": "stdout",
     "output_type": "stream",
     "text": [
      "4\n"
     ]
    }
   ],
   "source": [
    "#Lista\n",
    "ejemplo = [1, ['otra lista'], 'letras', ('esto es', 'una tupla')] #Combinadas\n",
    "milista = [1,34, 'letras',2.78] #Combinadas\n",
    "milista[0] = \"ahora es caracter\"  # Notemos que \" \" y ' 'son igualmente válidas\n",
    "milista[-1] = 3.21 # Nos referimos al último elemento.\n",
    "midic = {\"llave 1\": \"valor 1\", 2: 3, \"euler\": 2.78}\n",
    "midic[\"euler\"] = 3 # Así cambiamos valores en los diccionario\n",
    "mitupla = (1, 2, 3)\n",
    "mifuncion = len #Apunta hacia función predeterminada len\n",
    "print(mifuncion(ejemplo))"
   ]
  },
  {
   "cell_type": "code",
   "execution_count": 21,
   "metadata": {},
   "outputs": [],
   "source": [
    "# Esto intercambia las variables en una línea (!).\n",
    "# No viola la tipificación fuerte porque los valores no son\n",
    "# siendo asignado realmente, pero los nuevos objetos están vinculados a\n",
    "# los viejos nombres.\n",
    "x, milista = milista, x"
   ]
  },
  {
   "cell_type": "markdown",
   "metadata": {},
   "source": [
    "Puede acceder a los rangos de la matriz utilizando los dos puntos (:). Dejar el índice de inicio vacío supone el primer elemento, y el índice final supone el último elemento. La indexación es inclusiva-exclusiva, por lo que al especificar [2:10] se devolverán los ítems [2] (el tercer ítem, debido a la indexación 0) a [9] (el décimo ítem), inclusive (8 ítems). Los índices negativos cuentan desde el último elemento hacia atrás (por lo tanto, -1 es el último elemento) así:"
   ]
  },
  {
   "cell_type": "code",
   "execution_count": 25,
   "metadata": {
    "scrolled": true
   },
   "outputs": [
    {
     "name": "stdout",
     "output_type": "stream",
     "text": [
      "['List item 1', 2, 3.14]\n",
      "['List item 1', 2]\n"
     ]
    }
   ],
   "source": [
    "milista = [\"List item 1\", 2, 3.14]\n",
    "print(milista[:])\n",
    "print(milista[0:2])"
   ]
  },
  {
   "cell_type": "code",
   "execution_count": 26,
   "metadata": {},
   "outputs": [
    {
     "name": "stdout",
     "output_type": "stream",
     "text": [
      "['List item 1', 2]\n",
      "[2, 3.14]\n",
      "['List item 1', 3.14]\n"
     ]
    }
   ],
   "source": [
    "print(milista[-3:-1])\n",
    "print(milista[1:])\n",
    "print(milista[::2])"
   ]
  },
  {
   "cell_type": "markdown",
   "metadata": {
    "slideshow": {
     "slide_type": "slide"
    }
   },
   "source": [
    "### Caracteres"
   ]
  },
  {
   "cell_type": "markdown",
   "metadata": {},
   "source": [
    "Las cadenas pueden usar comillas simples o dobles, y puede tener comillas de un tipo dentro de una cadena que usa el otro tipo (es decir, \"Él dijo 'hola'\" es válido). Las cadenas multilínea se incluyen entre _triple comillas dobles (o simples) (\"\" \"). Las cadenas de Python siempre son Unicode, pero hay otro tipo de cadena que es bytes puros. Estos se denominan secuencias de bytes y se representan con el prefijo b, por ejemplo, b'Hello \\ xce \\ xb1 '. . Para llenar una cadena con valores, use el operado r% (módulo) y una tupla. Cada %s se reemplaza con un elemento de la tupla, de izquierda a derecha, como por ejemplo:"
   ]
  },
  {
   "cell_type": "code",
   "execution_count": 48,
   "metadata": {},
   "outputs": [
    {
     "name": "stdout",
     "output_type": "stream",
     "text": [
      "Nombre: enrique, Numero: 3, Letra: ---\n"
     ]
    }
   ],
   "source": [
    "print(\"Nombre: %s,\\\n",
    " Numero: %s,\\\n",
    " Letra: %s\" % ('enrique' ,3, 3 * \"-\"))"
   ]
  },
  {
   "cell_type": "code",
   "execution_count": 49,
   "metadata": {},
   "outputs": [
    {
     "name": "stdout",
     "output_type": "stream",
     "text": [
      "Esto es a prueba.\n",
      "Hola, Enrique!\n"
     ]
    }
   ],
   "source": [
    "#Mire la s en \"%(llave)s\".\n",
    "print(\"Esto %(verbo)s a %(sustantivo)s.\" % {\"sustantivo\": \"prueba\", \"verbo\": \"es\"})\n",
    "name = \"Enrique\"\n",
    "print(f\"Hola, {name}!\")"
   ]
  },
  {
   "cell_type": "markdown",
   "metadata": {
    "slideshow": {
     "slide_type": "slide"
    }
   },
   "source": [
    "### Declaraciones de control de flujo\n",
    "Las declaraciones de control de flujo son **if**, **for** y **while**. No hay **switch**; en su lugar, use **if**. Use **for** para enumerar a través de miembros de una lista. Para obtener una lista de números, use el _rango(numero)_. La sintaxis de estas declaraciones es por lo tanto:\n"
   ]
  },
  {
   "cell_type": "code",
   "execution_count": 66,
   "metadata": {},
   "outputs": [
    {
     "name": "stdout",
     "output_type": "stream",
     "text": [
      "range(0, 10)\n",
      "primer elemento 0\n"
     ]
    }
   ],
   "source": [
    "listarango = range(10)\n",
    "print(listarango)\n",
    "print('primer elemento', listarango[0])"
   ]
  },
  {
   "cell_type": "code",
   "execution_count": 61,
   "metadata": {},
   "outputs": [],
   "source": [
    "for numero in listarango:\n",
    "    # Verifica si el numero es uno Check\n",
    "    # de los numeros en la tupla.\n",
    "    if numero in (3, 4, 7, 9):\n",
    "        # Con 'break' rompemos la clausula \n",
    "        # o ejecutamos la clausula 'else'\n",
    "        break\n",
    "    else:\n",
    "        # \"Continue\" empieza la siguiente iteracion\n",
    "        # del lazo. No tiene algun uso aqui,\n",
    "        # puesto que es la ultima setencia del lazo  \n",
    "        continue\n",
    "else:\n",
    "    # Este 'else' es opcional y es\n",
    "    # ejecutado solo si el lazon no rompe ('break').\n",
    "    pass # No hacemos nada"
   ]
  },
  {
   "cell_type": "code",
   "execution_count": 67,
   "metadata": {},
   "outputs": [
    {
     "name": "stdout",
     "output_type": "stream",
     "text": [
      "No lo sé\n"
     ]
    }
   ],
   "source": [
    "if listarango[1] == 2:\n",
    "    print(\"El segundo item (las listas basadas en cero) es 2\")\n",
    "elif listarango[1] == 3:\n",
    "    print(\"El segundo item (las listas basadas en cero) es 3\")\n",
    "else:\n",
    "    print(\"No lo sé\")"
   ]
  },
  {
   "cell_type": "markdown",
   "metadata": {},
   "source": [
    "![](images/info-atributos-cropped.png)\n"
   ]
  }
 ],
 "metadata": {
  "celltoolbar": "Slideshow",
  "kernelspec": {
   "display_name": "Python 3",
   "language": "python",
   "name": "python3"
  },
  "language_info": {
   "codemirror_mode": {
    "name": "ipython",
    "version": 3
   },
   "file_extension": ".py",
   "mimetype": "text/x-python",
   "name": "python",
   "nbconvert_exporter": "python",
   "pygments_lexer": "ipython3",
   "version": "3.6.4"
  }
 },
 "nbformat": 4,
 "nbformat_minor": 2
}
